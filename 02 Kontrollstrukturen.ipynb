{
 "cells": [
  {
   "cell_type": "markdown",
   "metadata": {},
   "source": [
    "# 2. Kapitel: Kontrollstrukturen (spezielle Anweisungen zur Regelung der Anweisungsabarbeitungsreihenfolge)\n",
    "\n",
    "Spezielle Anweisungen, die durch reservierte Schlüsselworte einer imperativen Programmiersprache wie Python gegeben werden, erlauben es uns, die Abarbeitungsreihenfolge der Anweisungen eines laufenden Programmes zu regeln, beispielsweise aufgrund von Eingaben (engl. *input*) in das laufende Programm oder seinem aktuellen internen (Daten-)Zustand (engl. *[internal data] state*). Die vier grundlegenden, strukturierenden „Flüsse“ von Anweisungen (im Sinne der Regelung ihrer Abarbeitungsreihenfolge, engl. *control flow*) in einem jedem  „laufenden“ (das heißt sich gerade in Ausführung befindlichen) Computerprogramms umfassen die folgenden [vier grundlegenden „Kontrollstrukturen“ (des Anweisungsflusses)](https://www.cornelsen.de/sites/medienelemente_cms/mel_xslt_gen/progs/medien/mels_stat/mel_152004.pdf):\n",
    "1. (Lineare) **Sequenz**\n",
    "1. (Bedingte) **Auswahl**\n",
    "1. **Wiederholung** (mittels Iteration  [fortgeschritten auch mittels der sog. Rekursion möglich])\n",
    "1. **Unterprogrammtechnik** (kommt erst im 4. Kapitel)\n",
    "\n",
    "Einige typische Beispiele für die Regelung der Anweisungsabarbeitungsreihenfolge in laufenden Computerprogrammen sind:\n",
    "\n",
    "- Wenn (aktueller Zustand) 'X' dann (führe aus) Anweisung 'A', ansonsten wenn (aktueller Zustand) 'Y' dann (führe aus) Anweisung 'B'\n",
    "- Führe Anweisung 'A' 'N'-mal aus\n",
    "- Führe die Anweisung 'B' aus, solange 'X' wahr ist (d. h. der aktuelle Zustand von 'X' eine vorgegebene Regel erfüllt)\n",
    "\n",
    "Die lineare (sequenzielle) Abarbeitungsreihenfolge (kurz: die „Sequenz“) von Computeranweisungen ist der Standardfall in  Computerprogrammen für die Abarbeitungsreihenfolge von Anweisungenn (engl. *statements*). Spezielle, reservierte Schlüsselworte (engl. *keywords*) einer imperativen Programmiersprache wie Python kennzeichnen eine davon abweichende Regelung der Abarbeitungsreihenfolge, wo diese von der standardgmäßigen sequenziellen Abarbeitungsreihenfolge abweichen soll, wenn zur Laufzeit bestimmte Eingaben in das Programm erfolgen oder der aktuelle innere (Daten-)Zustand eines laufenden Programmes eine (ingenieursmäßig vorgegebene oder maschinell bestimmte) Regel erfüllt. Die drei  nicht-standardmäßigen Kontrollstrukturen sind ein wesentlicher Bestandteil eines jeden nicht trivialen Computerprogramms.\n",
    "\n",
    "\n",
    "## Lernziele\n",
    "\n",
    "- Den booleschen Datentyp verstehen und in Regelungen zur Anweisungsabarbeitungsreihenfolge angemessen anwenden können\n",
    "- Vergleichsoepratoren verstehen und in  Regelungen zur Anweisungsabarbeitungsreihenfolge angemessen anwenden können\n",
    "- Kompetenz in Kenntnis, Verständnis, Anwendung und Diskussion der speziellen Python-Anweisungen zur Regelung der Anweisungsabarbeitungsreihenfolge durch das Studium von Beispielen und die Bearbeitung entsprechender Übungsaufgaben erwerben\n",
    "\n",
    "\n",
    "## Beispiel für eine Regelung der Anweisungsabarbeitungsfolge in Pseudocode\n",
    "\n",
    "Ein elektrischer Fensteröffner, der an einen Regensensor und eine Temperaturmessgerät angeschlossen ist, könnte durch das folgende Programm, das in einem sog. Pseudocode formuliert ist, gesteuert werden:\n",
    "\n",
    "    wenn es_regnet:              # Wenn es regnet,\n",
    "        schliesse_Fenster()      #     dann schließe das Fenster.\n",
    "    sonst wenn temperatur > 26:  # Wenn die Temperatur über 26 Grad Celcius liegt,\n",
    "        oeffne_Fenster()         #     dann öffne das Fenster.\n",
    "    sonst wenn temperatur < 19:  # Wenn die Temperatur unter 19 Grad Celcius liegt,\n",
    "        schliesse_Fenster()      #     dann schließe das Fenster.\n",
    "    sonst:                       # Ansonsten\n",
    "        pass                     #      tue nichts (und lasse das Fenster so wie es ist.) \n",
    "                                 #      (Um nichts zu tun, gibt es in Python das\n",
    "                                 #       reservierte Schlüsselwort \"pass\".)\n",
    "\n",
    "Man kann sich leicht vorstellen, dass dieses Programm unter Verwendung der Tageszeit und des Wochentags angepasst oder zusätzlich noch ein Rauchmelder angeschlossen werden soll.\n",
    "\n",
    "Wir werden uns dazu in diesem Kapitel verschiedene Arten von Anweisungen zur Regelung der Anweisungsabarbeitungsreihenfolge ansehen, aber zuerst müssen wir dazu den booleschen Datentyp und Vergleichsoperatoren als technische Voraussetzung einführen."
   ]
  },
  {
   "cell_type": "markdown",
   "metadata": {},
   "source": [
    "# Boolescher Datentyp\n",
    "\n",
    "Bevor wir mit den speziellen Python-Anweidungen zur Regelung der Anweisungsabarbeitungsfolge widmen, müssen wir den booleschen Datentyp einführen. Eine boolesche Variable kann genau einen von nur zwei möglichen Werten aufnehmen: wahr oder falsch (in Python ausgedrückt durch die beiden reservierten Schlüsselworte `True` bzw. `False`)."
   ]
  },
  {
   "cell_type": "code",
   "execution_count": 1,
   "metadata": {},
   "outputs": [
    {
     "name": "stdout",
     "output_type": "stream",
     "text": [
      "True\n",
      "False\n"
     ]
    }
   ],
   "source": [
    "a = True\n",
    "print(a)\n",
    "\n",
    "a = False\n",
    "print(a)"
   ]
  },
  {
   "cell_type": "markdown",
   "metadata": {},
   "source": [
    "Boolesche Ausdrücke werden in allen imperativen Programmiersprachen breit gefächert („extensiv“) in den speziellen Anweisungen zur Regelung der Abarbeitungsreihenfolge verwendet."
   ]
  },
  {
   "cell_type": "markdown",
   "metadata": {},
   "source": [
    "# Vergleichsoperatoren\n",
    "\n",
    "Oftmals wollen wir in einem Programm überprüfen, wie zwei Variablen zueinander in Beziehung stehen, z. B. ob der Inhalt der einen kleiner als der Inhalt der anderen ist, oder ob zwei Variablen die gleichen Inhalte aufweisen. Das tun wir mittels „Vergleichsoperatoren“, wie beispielsweise `<`, `<=`, `>`, `>=` und `==`. \n",
    "\n",
    "Im nachfolgenden Beispiel wird geprüft, ob eine Zahl `a` kleiner oder größer als eine Zahl `b` ist:"
   ]
  },
  {
   "cell_type": "code",
   "execution_count": 2,
   "metadata": {},
   "outputs": [
    {
     "name": "stdout",
     "output_type": "stream",
     "text": [
      "False\n",
      "True\n"
     ]
    }
   ],
   "source": [
    "a = 10.0\n",
    "b = 9.9\n",
    "print(a < b)\n",
    "print(a > b)"
   ]
  },
  {
   "cell_type": "markdown",
   "metadata": {},
   "source": [
    "Die Gleichheit wird mit `==` geprüft, und `!=` wird verwendet, um zu testen, ob zwei Variablen nicht gleich sind. Nachfolgend sind einige Beispiele für Sie zum Studieren aufgeführt."
   ]
  },
  {
   "cell_type": "code",
   "execution_count": 3,
   "metadata": {},
   "outputs": [
    {
     "name": "stdout",
     "output_type": "stream",
     "text": [
      "Ist a gleich  b?\n",
      "False\n",
      "Ist a kleiner oder gleich c?\n",
      "True\n",
      "Ist farbe0 gleich farbe1?\n",
      "False\n"
     ]
    }
   ],
   "source": [
    "a = 14\n",
    "b = -9\n",
    "c = 14\n",
    "\n",
    "# Prüfe, ob a gleich b ist.\n",
    "print(\"Ist a gleich  b?\")\n",
    "print(a == b)\n",
    "\n",
    "# Prüfe, ob a kleiner oder gleich c ist.\n",
    "print(\"Ist a kleiner oder gleich c?\")\n",
    "print(a <= c)\n",
    "\n",
    "# Prüfe, ob zwei Farben gleich sind.\n",
    "farbe0 = 'blau'\n",
    "farbe1 = 'grün'\n",
    "print(\"Ist farbe0 gleich farbe1?\")\n",
    "print(farbe0 == farbe1)"
   ]
  },
  {
   "cell_type": "markdown",
   "metadata": {},
   "source": [
    "# Boolesche Operatoren\n",
    "\n",
    "In den obigen Ausführungen haben wir jeweils nur einen Vergleich verwendet. Boolesche Operatoren erlauben es uns, mehrere Prüfungen mit den Operatoren `and`, `or` and `not` aneinander zu „reihen“.\n",
    "Die Operatoren `and` und `or` nehmen einen booleschen Wert auf jeder Seite, und der Code\n",
    "\n",
    "```python\n",
    "x and y\n",
    "```\n",
    "wird als `True` ausgewertet, wenn `x` *und* `y` beide `True` sind und andernfalls als `False`. Der Code\n",
    "\n",
    "```python\n",
    "x or y\n",
    "```\n",
    "wird als `True` ausgewertet, wenn zumindest `x` *oder* `y` `True` ist  und andernfalls als `False`.\n",
    "Nachfolgend einige Beispiele dazu:"
   ]
  },
  {
   "cell_type": "code",
   "execution_count": 4,
   "metadata": {},
   "outputs": [
    {
     "name": "stdout",
     "output_type": "stream",
     "text": [
      "False\n"
     ]
    }
   ],
   "source": [
    "# Prüfe, ob 10 < 9 (falsch) und 15 < 20 (wahr) ==> falsch\n",
    "print(10 < 9 and 15 < 20)"
   ]
  },
  {
   "cell_type": "code",
   "execution_count": 5,
   "metadata": {},
   "outputs": [
    {
     "name": "stdout",
     "output_type": "stream",
     "text": [
      "True\n"
     ]
    }
   ],
   "source": [
    "# Prüfe, ob 10 < 9 (falsch) oder 15 < 20 (wahr) ==> wahr\n",
    "print(10 < 9 or 15 < 20)"
   ]
  },
  {
   "cell_type": "markdown",
   "metadata": {},
   "source": [
    "Die „inhaltliche Bedeutung“ (informatischer Fachbegriff: die „Semantik“) der obigen booleschen Ausdrücke wird verständlich, wenn man sie von links nach rechts nachvollzieht.\n",
    "\n",
    "Es folgt ein einfaches Beispiel, das anhand der aktuellen Tageszeit prüft, \n",
    "- ob es gerade Mittagszeit ist und anschließend\n",
    "- ob es gerade Freizeit (also außerhalb der Arbeitszeit) ist."
   ]
  },
  {
   "cell_type": "code",
   "execution_count": 6,
   "metadata": {},
   "outputs": [
    {
     "name": "stdout",
     "output_type": "stream",
     "text": [
      "Ist es gerade Mittagszeit?\n",
      "True\n",
      "Ist es gerade Freizeit (außerhalb der Arbeitszeit)?\n",
      "False\n"
     ]
    }
   ],
   "source": [
    "zeit = 13.05  # die aktuelle Zeit\n",
    "\n",
    "arbeit_anfang = 8.00  # Beginn des Arbeitstages\n",
    "arbeit_ende = 17.00  # Ende  des Arbeitstages\n",
    "\n",
    "mittag_anfang = 13.00  # Beginn der Mittagszeit\n",
    "mittag_ende = 14.00  # Ende der Mittagszeit\n",
    "\n",
    "# Prüfe, ob es Mittagszeit ist:\n",
    "print(\"Ist es gerade Mittagszeit?\")\n",
    "ist_mittagszeit = zeit >= mittag_anfang and zeit < mittag_ende\n",
    "print(ist_mittagszeit)\n",
    "\n",
    "# Prüfe, ob es gerade Freizeit (also außerhalb der Arbeitszeit) ist:\n",
    "print(\"Ist es gerade Freizeit (außerhalb der Arbeitszeit)?\")\n",
    "ist_freizeit = zeit < arbeit_anfang or zeit >= arbeit_ende\n",
    "print(ist_freizeit)"
   ]
  },
  {
   "cell_type": "markdown",
   "metadata": {},
   "source": [
    "Beachten Sie, dass die Vergleichsoperatoren (`>=`, `<=`, `<` und `>`) vor den booleschen Operatoren (`and`, `or`) ausgewertet („evaluiert“) werden. \n",
    "\n",
    "In Python komplementiert („negiert“) der Operator `not` den Wert einer booleschen Aussage, zum Beispiel:"
   ]
  },
  {
   "cell_type": "code",
   "execution_count": 7,
   "metadata": {},
   "outputs": [
    {
     "name": "stdout",
     "output_type": "stream",
     "text": [
      "True\n"
     ]
    }
   ],
   "source": [
    "# Ist 12 *nicht* kleiner als 7 ==> wahr\n",
    "a = 12\n",
    "b = 7\n",
    "print(not a < b)"
   ]
  },
  {
   "cell_type": "markdown",
   "metadata": {},
   "source": [
    "Verwenden Sie den Operator `not`  nur dort, wo er ein Programm leichter lesbar macht. Das nachfolgende Beispiel:"
   ]
  },
  {
   "cell_type": "code",
   "execution_count": 8,
   "metadata": {},
   "outputs": [
    {
     "name": "stdout",
     "output_type": "stream",
     "text": [
      "True\n"
     ]
    }
   ],
   "source": [
    "print(not 12 == 7)"
   ]
  },
  {
   "cell_type": "markdown",
   "metadata": {},
   "source": [
    "entspricht deshalb keiner guten Praxis. Verständlicher ist die folgende Formulierung"
   ]
  },
  {
   "cell_type": "code",
   "execution_count": 9,
   "metadata": {},
   "outputs": [
    {
     "name": "stdout",
     "output_type": "stream",
     "text": [
      "True\n"
     ]
    }
   ],
   "source": [
    "print(12 != 7)"
   ]
  },
  {
   "cell_type": "markdown",
   "metadata": {},
   "source": [
    "Es folgt ein Beispiel für eine doppelte Verneinung, die sehr kryptisch und besonders schlechter Programmierstil ist:"
   ]
  },
  {
   "cell_type": "code",
   "execution_count": 10,
   "metadata": {},
   "outputs": [
    {
     "name": "stdout",
     "output_type": "stream",
     "text": [
      "False\n"
     ]
    }
   ],
   "source": [
    "print(not not 12 == 7)"
   ]
  },
  {
   "cell_type": "markdown",
   "metadata": {},
   "source": [
    "## Boolesche Ausdrücke mit mehreren Vergleichsoperatoren\n",
    "\n",
    "Die bisherigen Beispiele verwenden höchstens zwei Vergleichsoperatoren. In einigen Fällen möchten wir vielleicht mehr Prüfungen durchführen. Wir können die Reihenfolge der Auswertung mit Hilfe von Klammern regeln. Zum Beispiel, wenn wir prüfen wollen, ob eine Zahl zwischen 100 und 200 oder zwischen 10 und 50 liegt:"
   ]
  },
  {
   "cell_type": "code",
   "execution_count": 11,
   "metadata": {},
   "outputs": [
    {
     "name": "stdout",
     "output_type": "stream",
     "text": [
      "True\n"
     ]
    }
   ],
   "source": [
    "zahl = 150.5\n",
    "print ((zahl > 100 and zahl < 200) or (zahl > 10 and zahl < 50)) "
   ]
  },
  {
   "cell_type": "markdown",
   "metadata": {},
   "source": [
    "Die beiden Prüfungen in den Klammern werden zuerst ausgewertet (jede wertet zu `True` oder `False` aus), und anschließend wird durch den Operator `or` geprüft, ob zumindest eine der beiden Auswertungen `True` ist."
   ]
  },
  {
   "cell_type": "markdown",
   "metadata": {},
   "source": [
    "# Anweisungen zur Regelung der Anweisungsabarbeitungsreihenfolge\n",
    "\n",
    "Nachdem wir nun boolesche Ausdrücke und Vergleichsoperatoren behandelt haben, sind wir gerüstet, um uns mit den speziellen Python-Anweisungen zur Regelung der Anweisungsabarbeitungsreihenfolge zu befassen. Diese Anweisungen sind ein grundlegender Bestandteil der anweisungsorientierten (auch informatisch bezeichnet als „imperativen“) Programmierung. Es folgt ein Beispiel für eine solche Regelung der Anweisungsabarbeitungsreihenfolge in Pseudocode:\n",
    "\n",
    "    wenn A wahr ist:\n",
    "        führe nur Aufgabe X aus\n",
    "    sonst wenn B wahr ist:\n",
    "        führe nur Aufgabe Y aus\n",
    "    sonst:   \n",
    "        führe nur Aufgabe Z aus\n",
    "\n",
    "Die vorhergende Anweisungsfolge ist eine „wenn“-Anweisung. Eine andere Art Anweisung zur Regelung der Anweisungsabarbeitungsreihenfolge ist die Wiederholdung (engl. *iteration*); in Pseudocode:\n",
    "\n",
    "    wiederhole Aufgabe X 10 mal\n",
    "    \n",
    "Wir konkretisieren dies im Folgenden anhand einiger Programm-Beispiele in Python."
   ]
  },
  {
   "cell_type": "markdown",
   "metadata": {},
   "source": [
    "## `if`-Anweisung\n",
    "\n",
    "Im folgenden einfachen Beispiel wird die Python-Syntax für eine `if`-Steuerungsanweisung demonstriert. Abhängig von einem Wert, der einer Variablen `x` zugewiesen wird, gibt das Programm eine Nachricht aus und modifiziert `x`.\n",
    "Die Nachricht und die Modifikation von `x` hängen vom Anfangswert von `x` ab:"
   ]
  },
  {
   "cell_type": "code",
   "execution_count": 12,
   "metadata": {},
   "outputs": [
    {
     "name": "stdout",
     "output_type": "stream",
     "text": [
      "Der Anfangswert von x ist kleiner als Null.\n",
      "Der modifizierte Wert von x ist: 11.0\n"
     ]
    }
   ],
   "source": [
    "x = -10.0  # Anfangswert von x\n",
    "\n",
    "if x > 0.0:  \n",
    "    print('Der Anfangswert von x ist größer als Null.')\n",
    "    x -= 20.0\n",
    "elif x < 0.0:  \n",
    "    print('Der Anfangswert von x ist kleiner als Null.')\n",
    "    x += 21.0\n",
    "else: \n",
    "    print('Der Anfangswert von x ist nicht größer als Null und nicht kleiner als Null, deshalb muss er Null sein.')\n",
    "    x *= 2.5\n",
    "\n",
    "# Gib den modifizierten Wert von x auf der Konsole aus\n",
    "print(\"Der modifizierte Wert von x ist:\", x)"
   ]
  },
  {
   "cell_type": "markdown",
   "metadata": {},
   "source": [
    "Versuchen Sie, den Wert von `x` zu ändern und die Zelle erneut „ausführen“ zu lassen (umgangssprachlich informatisch  „laufen“ zu lassen, engl. *run*), um die verschiedenen Pfade der Anweisungsabarbeitung nachzuvollziehen, denen die Programmausführung folgen kann."
   ]
  },
  {
   "cell_type": "markdown",
   "metadata": {},
   "source": [
    "Wir analysieren („sezieren“) nun das vorhergehende Beispiel zur `if`-Steuerungsanweisung. Die Steuerungsanweisung beginnt mit dem reservierten Schlüsselwort `if`, gefolgt von dem zu prüfenden booleschen Ausdruck, gefolgt von „`:`“.\n",
    "```python\n",
    "if x > 0.0:\n",
    "```\n",
    "Darunter befindet sich ein um jeweils vier Leerzeichen eingerückter Codeblock, der ausgeführt wird, wenn die Prüfung (`x > 0.0`) wahr ergibt, d. h. als Resultat `True` liefert:\n",
    "\n",
    "````python\n",
    "    print('Der Anfangswert von x ist größer als Null.')\n",
    "    x -= 20.0\n",
    "````\n",
    "und in diesem Fall wird das Programm dann über das Ende der Steuerungsanweisung hinausgehen. Wenn die Prüfung als `False` (logisch falsch) ausgewertet wird, dann wird die `elif` (else if) Prüfung  \n",
    "```python\n",
    "elif x < 0.0:\n",
    "    print('Der Anfangswert von x ist kleiner als Null.')\n",
    "    x += 21.0\n",
    "```      \n",
    "ausgeführt, und wenn diese `True` (logisch wahr) ergibt, wird der darunter befindliche, um vier Leerzeichen eingerückte Codeblock '`print('Der Anfangswert von x ist kleiner als Null.')`' mit Verringerung („Dekrementierung“) des Wertes von x um 20 ausgeführt und der Steuerblock verlassen. Der auf die `else`-Anweisung folgende Code wird ausgeführt,\n",
    "```python\n",
    "else:\n",
    "    print('Der Anfangswert von x ist nicht größer als Null und nicht kleiner als Null, deshalb muss er Null sein.')\n",
    "```\n",
    "wenn keine der vorangegangenen logischen („booleschen“) Prüfungen mit `True` (logisch wahr) ausgewertet wurde."
   ]
  },
  {
   "cell_type": "markdown",
   "metadata": {},
   "source": [
    "### Beispiel: Währungshandel\n",
    "\n",
    "Ein Währungshändler kassiert eine Kommission für den Verkauf von US-Dollar an Reisende unterhalb der Marktverhältnisse. Der vom ausgegebenen Euro-Betrag abhängige Abwertungsmultiplikator gegenüber dem aktuellen Marktpreis ist nachfolgend tabulliert:\n",
    "\n",
    "| Betrag (in Euro)                         | Abwertungsmultiplikator des Marktpreises |\n",
    "|------------------------------------------|------------------------------------------|\n",
    "| weniger als $100$                        | 0,9                                      |   \n",
    "| von $100$ bis weniger als $1.000$        | 0,925                                    |   \n",
    "| von $1.000$ bis weniger als $10.000$     | 0,95                                     |   \n",
    "| von $10.000$ bis weniger als $100.000$   | 0,97                                     |   \n",
    "| über $100.000$                           | 0,98                                     |   \n",
    "\n",
    "Der Währenungshändler verlangt eine Zusatzkommission für den Umtausch von Bargeld gegenüber rein elektronischen Transaktionen. Konkret werden für Bargeldtransaktionen zuätzlich noch 10 % des bereits nach obiger Tabelle konvertierten US-Dollar-Betrags einbehalten. \n",
    "\n",
    "Nach aktuellem Marktpreis entspricht 1 Euro = 1,33153 USD."
   ]
  },
  {
   "cell_type": "code",
   "execution_count": 13,
   "metadata": {},
   "outputs": [
    {
     "name": "stdout",
     "output_type": "stream",
     "text": [
      "Gezahlter Tauschbetrag in Euro: 15600.05\n",
      "Betrag an erworbenen US-Dollar: 18133.898885284503\n",
      "Offizielle Tauschrate: 1.33153\n",
      "Effektive Tauschrate: 1.1624256900000003\n"
     ]
    }
   ],
   "source": [
    "tauschbetrag_in_euro  = 15600.05  # Der Betrag in Euro, der in US-Dollar getauscht werden soll\n",
    "verkaufter_dollar_betrag = 0.0    # Initial ist der zu verkaufende US-Dollar-Betrag uns noch nicht bekannt\n",
    "ist_bargeld_transaktion = True    # True (wahr), wenn Bargeld getauscht werden soll, sonst False (falsch)\n",
    "\n",
    "offizielle_tauschrate = 1.33153  # 1 Euro hat nach aktuellem Marktpreis diesen Wert in US-Dollar\n",
    "\n",
    "# Wende abhängig vom Tauschbetrag in Euro die entsprechende Reduktion (Abwertungsmultiplikator) an\n",
    "if tauschbetrag_in_euro < 100:\n",
    "    verkaufter_dollar_betrag = 0.9 * offizielle_tauschrate * tauschbetrag_in_euro\n",
    "elif tauschbetrag_in_euro < 1000:  \n",
    "    verkaufter_dollar_betrag = 0.925 * offizielle_tauschrate * tauschbetrag_in_euro\n",
    "elif tauschbetrag_in_euro < 10000:\n",
    "    verkaufter_dollar_betrag = 0.95 * offizielle_tauschrate * tauschbetrag_in_euro\n",
    "elif tauschbetrag_in_euro < 100000:\n",
    "    verkaufter_dollar_betrag = 0.97 * offizielle_tauschrate * tauschbetrag_in_euro\n",
    "else:\n",
    "    verkaufter_dollar_betrag = 0.98 * offizielle_tauschrate * tauschbetrag_in_euro\n",
    "\n",
    "if ist_bargeld_transaktion:\n",
    "    verkaufter_dollar_betrag *= 0.9  # eine Kurznotation für verkaufter_dollar_betrag = 0.9 * verkaufter_dollar_betrag\n",
    "    \n",
    "print(\"Gezahlter Tauschbetrag in Euro:\", tauschbetrag_in_euro)\n",
    "print(\"Betrag an erworbenen US-Dollar:\", verkaufter_dollar_betrag)\n",
    "print(\"Offizielle Tauschrate:\", offizielle_tauschrate)\n",
    "print(\"Effektive Tauschrate:\", verkaufter_dollar_betrag / tauschbetrag_in_euro)"
   ]
  },
  {
   "cell_type": "markdown",
   "metadata": {},
   "source": [
    "## `for`-Schleife\n",
    "\n",
    "Eine `for`-Schleife wiederholt einen Anweisungsblock gemäß einer spezifizierten Anzahl Wiederholungen. Das Konzept ist facettenreich. Wir beginnen daher mit der einfachsten und am häufigsten anzutreffenden Anwendungsform:"
   ]
  },
  {
   "cell_type": "code",
   "execution_count": 14,
   "metadata": {},
   "outputs": [
    {
     "name": "stdout",
     "output_type": "stream",
     "text": [
      "----\n",
      "0 0\n",
      "----\n",
      "1 1\n",
      "----\n",
      "2 4\n",
      "----\n",
      "3 9\n"
     ]
    }
   ],
   "source": [
    "for n in range(4):\n",
    "    print(\"----\")\n",
    "    print(n, n**2)"
   ]
  },
  {
   "cell_type": "markdown",
   "metadata": {},
   "source": [
    "Der vorherige Python-Code veranlasst vier Schleifendurchläufe des unmittelbar darunter um vier Leerzeichen eingerückten Anweisungsblockes mit der Gannzahlvariable `n` belegt mit den streng-monoton aufsteigenden Werten 0, 1, 2 und 3 in dem jeweiligen Schleifendurchlauf. Die Steueranweisung\n",
    "```python\n",
    "for n in range(4):\n",
    "```\n",
    "spezifiziert, dass wir über vier Ganzzahlen `n` iterieren möchten, und als Standardwert beginnt die Wiederholung mit der Ganzzahl Null (siehe https://docs.python.org/3/library/stdtypes.html#range für die Dokumentation von `range`). \n",
    "Der Wert `n` wird nach jedem Schleifendurchlauf inkrementiert. Die von der `for`-Schleife im Schleifenrumpf zu wiederholenden Anweisungen sind jeweils gegenüber der `for`-Steueranweisung um vier Leerzeichen eingerückt: \n",
    "```python\n",
    "    print(\"----\")\n",
    "    print(n, n**2)\n",
    "```\n",
    "Die Schleife beginnt bei Null und inkrementiert nach jedem Schleifendurchlauf bis vier ausschließlich; `range(4)` ist eine Kurznotation für `range(0, 4)`. Damit können wir den Anfangswert von standardmäßig Null ändern, wenn wir es müssen:"
   ]
  },
  {
   "cell_type": "code",
   "execution_count": 15,
   "metadata": {},
   "outputs": [
    {
     "name": "stdout",
     "output_type": "stream",
     "text": [
      "-2\n",
      "-1\n",
      "0\n",
      "1\n",
      "2\n"
     ]
    }
   ],
   "source": [
    "for i in range(-2, 3):\n",
    "    print(i)"
   ]
  },
  {
   "cell_type": "markdown",
   "metadata": {},
   "source": [
    "Die `for`-Schleife beginnt in diesem Beispiel mit `n` = -2, inkrementiert `n` nach jedem Schleifendurchlauf, aber schließt den Wert 3 aus, endet also mit `n` = 2 im letzten Schleifendurchlauf. Wenn wir das Inkrementierungsintervall für die Laufvariable `n` von standardmäßig eins auf drei erhöhen möchten:"
   ]
  },
  {
   "cell_type": "code",
   "execution_count": 16,
   "metadata": {},
   "outputs": [
    {
     "name": "stdout",
     "output_type": "stream",
     "text": [
      "0\n",
      "3\n",
      "6\n",
      "9\n"
     ]
    }
   ],
   "source": [
    "for n in range(0, 10, 3):\n",
    "    print(n)"
   ]
  },
  {
   "cell_type": "markdown",
   "metadata": {},
   "source": [
    "### Beispiel: Temperatur-Umrechungstabelle von Grad Fahrenheit in Grad Celsius\n",
    "\n",
    "Wir können eine `for`-Schleife verwenden, um eine Temperatur-Umrechnungstabelle von Grad Fahrenheit ($T_F$) in Grad Celsius ($T_c$) aufzustellen mit Hilfe der Formel:\n",
    "\n",
    "$$\n",
    "T_c = \\frac{5}{9} (T_f - 32)\n",
    "$$\n",
    "\n",
    "Um die Temperaturen von -100 Grad Fahrenheit bis 200 Grad Fahrenheit in Schritten von 20 Grad Fahrenheit (ausschließlich 200 Grad Fahrenheit) umzurechnen:"
   ]
  },
  {
   "cell_type": "code",
   "execution_count": 17,
   "metadata": {},
   "outputs": [
    {
     "name": "stdout",
     "output_type": "stream",
     "text": [
      "T_f,    T_c\n",
      "-100 -73.33333333333334\n",
      "-80 -62.22222222222223\n",
      "-60 -51.111111111111114\n",
      "-40 -40.0\n",
      "-20 -28.88888888888889\n",
      "0 -17.77777777777778\n",
      "20 -6.666666666666667\n",
      "40 4.444444444444445\n",
      "60 15.555555555555557\n",
      "80 26.666666666666668\n",
      "100 37.77777777777778\n",
      "120 48.88888888888889\n",
      "140 60.0\n",
      "160 71.11111111111111\n",
      "180 82.22222222222223\n"
     ]
    }
   ],
   "source": [
    "print(\"T_f,    T_c\")\n",
    "for Tf in range(-100, 200, 20):\n",
    "    print(Tf, 5 / 9 * (Tf - 32) )"
   ]
  },
  {
   "cell_type": "markdown",
   "metadata": {},
   "source": [
    "## `while`-Schleife\n",
    "\n",
    "Wir haben gesehen, dass `for`-Schleifen einen um vier Leerzeichen eingerückten Anweisungsblock im Schleifenrumpf eine spezifizierte Anzahl mal wiederholt ausführen. Eine `while`-Schleife hingegegen wiederholt den um vier Leerzeichen eingerückten Anweisungsblock in ihrem Schleifenrumpf solange ein in ihrem Schleifenkopf spezifizierter boolescher Ausdruck zu `True` (logisch wahr) auswertet, z. B.:"
   ]
  },
  {
   "cell_type": "code",
   "execution_count": 18,
   "metadata": {},
   "outputs": [
    {
     "name": "stdout",
     "output_type": "stream",
     "text": [
      "Ausgabe-Anweisung *vor* der while-Schleife\n",
      "-2\n",
      "-1\n",
      "0\n",
      "1\n",
      "2\n",
      "3\n",
      "4\n",
      "Ausgabe-Anweisung *nach* der while-Schleife\n"
     ]
    }
   ],
   "source": [
    "print(\"Ausgabe-Anweisung *vor* der while-Schleife\")\n",
    "x = -2\n",
    "while x < 5:\n",
    "    print(x)\n",
    "    x += 1  # Inkrementiere x\n",
    "print(\"Ausgabe-Anweisung *nach* der while-Schleife\")"
   ]
  },
  {
   "cell_type": "markdown",
   "metadata": {},
   "source": [
    "Die zu wiederholenden Anweisungen im Rumpf der `while`-Schleife, der unmittelbar der `while`-Steueranweisung im Schleifenkopf folgt, sind um jeweils vier Leerzeichen gegenüber dem reservierten Schlüsselwort `while` im Schleifenkopf eingerückt und werden im obigen Beispiel solange wiederholt ausgeführt, bis die Auswertung des booleschen Ausdruckes `x < 5` mit `False` ausgewertet wird.\n",
    "\n",
    "Es ist sehr einfach mit einer `while`-Schleife einen Computer prinzipiell unendlich lange zu beschäftigen (und damit Rechenzeit und Energie dafür zu verbrauchen), z. B.\n",
    "```python\n",
    "x = -2\n",
    "while x < 5:\n",
    "    print(x)\n",
    "```\n",
    "wird unendlich oft wiederholt, weil im vorherigen Beispiel `x < 5` niemals mit `False` ausgewertet werden wird. Ein derartiges Schleifen-Kontrukt wird daher als „Endlosschleife“ (engl. *infinite loop*) bezeichnet. Es ist üblicher Weise gute Praxis, dem booleschen Ausdruck im Schleifenkopf der `while`-Steueranweisung noch weitere boolesche Prüfbedingungen zu der Wiederholungsbedingung hinzuzufügen, um die Programmausführung nicht versehentlich in einer Endlosschleife gefangen zu halten, z. B. indem die maximale Anzahl an Schleifendurchläufe durch mitzählen und einer zulässigen oberen Schranke begrenzt wird.\n",
    "\n",
    "Das obige Beispiel hätte vorzugsweise auch mit Hilfe einer `for`-Schleife implementiert werden können, weil die Anzahl der Wiederholungen fest vorgegeben ist. Dieser Anwendungsfall wird daher auch als *Zählschleife* bezeichnet. Im folgenden Beispiel wird nicht ganzzahlig iteriert, weshalb hier eine `while`-Schleife angemessener ist,"
   ]
  },
  {
   "cell_type": "code",
   "execution_count": 19,
   "metadata": {},
   "outputs": [
    {
     "name": "stdout",
     "output_type": "stream",
     "text": [
      "0.81\n",
      "0.6561000000000001\n",
      "0.43046721000000016\n",
      "0.18530201888518424\n",
      "0.03433683820292518\n",
      "0.001179018457773862\n",
      "1.390084523771456e-06\n"
     ]
    }
   ],
   "source": [
    "x = 0.9\n",
    "while x > 0.001:\n",
    "    x = x * x  # Quadriere x (Wir hätten hier auch die Kurznotation \"x *= x\" verwenden können.)\n",
    "    print(x)"
   ]
  },
  {
   "cell_type": "markdown",
   "metadata": {
    "slideshow": {
     "slide_type": "subslide"
    }
   },
   "source": [
    "weil wir nicht von vornherein wissen, wieviele Wiederholungen („Iterationen“) nötig sein werden, bis der boolesche Ausdruck in der Wiederholungsbedingung `x > 0.001` mit `False` ausgewertet werden wird. \n",
    "\n",
    "Wählt man als Anfangswert $x \\ge 1$, wird die Ausführung der obigen Anweisungen in einer Endlosschleife münden. Es ist daher gute Programmierpraxis im booleschen Ausdruck in der Wiederholungsbedingung der `while`-Schleife zuzätzlich noch zu prüfen, ob `x < 1`  ist, weil sonst durch den Rumpf der `while`-Schleife keine streng monoton gegen Null fallende Zahlenfolge entstehen würde."
   ]
  },
  {
   "cell_type": "markdown",
   "metadata": {},
   "source": [
    "## Die Kontrollflussanweisungen `break`, `continue` and `pass`\n",
    "\n",
    "### `break`\n",
    "\n",
    "Manchmal wollen wir vorzeitig aus einer `for`- oder `while`-Schleife ausbrechen. Vielleicht können wir in einer `for`-Schleife prüfen, ob etwas logisch wahr ist, und dann die Schleife vorzeitig verlassen, z. B."
   ]
  },
  {
   "cell_type": "code",
   "execution_count": 20,
   "metadata": {},
   "outputs": [
    {
     "name": "stdout",
     "output_type": "stream",
     "text": [
      "0\n",
      "1\n",
      "2\n",
      "3\n",
      "4\n",
      "5\n",
      "Es ist an der Zeit (hier vorzeitig) auszubrechen.\n"
     ]
    }
   ],
   "source": [
    "for x in range(10):\n",
    "    print(x)\n",
    "    if x == 5:\n",
    "        print(\"Es ist an der Zeit (hier vorzeitig) auszubrechen.\")\n",
    "        break"
   ]
  },
  {
   "cell_type": "markdown",
   "metadata": {},
   "source": [
    "Unten finden Sie ein Programm zum Auffinden von Primzahlen, das eine `break`-Anweisung verwendet. Nehmen Sie sich etwas Zeit, um nachzuvollziehen, was es tut. Es könnte hilfreich sein, einige `print`-Anweisungen hinzuzufügen, um den Ablauf des Programms zu verstehen."
   ]
  },
  {
   "cell_type": "code",
   "execution_count": 21,
   "metadata": {},
   "outputs": [
    {
     "name": "stdout",
     "output_type": "stream",
     "text": [
      "2\n",
      "3\n",
      "5\n",
      "7\n",
      "11\n",
      "13\n",
      "17\n",
      "19\n",
      "23\n",
      "29\n",
      "31\n",
      "37\n",
      "41\n",
      "43\n",
      "47\n"
     ]
    }
   ],
   "source": [
    "N = 50  # Prüfe Ganzzahlen bis N = 50 (ausschließlich) auf Primzahleigenschaften\n",
    "\n",
    "# Iteriere über alle Ganzzahlen beginnend bei 2 bis 50 ausschließlich\n",
    "for n in range(2, N):\n",
    "\n",
    "    # Annuahme: n ist eine Primzahl\n",
    "    n_ist_primzahl = True\n",
    "\n",
    "    # Prüfe, ob n durch m ganzzahlig teilbar ist, wobei m von 2 bis n ausschließlich läuft \n",
    "    for m in range(2, n):\n",
    "         if n % m == 0:  # Dies wird mit wahr ausgewertet, wenn der Rest aus n/m gleich Null ist.\n",
    "            # Wir haben festgestellt, dass n durch m teilbar ist, n kann also keine Primzahl sein. \n",
    "            # Es ist nicht notwendig, auf weitere Werte von m zu prüfen, also setzen wir n_ist_primzahl = False\n",
    "            # und brechen vorzeitig aus der inneren 'm' Zählschleife aus.\n",
    "            n_ist_primzahl = False\n",
    "            break\n",
    "\n",
    "    #  Wemnn n eine Primzahl ist, dann gib den Wert von n auf der Konsole aus.        \n",
    "    if n_ist_primzahl:\n",
    "        print(n)"
   ]
  },
  {
   "cell_type": "markdown",
   "metadata": {},
   "source": [
    "Versuchen Sie, das vorstehende Programm für die Suche nach Primzahlen so zu modifizieren, dass es die ersten $N$ Primzahlen findet. Da Sie nicht wissen, wie viele Zahlen Sie überprüfen müssen, um $N$ Primzahlen zu finden, verwenden Sie dafür bitte eine `while`-Schleife."
   ]
  },
  {
   "cell_type": "markdown",
   "metadata": {},
   "source": [
    "### `continue`\n",
    "\n",
    "Manchmal möchten wir vorzeitig zur nächsten Iteration in einer Schleife übergehen und die verbleibenden Anweisungen des Schleifenrumpfes überspringen. Dafür verwenden wir die `continue`-Anweisung. Es folgt ein Beispiel, das eine Zählschleife über 20 Ganzzahlen `j` (von 0 bis 20 ausschließlich) bildet und prüft, ob die aktuelle Zahl `j` ohne Rest durch 4 teilbar ist. Wenn sie derart ganzzahlig durch 4 teilbar ist, gibt das Programm eine Nachricht aus, bevor zum nächsten Wert übergegangen wird. Wenn `j` nicht ganzzahlig durch 4 teilbar ist, wird die Schleife fortgesetzt. "
   ]
  },
  {
   "cell_type": "code",
   "execution_count": 22,
   "metadata": {},
   "outputs": [
    {
     "name": "stdout",
     "output_type": "stream",
     "text": [
      "Zahl ist nicht teilbar durch vier: 1\n",
      "Zahl ist nicht teilbar durch vier: 2\n",
      "Zahl ist nicht teilbar durch vier: 3\n",
      "Zahl ist nicht teilbar durch vier: 5\n",
      "Zahl ist nicht teilbar durch vier: 6\n",
      "Zahl ist nicht teilbar durch vier: 7\n",
      "Zahl ist nicht teilbar durch vier: 9\n",
      "Zahl ist nicht teilbar durch vier: 10\n",
      "Zahl ist nicht teilbar durch vier: 11\n",
      "Zahl ist nicht teilbar durch vier: 13\n",
      "Zahl ist nicht teilbar durch vier: 14\n",
      "Zahl ist nicht teilbar durch vier: 15\n",
      "Zahl ist nicht teilbar durch vier: 17\n",
      "Zahl ist nicht teilbar durch vier: 18\n",
      "Zahl ist nicht teilbar durch vier: 19\n"
     ]
    }
   ],
   "source": [
    "for j in range(20):\n",
    "    if j % 4 == 0:  # Prüfe ob j ganzzahlig (d. h. ohne Rest) durch vier teilbar ist \n",
    "        continue  # springe vorzeitig zum folgenden Schleifendurchlauf mit dem nächsten Wert j\n",
    "    print(\"Zahl ist nicht teilbar durch vier:\", j)"
   ]
  },
  {
   "cell_type": "markdown",
   "metadata": {},
   "source": [
    "### `pass`\n",
    "\n",
    "Manchmal benötigen wir eine Anweisung, die nichts bewirkt (außer als beabsichtigte oder unbeabsichtigte Nebenwirkung im Digitalrechner elektrische Energie und Rechenzeit zu verbrauchen). Eine solche `pass`-Anweisung für eine Leeranweisung (engl. *idle activity*)  wird typischer Weise während der Entwicklung als Platzhalter verwendet, wenn syntaktisch etwas Code benötigt wird, den Sie aber noch nicht geschrieben haben (engl. oft bezeichnet als ein sog. *mock* oder *stub*). Zum Beispiel:  "
   ]
  },
  {
   "cell_type": "code",
   "execution_count": 23,
   "metadata": {},
   "outputs": [
    {
     "name": "stdout",
     "output_type": "stream",
     "text": [
      "25\n",
      "36\n",
      "49\n",
      "64\n",
      "9\n"
     ]
    }
   ],
   "source": [
    "for x in range(10):\n",
    "    if x < 5:\n",
    "        # TODO: Die Behandlung von x < 5 implementieren, wenn die anderen Fälle abgeschlossen sind.\n",
    "        pass\n",
    "    elif x < 9:\n",
    "        print(x * x)\n",
    "    else:\n",
    "        print(x)"
   ]
  },
  {
   "cell_type": "markdown",
   "metadata": {},
   "source": [
    "Sie kann auch zur Lesbarkeit beitragen. Vielleicht ist in einem Programm nichts zu tun, aber jemand, der den Code liest, könnte vernünftigerweise denken, dass etwas getan werden sollte und einen Fehler vermuten. Die Verwendung von `pass` sagt dem Lesenden, dass es die Absicht des Programmierenden war, dass nichts getan werden sollte."
   ]
  },
  {
   "cell_type": "markdown",
   "metadata": {
    "slideshow": {
     "slide_type": "subslide"
    }
   },
   "source": [
    "## Endlosschleife: Ursachen und Schutz davor\n",
    "\n",
    "Ein häufiger Fehler, insbesondere bei der Verwendung von `while`-Anweisungen, ist die „Endlosschleife“. Dies ist der Zustand, dass bereits in den Rumpf einer Schleife eingetreten wurde, diese aber durch die Prüfung im Schleifenkopf nie beendet wird. Endlosschleifen können dazu führen, dass ein System nicht mehr reagiert, was manchmal ein Herunterfahren mit anschließendem Neustart des Systems zur Wiederherstellung der Funktion erfordert (siehe auch https://de.wikipedia.org/wiki/Endlosschleife für Weiteres). \n",
    "\n",
    "Es gilt daher als gute Programmierpraxis, insbesondere beim Erlernen von Schleifen, dem Programm Schutzprüfungen gegen Endlosschleifen hinzuzufügen, z. B.: "
   ]
  },
  {
   "cell_type": "code",
   "execution_count": 24,
   "metadata": {},
   "outputs": [
    {
     "name": "stdout",
     "output_type": "stream",
     "text": [
      "Die Zahl der Schleifendurchläufe hat 2000 überschritten. Abbruch der Schleife.\n"
     ]
    }
   ],
   "source": [
    "x = 0.0\n",
    "\n",
    "zaehler = 0\n",
    "while x < 0.05:\n",
    "\n",
    "    # Die Anzahl an Schleifendurchläufen (= Iterationen) mitzählen.\n",
    "    zaehler += 1\n",
    "    # Schutzprüfung vor Endlosschleifen\n",
    "    if zaehler > 2000:\n",
    "        print(\"Die Zahl der Schleifendurchläufe hat 2000 überschritten. Abbruch der Schleife.\")\n",
    "        break"
   ]
  },
  {
   "cell_type": "markdown",
   "metadata": {},
   "source": [
    "# Übung\n",
    "\n",
    "Bearbeiten Sie nun vollständig das dieses Dokument begleitende Jupyter-Notebook [Übung 2](Uebungen/Uebung%2002.ipynb)."
   ]
  }
 ],
 "metadata": {
  "kernelspec": {
   "display_name": "Python 3",
   "language": "python",
   "name": "python3"
  },
  "language_info": {
   "codemirror_mode": {
    "name": "ipython",
    "version": 3
   },
   "file_extension": ".py",
   "mimetype": "text/x-python",
   "name": "python",
   "nbconvert_exporter": "python",
   "pygments_lexer": "ipython3",
   "version": "3.7.3"
  }
 },
 "nbformat": 4,
 "nbformat_minor": 1
}
