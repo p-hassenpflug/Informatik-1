{
 "cells": [
  {
   "cell_type": "markdown",
   "metadata": {
    "deletable": false,
    "nbgrader": {
     "checksum": "78bec42b97a384da1258851020c6e40a",
     "grade": false,
     "grade_id": "cell-430d835796356075",
     "locked": false,
     "schema_version": 1,
     "solution": false
    }
   },
   "source": [
    "## Übung 5.1 (Zufallszahlen, engl. *random numbers*)\n",
    "\n",
    "- Entwickeln Sie eine Python-Funktion `werfe_wuerfel_mit_seiten`, die den Wurf eines Würfels mit $n$ Seiten [virtuell](https://de.wikipedia.org/wiki/Virtualität) simuliert (d. h. rein im Digitalrechner, was in der Bioinformatik auch lateinisch angelehnt als „[*in silico*](https://de.wikipedia.org/wiki/In_silico)“ bezeichnet wird). Verwenden Sie in Ihrer Implementierung die Funktion `randint` aus dem Modul `random` der Python-Standardbibliothek (https://docs.python.org/3/library/random.html#random.randint), um ganzzahlige sog. [Pseudozufallszahlen](https://de.wikipedia.org/wiki/Pseudozufall) zu generieren.\n",
    "\n",
    "- Konstruieren (d. h. konzipieren und implementieren) Sie für einen virtuellen Würfel mit $n=6$ Seiten einen Test zur Qualitätssicherung, um zu prüfen, ob es sich bei Ihrer Implementierung um einen *fairen Würfel* handelt."
   ]
  },
  {
   "cell_type": "markdown",
   "metadata": {
    "deletable": false,
    "nbgrader": {
     "checksum": "61e2a56d004d8d8ae67a9fcdfd923411",
     "grade": false,
     "grade_id": "cell-12092bd5f2adea76",
     "locked": false,
     "schema_version": 1,
     "solution": false
    }
   },
   "source": [
    "#### (a) Ihre Implementierung der Funktion `werfe_wuerfel_mit_seiten`:"
   ]
  },
  {
   "cell_type": "code",
   "execution_count": null,
   "metadata": {
    "deletable": false,
    "nbgrader": {
     "checksum": "4bf12682ccd10675634d0e03f8d9e03f",
     "grade": false,
     "grade_id": "cell-70a83466894475ee",
     "locked": false,
     "schema_version": 1,
     "solution": true
    }
   },
   "outputs": [],
   "source": [
    "import random\n",
    "\n",
    "# YOUR CODE HERE\n",
    "raise NotImplementedError()"
   ]
  },
  {
   "cell_type": "code",
   "execution_count": null,
   "metadata": {
    "deletable": false,
    "nbgrader": {
     "checksum": "cc96b22a27a50764737999a68f55cee7",
     "grade": true,
     "grade_id": "cell-0970743b0c035f78",
     "locked": false,
     "points": 0,
     "schema_version": 1,
     "solution": false
    }
   },
   "outputs": [],
   "source": [
    "for n in range(1, 20):\n",
    "    for j in range(100):\n",
    "        gewuerfelte_zahl = werfe_wuerfel_mit_seiten(n) \n",
    "        assert gewuerfelte_zahl >= 1 and gewuerfelte_zahl <= n"
   ]
  },
  {
   "cell_type": "markdown",
   "metadata": {
    "deletable": false,
    "nbgrader": {
     "checksum": "d5b750f62a69a71bfde95d5766edb830",
     "grade": false,
     "grade_id": "cell-8fd8c957cbce8e91",
     "locked": false,
     "schema_version": 1,
     "solution": false
    }
   },
   "source": [
    "#### (b) Ihr Test auf Fairness:"
   ]
  },
  {
   "cell_type": "code",
   "execution_count": null,
   "metadata": {
    "deletable": false,
    "nbgrader": {
     "checksum": "3efa13bd797422d747fe0f35cd3668d5",
     "grade": true,
     "grade_id": "cell-0826760c62c21bff",
     "locked": false,
     "points": 0,
     "schema_version": 1,
     "solution": true
    }
   },
   "outputs": [],
   "source": [
    "# YOUR CODE HERE\n",
    "raise NotImplementedError()"
   ]
  },
  {
   "cell_type": "markdown",
   "metadata": {
    "deletable": false,
    "nbgrader": {
     "checksum": "36bcc27ebc5dd171db48bb5806f8aaf6",
     "grade": false,
     "grade_id": "cell-007e984f33e27da1",
     "locked": false,
     "schema_version": 1,
     "solution": false
    }
   },
   "source": [
    "## Übung 5.2 (Datenkompression)\n",
    "\n",
    "Die Kompression von Daten kann für Digitalrechner mit begrenztem Speicher oder begrenzter [Datenübertragungsrate](https://de.wikipedia.org/wiki/Datenübertragungsrate) wichtig sein. [Datenkompression](https://de.wikipedia.org/wiki/Datenkompression) ist ein eigenes  Fachgebiet der Informatik, aber mit Funktionsbibliotheken können wir Daten einfach kompremieren („*einpacken*“) und bei Bedarf wieder verlustlos (engl. *lossless*) dekompremieren („*entpacken*“), ohne dass wir selbst Detailwissen aus dieser Fachwissenschaft benötigen.\n",
    "\n",
    "Der folgende Python-Code kompremiert einen Textauszug aus „*Hamlet - Prinz von Dänemark*“ von William Shakespeare."
   ]
  },
  {
   "cell_type": "code",
   "execution_count": null,
   "metadata": {
    "deletable": false,
    "nbgrader": {
     "checksum": "76fd7da1deb076195800c6277428ff17",
     "grade": false,
     "grade_id": "cell-3c2032bdba4a917a",
     "locked": false,
     "schema_version": 1,
     "solution": false
    }
   },
   "outputs": [],
   "source": [
    "# Importiere das Modul zur Datenkompression\n",
    "# aus der Python-Standardbibliothek\n",
    "import zlib\n",
    "\n",
    "# Lege die Zeichenkette an, die wir kompremieren wollen\n",
    "text = \"\"\"\n",
    "Willkommen, Rosenkranz und Güldenstern!\n",
    "Wir wünschten nicht nur sehnlich, Euch zu sehn,\n",
    "Auch das Bedürfnis Eurer Dienste trieb\n",
    "Uns zu der eilgen Sendung an. Ihr hörtet\n",
    "Von der Verwandlung Hamlets schon; so nenn ichs,\n",
    "Weil nicht der äußre noch der innre Mensch\n",
    "Dem gleicht, was sonst er war. Was es nur ist,\n",
    "Mehr als des Vaters Tod, das ihn so weit\n",
    "Von dem Verständnis seiner selbst gebracht,\n",
    "Kann ich nicht raten. Ich ersuch Euch beide,\n",
    "Da Ihr von Kindheit auf mit ihm erzogen\n",
    "Und seiner Laun und Jugend nahe bliebt,\n",
    "Ihr wollet hier an unserm Hof verweilen\n",
    "Auf einge Zeit, um ihn durch Euren Umgang\n",
    "In Lustbarkeit zu ziehn und zu erspähn,\n",
    "Soweit der Anlaß auf die Spur Euch bringt,\n",
    "Ob irgendwas, uns unbekannt, ihn drückt,\n",
    "Das, offenbart, zu heilen wir vermöchten.\"\"\"\n",
    "\n",
    "# Wandle die (16-Bit Unicode) Python-Zeichenkette\n",
    "# vom Python-Datentyp 'string' in eine Byte-Folge\n",
    "# nach dem UTF-8 Standard um und prüfe den Typ\n",
    "text_unkompremiert = text.encode(\"utf-8\")\n",
    "print(type(text_unkompremiert))\n",
    "\n",
    "# Ermittle die Anzahl der Byte, die zum Speichern der Zeichenkette verwendet werden\n",
    "print(\"Anzahl Byte der unkompremierten Zeichenkette:\", len(text_unkompremiert))\n",
    "\n",
    "# Kompremiere die Zeichenkette und prüfe die Anzahl der Byte der kompremierten Zeichenkette\n",
    "text_kompremiert = zlib.compress(text_unkompremiert)\n",
    "print(\"Anzahl Byte der kompremierten Zeichenkette  :\", len(text_kompremiert))\n",
    "\n",
    "# Gib die Kompressionsrate auf der Konsole aus\n",
    "print(\"Kompressionsrate:\", len(text_kompremiert) / len(text_unkompremiert))\n",
    "\n",
    "# Dekompremiere (\"entpacke\") die kompremierte Zeichenkette wieder\n",
    "text_dekompremiert = zlib.decompress(text_kompremiert)\n",
    "\n",
    "# Prüfe, ob die ursprüngliche und die dekompremierte Zeichenkette inhaltlich übereinstimmen\n",
    "if text != text_dekompremiert.decode(\"utf-8\"):\n",
    "    print(\"Problem: Die ursprüngliche und dekompremierte Zeichenkette unterscheiden sich.\")"
   ]
  },
  {
   "cell_type": "markdown",
   "metadata": {
    "deletable": false,
    "nbgrader": {
     "checksum": "0fe54aee845d95687889dc19b435ba77",
     "grade": false,
     "grade_id": "cell-f80062a015942c13",
     "locked": false,
     "schema_version": 1,
     "solution": false
    }
   },
   "source": [
    "Untersuchen Sie mit dem vorstehenden Python-Code als Orientierungshilfe die Kompressionsrate für\n",
    "\n",
    "1. die Kompression einer langen Zeichenkette, die sich aus einer einhundertmaligen Aneinanderreihung (Wiederholung) des obigen Hamlet-Textauszuges zusammensetzt; und\n",
    "2. die Kompression einer Zufallszeichenkette (engl. *random string*), die aus zufällig ausgewählten Zeichen aus einem gegebenen Alphabet von Unicode-Zeichen gebildet wird und die dieselbe Länge (d. h. die gleiche Anzahl an Zeichen) wie die wiederholte (einhundertmal aneinandergereihte) Hamlet-Zeichenkette besitzt.\n",
    "\n",
    "Als Hilfestellung für Ihre Untersuchung, erzeugt die im folgenden gegebene Python-Funktion eine Zufallszeichenkette bestehend aus `anzahl_zufallszeichen` vielen Zufallszeichen:"
   ]
  },
  {
   "cell_type": "code",
   "execution_count": null,
   "metadata": {
    "deletable": false,
    "nbgrader": {
     "checksum": "28a57abbb021d924834ef4705e0f90bb",
     "grade": false,
     "grade_id": "cell-6e2a283ca091e187",
     "locked": false,
     "schema_version": 1,
     "solution": false
    }
   },
   "outputs": [],
   "source": [
    "import random\n",
    "\n",
    "def erzeuge_zufallszeichenkette(anzahl_zufallszeichen):\n",
    "    alphabet = ' abcdefghijklmnopqrstuvwxyzABCDEFGHIJKLMNOPQRSTUVWXYZäöüßÄÖÜ.,;?!'\n",
    "    zufallszeichenkette = ''\n",
    "    for i in range(anzahl_zufallszeichen):\n",
    "        zufallszeichen = random.choice(alphabet) \n",
    "        zufallszeichenkette += zufallszeichen\n",
    "    return zufallszeichenkette\n",
    "\n",
    "print(erzeuge_zufallszeichenkette(8))"
   ]
  },
  {
   "cell_type": "markdown",
   "metadata": {},
   "source": [
    "### Hilfestellung zur Lösung"
   ]
  },
  {
   "cell_type": "code",
   "execution_count": null,
   "metadata": {
    "deletable": false,
    "nbgrader": {
     "checksum": "f2cd0f781558ed7eb4413c8b2c2198cf",
     "grade": false,
     "grade_id": "cell-169d40e6f3aadc18",
     "locked": false,
     "schema_version": 1,
     "solution": false
    }
   },
   "outputs": [],
   "source": [
    "# Erstelle die Zeichenkette\n",
    "text = \"\"\"\n",
    "Willkommen, Rosenkranz und Güldenstern!\n",
    "Wir wünschten nicht nur sehnlich, Euch zu sehn,\n",
    "Auch das Bedürfnis Eurer Dienste trieb\n",
    "Uns zu der eilgen Sendung an. Ihr hörtet\n",
    "Von der Verwandlung Hamlets schon; so nenn ichs,\n",
    "Weil nicht der äußre noch der innre Mensch\n",
    "Dem gleicht, was sonst er war. Was es nur ist,\n",
    "Mehr als des Vaters Tod, das ihn so weit\n",
    "Von dem Verständnis seiner selbst gebracht,\n",
    "Kann ich nicht raten. Ich ersuch Euch beide,\n",
    "Da Ihr von Kindheit auf mit ihm erzogen\n",
    "Und seiner Laun und Jugend nahe bliebt,\n",
    "Ihr wollet hier an unserm Hof verweilen\n",
    "Auf einge Zeit, um ihn durch Euren Umgang\n",
    "In Lustbarkeit zu ziehn und zu erspähn,\n",
    "Soweit der Anlaß auf die Spur Euch bringt,\n",
    "Ob irgendwas, uns unbekannt, ihn drückt,\n",
    "Das, offenbart, zu heilen wir vermöchten.\"\"\""
   ]
  },
  {
   "cell_type": "markdown",
   "metadata": {
    "deletable": false,
    "nbgrader": {
     "checksum": "5ff95e98d7993220b5b491a4081c44c0",
     "grade": false,
     "grade_id": "cell-6dd8e7572f189eff",
     "locked": false,
     "schema_version": 1,
     "solution": false
    }
   },
   "source": [
    "Importieren Sie die beiden benötigten Module („Pakete“) aus der Python-Standardbibliothek:"
   ]
  },
  {
   "cell_type": "code",
   "execution_count": null,
   "metadata": {
    "deletable": false,
    "nbgrader": {
     "checksum": "1f92d1231c21a688b037ef6d9cc9294a",
     "grade": false,
     "grade_id": "cell-93be06c0b8818e9e",
     "locked": false,
     "schema_version": 1,
     "solution": false
    }
   },
   "outputs": [],
   "source": [
    "import random\n",
    "import zlib"
   ]
  },
  {
   "cell_type": "markdown",
   "metadata": {
    "deletable": false,
    "nbgrader": {
     "checksum": "79b8ee9892e83429e39f65d2e075fa45",
     "grade": false,
     "grade_id": "cell-6c9348155e28f467",
     "locked": false,
     "schema_version": 1,
     "solution": false
    }
   },
   "source": [
    "Reihen Sie den Hamlet-Textauszug einhundertmal aneinander, um eine sehr lange Zeichenkette zu bilden, und kompremieren Sie diese:"
   ]
  },
  {
   "cell_type": "code",
   "execution_count": null,
   "metadata": {
    "deletable": false,
    "nbgrader": {
     "checksum": "edac5251a56b1190fee5c9e7349d3f63",
     "grade": false,
     "grade_id": "cell-c08bb020d9be6620",
     "locked": false,
     "schema_version": 1,
     "solution": true
    }
   },
   "outputs": [],
   "source": [
    "# Erstelle eine sehr lange Zeichenkette, die aus einer einhundertmaligen\n",
    "# Aneinanderreihung des Hamlet-Textauszuges besteht und kompremieren Sie diese\n",
    "\n",
    "# YOUR CODE HERE\n",
    "raise NotImplementedError()"
   ]
  },
  {
   "cell_type": "markdown",
   "metadata": {
    "deletable": false,
    "nbgrader": {
     "checksum": "16883ec26de137558d302ac47ad9743c",
     "grade": false,
     "grade_id": "cell-ea781714f8a7db87",
     "locked": false,
     "schema_version": 1,
     "solution": false
    }
   },
   "source": [
    "Erstellen Sie eine Zufallszeichenkete der gleichen Länge und kompremieren Sie diese:"
   ]
  },
  {
   "cell_type": "code",
   "execution_count": null,
   "metadata": {
    "deletable": false,
    "nbgrader": {
     "checksum": "b7442cbb06e29f3f3ca705b05487f55c",
     "grade": false,
     "grade_id": "cell-c5d8c07589ec3cd1",
     "locked": false,
     "schema_version": 1,
     "solution": true
    }
   },
   "outputs": [],
   "source": [
    "# YOUR CODE HERE\n",
    "raise NotImplementedError()"
   ]
  },
  {
   "cell_type": "markdown",
   "metadata": {
    "deletable": false,
    "nbgrader": {
     "checksum": "c6cc082101b86f87ac9d8df2b18b307e",
     "grade": false,
     "grade_id": "cell-36c10b63438d6d4a",
     "locked": false,
     "schema_version": 1,
     "solution": false
    }
   },
   "source": [
    "Vergleichen Sie die Kompressionsraten der beiden Zeichenkettenkompremierungen miteinander:"
   ]
  },
  {
   "cell_type": "code",
   "execution_count": null,
   "metadata": {
    "deletable": false,
    "nbgrader": {
     "checksum": "66aa622e93c710b8a7ce0d6bcb6f5ff3",
     "grade": true,
     "grade_id": "cell-a2dd98ee370e22a3",
     "locked": false,
     "points": 0,
     "schema_version": 1,
     "solution": true
    }
   },
   "outputs": [],
   "source": [
    "# YOUR CODE HERE\n",
    "raise NotImplementedError()"
   ]
  }
 ],
 "metadata": {
  "kernelspec": {
   "display_name": "Python 3",
   "language": "python",
   "name": "python3"
  },
  "language_info": {
   "codemirror_mode": {
    "name": "ipython",
    "version": 3
   },
   "file_extension": ".py",
   "mimetype": "text/x-python",
   "name": "python",
   "nbconvert_exporter": "python",
   "pygments_lexer": "ipython3",
   "version": "3.7.3"
  }
 },
 "nbformat": 4,
 "nbformat_minor": 1
}
