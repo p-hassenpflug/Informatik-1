{
 "cells": [
  {
   "cell_type": "markdown",
   "metadata": {
    "nbgrader": {
     "checksum": "e0a9b2e8a53ee557285f579debe9e5cc",
     "grade": false,
     "grade_id": "cell-0dc6eedbed930025",
     "locked": false,
     "schema_version": 1,
     "solution": false
    }
   },
   "source": [
    "## Übung 4.1 (Einfache Funktion)\n",
    "\n",
    "Schreiben Sie eine Python-Funktion mit dem Funktionsnamen (bzw. dem „Funktionsbezeichner“) `ist_ungerade`, die eine vorzeichenbehaftete Ganzzahl vom Python-Datentyp `int` als Argument bzw. als „formalen Parameter“ erwartet und das boolesche Literal `True` an den Aufrufer zurückgibt, wenn das Argument eine ungerade Ganzzahl ist und ansonsten das boolesche Literal `False` zurückgibt. Testen Sie die Implementierung Ihrer Funktion mit einigen ganzen Zahlen."
   ]
  },
  {
   "cell_type": "code",
   "execution_count": null,
   "metadata": {
    "deletable": false,
    "nbgrader": {
     "checksum": "a02ca20847904f8b06f9f4e363f7793f",
     "grade": false,
     "grade_id": "cell-f07e8ac1f9838913",
     "locked": false,
     "schema_version": 1,
     "solution": true
    }
   },
   "outputs": [],
   "source": [
    "def ist_ungerade(x):\n",
    "    # YOUR CODE HERE\n",
    "    raise NotImplementedError()"
   ]
  },
  {
   "cell_type": "code",
   "execution_count": null,
   "metadata": {
    "deletable": false,
    "editable": false,
    "nbgrader": {
     "checksum": "1c1d897bf819677735ebbabd84478b5a",
     "grade": true,
     "grade_id": "cell-8a4ca795d9fa96dd",
     "locked": true,
     "points": 0,
     "schema_version": 1,
     "solution": false
    }
   },
   "outputs": [],
   "source": [
    "assert ist_ungerade(0) == False\n",
    "assert ist_ungerade(101) == True\n",
    "assert ist_ungerade(982) == False \n",
    "assert ist_ungerade(-5) == True\n",
    "assert ist_ungerade(-8) == False"
   ]
  },
  {
   "cell_type": "markdown",
   "metadata": {
    "nbgrader": {
     "checksum": "34d59ab6e239d09f5de616f9f8d7a54d",
     "grade": false,
     "grade_id": "cell-5ff5517961853849",
     "locked": false,
     "schema_version": 1,
     "solution": false
    }
   },
   "source": [
    "## Übung 4.2 (Funktionen mit Standardwerten für formale Parameter, engl. sog. *default arguments*)\n",
    "\n",
    "Schreiben Sie eine Python-Funktion mit dem Funktionsnamen (bzw. dem „Bezeichner“) `berechne_vektorlaenge`, welche die Länge eines Vektors in der euklidischen Ebene $\\mathbb{R}^2$ bzw. die Länge eines Vektors im [euklidischen Anschauungsraum](https://de.m.wikipedia.org/wiki/Euklidischer_Raum) $\\mathbb{R}^3$ aus seinen zwei bzw. ggf. auch seinen drei zahlenmäßigen „Komponenten“ (anschaulich seinen zahlenmäßigen „Ausdehnungen“ entlang der Achsen des zugrundeliegenden Koordinatensystems $\\mathbb{R}^2$ bzw. $\\mathbb{R}^3$) berechnet und die berechnete\n",
    " Vektorlänge an den Aufrufer der Funktion zurückgibt.\n",
    "Verwenden Sie Standardwerte für die formalen Parameter, um die Vektorlänge von zwei- und dreidimensionalen Vektoren mit nur einer Python-Funktion berechnen zu können. Testen Sie Ihre Funktion gegen Ihre eigenen zahlenmäßigen Ergebnisse (als ingenieur- und kundenmäßige „Erwartungen“) aus eigenen Kontrollrechnungen für eine Reihe ausgewählter repräsentativer Anwendungsfälle bzw. Vektoren aus dem $\\mathbb{R}^2$ bzw. $\\mathbb{R}^3$."
   ]
  },
  {
   "cell_type": "code",
   "execution_count": null,
   "metadata": {
    "deletable": false,
    "nbgrader": {
     "checksum": "eb3b0a0798740195ebc614523189be95",
     "grade": false,
     "grade_id": "cell-693a09b45c6bb532",
     "locked": false,
     "schema_version": 1,
     "solution": true
    }
   },
   "outputs": [],
   "source": [
    "# YOUR CODE HERE\n",
    "raise NotImplementedError()"
   ]
  },
  {
   "cell_type": "code",
   "execution_count": null,
   "metadata": {
    "deletable": false,
    "editable": false,
    "nbgrader": {
     "checksum": "53cdb70056d8af7e0a1d29feffbe9ccc",
     "grade": true,
     "grade_id": "cell-384a85ba97b226d7",
     "locked": true,
     "points": 0,
     "schema_version": 1,
     "solution": false
    }
   },
   "outputs": [],
   "source": [
    "assert round(berechne_vektorlaenge(3, 4) - 5.0, 10) == 0.0\n",
    "assert round(berechne_vektorlaenge(4, 3) - 5.0, 10) == 0.0\n",
    "assert round(berechne_vektorlaenge(4, 3, 0.0)- 5.0, 10) == 0.0\n",
    "assert round(berechne_vektorlaenge(4, 0.0, 3.0) - 5.0, 10) == 0.0\n",
    "assert round(berechne_vektorlaenge(3, 4, 4) - 6.403124237, 8) == 0.0"
   ]
  },
  {
   "cell_type": "markdown",
   "metadata": {
    "deletable": false,
    "nbgrader": {
     "checksum": "41dbb0a818ccdedb37806cea8a5e4866",
     "grade": false,
     "grade_id": "cell-668d765c259431ca",
     "locked": false,
     "schema_version": 1,
     "solution": false
    }
   },
   "source": [
    "## Übung 4.3 (Funktionen mit mehreren formalen Parametern)\n",
    "\n",
    "Der Flächeninhalt $A$ eines Dreieckes, dessen drei Eckpunkte spezifiziert sind durch drei Koordinatenpaare $(x_0, y_0)$, $(x_1, y_1)$ und $(x_2, y_2)$, kann mit der folgenden Formel berechnet werden:\n",
    "$$\n",
    "A = \\left| \\frac{x_0(y_1  - y_2) + x_1(y_2 - y_0) + x_2(y_0 - y_1)}{2} \\right|\n",
    "$$\n",
    "Schreiben Sie eine Python-Funktion mit dem Funktionsnamen (bzw. dem „Bezeichner“) `berechne_dreiecksflaeche`, die den Flächeninhalt eines Dreieckes aus seinen gegebenen Koordinaten im euklidischen $\\mathbb{R}^2$ bestimmt. Die Reihenfolge der zu vom Aufrufer zu befüllenden aktuellen Parameter bzw. Funktionsargumente, die in der Definition der Funktion den formale Parametern entsprechen ist dabei wie folgt spezifiziert bzw. vorgeschrieben `(x0, y0, x1, y1, x2, y2)`.\n",
    "\n",
    "Testen Sie die Rückgabewerte Ihrer Funktion gegen einige bekannte Lösungen."
   ]
  },
  {
   "cell_type": "code",
   "execution_count": null,
   "metadata": {
    "deletable": false,
    "nbgrader": {
     "checksum": "57a01efe35b4f958c2cfea74b0f11088",
     "grade": false,
     "grade_id": "cell-ed02439d4509b2c1",
     "locked": false,
     "schema_version": 1,
     "solution": true
    }
   },
   "outputs": [],
   "source": [
    "# YOUR CODE HERE\n",
    "raise NotImplementedError()"
   ]
  },
  {
   "cell_type": "code",
   "execution_count": null,
   "metadata": {
    "deletable": false,
    "editable": false,
    "nbgrader": {
     "checksum": "940773ef0980f1e545e0b29f04d732a9",
     "grade": true,
     "grade_id": "cell-64f8b6708595aed3",
     "locked": true,
     "points": 0,
     "schema_version": 1,
     "solution": false
    }
   },
   "outputs": [],
   "source": [
    "x0, y0 = 0.0, 0.0\n",
    "x1, y1 = 0.0, 2.0\n",
    "x2, y2 = 3.0, 0.0\n",
    "A = berechne_dreiecksflaeche(x0, y0, x1, y1, x2, y2)\n",
    "assert round(A - 3.0, 10) == 0.0"
   ]
  },
  {
   "cell_type": "markdown",
   "metadata": {
    "deletable": false,
    "nbgrader": {
     "checksum": "97c39673707c88c2a920b9e9c9102b21",
     "grade": false,
     "grade_id": "cell-45e85991122d3796",
     "locked": false,
     "schema_version": 1,
     "solution": false
    }
   },
   "source": [
    "## Übung 4.4 (Rekursionstechnik; optional für besonders Interessierte)\n",
    "\n",
    "The factorial of a non-negative integer $n$ is expressed recursively by:\n",
    "$$\n",
    "n! = \n",
    "\\begin{cases}\n",
    "1 & n = 0 \\\\\n",
    "(n - 1)! \\,n & n > 0\n",
    "\\end{cases}\n",
    "$$\n",
    "\n",
    "Develop a function named `factorial` for computing the factorial using recursion.\n",
    "Test your function against the `math.factorial` function, e.g."
   ]
  },
  {
   "cell_type": "code",
   "execution_count": null,
   "metadata": {
    "deletable": false,
    "editable": false,
    "nbgrader": {
     "checksum": "5f6fa5bbfa9f96c7d955158555fbb5cb",
     "grade": false,
     "grade_id": "cell-680d3c06fd6b37a7",
     "locked": true,
     "schema_version": 1,
     "solution": false
    }
   },
   "outputs": [],
   "source": [
    "import math\n",
    "print(\"Reference factorial:\", math.factorial(5))"
   ]
  },
  {
   "cell_type": "code",
   "execution_count": null,
   "metadata": {
    "deletable": false,
    "nbgrader": {
     "checksum": "4b880132ee8f1129be58f9d2f13d65f4",
     "grade": false,
     "grade_id": "cell-9591c1fc1c49c167",
     "locked": false,
     "schema_version": 1,
     "solution": true
    }
   },
   "outputs": [],
   "source": [
    "# YOUR CODE HERE\n",
    "raise NotImplementedError()\n",
    "    \n",
    "print(\"Factorial of 5:\", factorial(5))\n",
    "\n",
    "import math\n",
    "print(\"Reference value of factorial of 5:\", math.factorial(5))"
   ]
  },
  {
   "cell_type": "code",
   "execution_count": null,
   "metadata": {
    "deletable": false,
    "editable": false,
    "nbgrader": {
     "checksum": "fe906129e2843116208179ed6debe846",
     "grade": true,
     "grade_id": "cell-ffe589e9fb2f1419",
     "locked": true,
     "points": 0,
     "schema_version": 1,
     "solution": false
    }
   },
   "outputs": [],
   "source": [
    "assert factorial(0) == 1\n",
    "assert factorial(1) == 1\n",
    "assert factorial(2) == 2\n",
    "assert factorial(5) == 120\n",
    "\n",
    "import math\n",
    "assert factorial(32) == math.factorial(32)"
   ]
  },
  {
   "cell_type": "markdown",
   "metadata": {},
   "source": [
    "## Übung 4.5 (Funktionen als (aktuelle und formale) Parameter einer Funktion; optional für besonders Interessierte)\n",
    "\n",
    "Restructure your program from the bisection problem in Exercise 02 to \n",
    "\n",
    "- Use a Python function to evaluate the mathematical function $f$ that we want to find the root of; \n",
    "\n",
    "and then\n",
    "\n",
    "- Encapsulate the bisection algorithm inside a Python function, which takes as arguments:\n",
    "  - the function we want to find the roots of\n",
    "  - the points $x_{0}$ and $x_{1}$ between which we want to search for a root\n",
    "  - the tolerance for exiting the bisection algorithm (exit when $|f(x)| < \\text{tol}$)\n",
    "  - maximum number of iterations (the algorithm should exit once this limit is reached)\n",
    "\n",
    "For the first step, use a function for evaluating $f$, e.g.:\n",
    "```python\n",
    "def f(x):\n",
    "    # Put body of the function f(x) here, and return the function value\n",
    "```           \n",
    "For the second step, encapsulate the bisection algorithm in a function:\n",
    "```python\n",
    "def compute_root(f, x0, x1, tol, max_it):\n",
    "    # Implement bisection algorithm here, and return when tolerance is satisfied or\n",
    "    # number of iterations exceeds max_it\n",
    "\n",
    "    # Return the approximate root, value of f(x) and the number of iterations\n",
    "    return x, f, num_it\n",
    "\n",
    "# Compute approximate root of the function f\n",
    "x, f_x, num_it = compute_root(f, x0=3, x1=6, tol=1.0e-6, max_it=1000)\n",
    "```\n",
    "\n",
    "Try testing your program for a different function. A quadratic function, whose roots you can find analytically, would be a good test case.\n",
    "\n",
    "\n",
    "### Further optional extension \n",
    "\n",
    "Use recursion to write a `compute_root` function that *does not* require a `for` or `while` loop."
   ]
  },
  {
   "cell_type": "markdown",
   "metadata": {},
   "source": [
    "### Hilfestellung zur Lösung bzw. Implementierungshinweise \n",
    "\n",
    "Define the function for computing $f(x)$:"
   ]
  },
  {
   "cell_type": "code",
   "execution_count": null,
   "metadata": {
    "deletable": false,
    "editable": false,
    "nbgrader": {
     "checksum": "06f934406aa016836ce63505a5136576",
     "grade": false,
     "grade_id": "cell-a9cacdc8d223e7a4",
     "locked": true,
     "schema_version": 1,
     "solution": false
    }
   },
   "outputs": [],
   "source": [
    "def my_f(x):\n",
    "    \"Evaluate polynomial function\"\n",
    "    return x**3 - 6*x**2 + 4*x + 12"
   ]
  },
  {
   "cell_type": "markdown",
   "metadata": {},
   "source": [
    "Create the function that performs the bisection:"
   ]
  },
  {
   "cell_type": "code",
   "execution_count": null,
   "metadata": {
    "deletable": false,
    "nbgrader": {
     "checksum": "3a24916f619f77367d88ef3156d1e0a8",
     "grade": false,
     "grade_id": "cell-622edcb129dcc7f2",
     "locked": false,
     "schema_version": 1,
     "solution": true
    }
   },
   "outputs": [],
   "source": [
    "def compute_root(f, x0, x1, tol, max_it):\n",
    "    \"Compute roots of a function using bisection\"\n",
    "    # YOUR CODE HERE\n",
    "    raise NotImplementedError()\n",
    "     \n",
    "    return x_mid, f_mid, it"
   ]
  },
  {
   "cell_type": "code",
   "execution_count": null,
   "metadata": {
    "deletable": false,
    "editable": false,
    "nbgrader": {
     "checksum": "7312b324cda17ae9abcbcda67e9166fe",
     "grade": true,
     "grade_id": "cell-cb5a5cdf1d790edb",
     "locked": true,
     "points": 0,
     "schema_version": 1,
     "solution": false
    }
   },
   "outputs": [],
   "source": [
    "x, f, num_it = compute_root(my_f, x0=3, x1=6, tol=1.0e-6, max_it=1000)\n",
    "assert round(x - 4.534070134162903, 10) == 0.0"
   ]
  },
  {
   "cell_type": "markdown",
   "metadata": {},
   "source": [
    "#### Further optional extension: using recursion:"
   ]
  },
  {
   "cell_type": "code",
   "execution_count": null,
   "metadata": {
    "deletable": false,
    "nbgrader": {
     "checksum": "a1c34758641dd06b2980beb1edcc528e",
     "grade": false,
     "grade_id": "cell-c944bb2229317d4d",
     "locked": false,
     "schema_version": 1,
     "solution": true
    }
   },
   "outputs": [],
   "source": [
    "def compute_root(f, x0, x1, tol, max_it, it_count=0):\n",
    "    # YOUR CODE HERE\n",
    "    raise NotImplementedError()\n",
    "    \n",
    "    # Call compute_root recursively\n",
    "    return compute_root(f, x0, x1, tol, max_it, it_count)"
   ]
  },
  {
   "cell_type": "code",
   "execution_count": null,
   "metadata": {
    "deletable": false,
    "editable": false,
    "nbgrader": {
     "checksum": "e2a8ed573821574e3398861b6f7eff06",
     "grade": true,
     "grade_id": "cell-9ebe2f13b2899a8f",
     "locked": true,
     "points": 0,
     "schema_version": 1,
     "solution": false
    }
   },
   "outputs": [],
   "source": [
    "x, f, num_it = compute_root(my_f, x0=3, x1=6, tol=1.0e-6, max_it=1000)\n",
    "assert round(x - 4.534070134162903, 10) == 0.0"
   ]
  }
 ],
 "metadata": {
  "kernelspec": {
   "display_name": "Python 3",
   "language": "python",
   "name": "python3"
  },
  "language_info": {
   "codemirror_mode": {
    "name": "ipython",
    "version": 3
   },
   "file_extension": ".py",
   "mimetype": "text/x-python",
   "name": "python",
   "nbconvert_exporter": "python",
   "pygments_lexer": "ipython3",
   "version": "3.7.3"
  }
 },
 "nbformat": 4,
 "nbformat_minor": 1
}
