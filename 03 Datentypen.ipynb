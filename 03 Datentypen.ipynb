{
 "cells": [
  {
   "cell_type": "markdown",
   "metadata": {},
   "source": [
    "# 3. Kapitel: Elementare Datentypen (inkl. deren Binärrepräsentation), Typwandlungen sowie Ganz- und Gleitkommaarithmetik\n",
    "\n",
    "Wir haben es bisher vermieden, direkt sogenannte *(Daten-)Typen* zu diskutieren. Der „*Typ*“ ist die Klassenzugehörigkeit eines konkreten Objektes, mit dem eine Variable verbunden ist. Dies beeinflusst, wie ein Computer das Objekt im Speicher ablegt und wie Operationen wie beispielsweise Multiplikation und Division durchgeführt werden.\n",
    "\n",
    "In sogenannten *statisch typisierten* Programmiersprachen, wie beispielsweise C und C++, wird die Typisierung von Variablen bereits zur Programmierzeit festgelegt, weil die Programmierenden diese in der Regel in Ihren Programmen explizit bei jeder Variablenerstellung spezifizieren müssen. Python hingegen ist eine *dynamisch typisierte* Programmiersprache, d. h. die Datentypen werden bei der Ausführung eines Programmes aus den Anweisungen selbst abgeleitet. Deshalb konnten wir die Diskussion von Datentypen bis jetzt verschieben. Es ist wichtig, ein grundlegendes Verständnis von Datentypen zu haben und wie die Datentypen der Objekte (wie z. B. Variablen oder Konstanten) das Verhalten Ihrer Programme beeinflussen. Man kann sehr tief in dieses Thema einsteigen, insbesondere für numerische Berechnungen, aber wir werden das allgemeine Konzept von einem recht hohen Standpunkt aus studieren, \n",
    "betrachten einige Beispiele und zeigen einige potenzielle Fallstricke für technische Berechnungen auf. \n",
    "\n",
    "Bei Datentypen handelt es sich um ein recht trockenes Thema - es handelt sich jedoch um wichtige Hintergrundinformationen, die Sie für später wissen müssen, um in der Praxis ingenieursmäßig Programme entwickeln zu können, also bleiben Sie dran. Der folgende Bericht zeigt, was ohne Kenntnis von Datentypen schief gehen kann und wie Computer Zahlen intern verarbeiten."
   ]
  },
  {
   "cell_type": "markdown",
   "metadata": {},
   "source": [
    "## Das Versagen der Patriot-Raketenabwehrbatterie und die Explosion der Ariane 5 Rakete\n",
    "\n",
    "Es gab in der Vergangenheit schon zahlreiche Unfälle aufgrund von fehlerhaften Programmen, die Typen, Typkonvertierungen und Fließkomma-Arithmetik nicht korrekt behandelt haben. Hier sind drei Beispiele: \n",
    "\n",
    "1. Im Jahr 1991 gelang es einer US-Patriot-Rakete nicht, eine irakische Scud-Rakete bei Dhahran in Saudi-Arabien abzufangen, was zu dem Verlust von Menschenleben führte. Die anschließende Untersuchung ergab, dass die Patriot-Rakete die Scud-Rakete aufgrund eines Softwarefehlers nicht abfangen konnte. Die Software-Entwickler hatten die Auswirkungen der Gleitkommaarithmetik in Ihrem Computerprogramm nicht berücksichtigt. Dies führte zu einem kleinen Fehler bei der Berechnung der Zeit, was wiederum dazu führte, dass die Patriot-Rakete die eingehende Scud-Rakete verfehlte. \n",
    "\n",
    "   <img src=\"https://upload.wikimedia.org/wikipedia/commons/e/eb/Patriot_System_2.jpg\" width=\"300\" />\n",
    "\n",
    "   Wir werden genau den Programmierfehler reproduzieren, den die Software-Entwickler der Patriot-Raktetenabfang-Software gemacht haben. Siehe\n",
    "   https://en.wikipedia.org/wiki/MIM-104_Patriot#Failure_at_Dhahran für mehr Hintergrundinformationen über den Abfangfehler der Patriot-Raketenabwehrbatterie.\n",
    "   \n",
    "\n",
    "2. Schlechte Programmierung in Bezug auf die Art und Weise, wie Computer Zahlen speichern, führte 1996 zu einem Steuerungsversagen einer unbemanntem *Ariane 5* Rakete der Europäischen Weltraumbehörde, die kurz nach dem Start explodierte. Die durch die Explosion zerstörte Nutzlast hatte einen Wert von 500 Mio. US-Dollar. Hintergrundinformationen zu dem Unglück finden Sie unter https://en.wikipedia.org/wiki/Cluster_(spacecraft)#Launch_failure. \n",
    "   Wir werden den Fehler reproduzieren und zeigen, wie über 500 Mio. US-Dollar mit ein paar Zeilen Code hätten gerettet werden können.  \n",
    "   \n",
    "   <img src=\"https://upload.wikimedia.org/wikipedia/commons/thumb/3/3c/Ariane_5ES_with_ATV_4_on_its_way_to_ELA-3.jpg/320px-Ariane_5ES_with_ATV_4_on_its_way_to_ELA-3.jpg\" width=\"200\" />\n",
    "   \n",
    "3. Ein Funktionsfehler im Linearbeschleuniger *Therac-25* ist ein weiteres Beispiel für einen derartigen Software-Fehler in einem klinisch eingesetzten Medizinprodukt, der sechs Menschen schwer verletzte und drei von ihnen das Leben kostete, siehe https://de.wikipedia.org/wiki/Therac-25."
   ]
  },
  {
   "cell_type": "markdown",
   "metadata": {},
   "source": [
    "## Hintergrundinformation: Bits und Bytes\n",
    "\n",
    "Ein wichtiger Anteil am kompetenten Umgang mit Datentypen kommt dem Verständnis deren binärer Repräsenation in Computerspeichern zu. Der Computerspeicher besteht aus *Bits*, und jedes Bit kann eines von zwei Zustandswerten annehmen: 0 oder 1. Ein Bit ist der kleinste Baustein des Speichers in einem Digitalrechner. Bits sind sehr feingliedrig, so dass für viele Computerarchitekturen der kleinste „Block“, mit dem wir normalerweise arbeiten können, ein *Byte* ist. Ein Byte besteht aus 8 Bits. Wenn wir über Bits sprechen, z. B. bei einem 64-Bit-Betriebssystem, wird die Anzahl der Bits fast immer ein Vielfaches von 8 (ein Byte) sein.\n",
    "\n",
    "Je „größer“ ein Objekt ist, das wir speichern wollen, desto mehr Bytes brauchen wir dafür. Dies ist auch wichtig für technische Berechnungen, da die Anzahl der Bytes, die zum Speichern einer Zahl verwendet werden, die Genauigkeit bestimmt, mit der die Zahl gespeichert werden kann, und wie groß oder klein die Zahl sein kann. Je mehr Bytes, desto größer die Genauigkeit, aber der Preis dafür ist eine höhere Speichernutzung. Auch kann es zeit- und energieaufwendiger sein, Operationen wie Multiplikation und Division durchzuführen, wenn mehr Bytes verwendet werden."
   ]
  },
  {
   "cell_type": "markdown",
   "metadata": {},
   "source": [
    "## Lernziele\n",
    "\n",
    "- Elementare Datentypen in Python (für boolesche Werte, Zeichenketten und Ganz- und Kommazahlen) kennen, verstehen und in eigenen Programmen anwenden können\n",
    "- Den Datentyp eines Python-Objektes (wie einer Konstante oder Variable) untersuchen können\n",
    "- Grundlegende Typumwandlungen der elementaren Datentypen verstehen und durchführen können\n",
    "- Limitationen und Fallstricke der Gleitkommaarithmetik-Datentypen kennen, verstehen und in eigenen Programmen handhaben können"
   ]
  },
  {
   "cell_type": "markdown",
   "metadata": {},
   "source": [
    "# Was ist ein Datentyp?\n",
    "\n",
    "Alle Konstanten und Variablen haben einen „(Daten-)Typ“, der die Klassenzugehörigkeit einer konkreten Konstante oder konkreten Variable anzeigt, z. B. als ein Exemplar (= *Objekt* bzw. *Instanz*) einer Zahl oder Zeichenkette. In „statisch typisierten“ Programmiersprachen müssen wir normalerweise den Datentyp einer Variablen in einem Programm explizit angeben (d. h. festlegen bzw. „deklarieren“). In einer dynamisch typisierten Sprache, wie Python, haben Variablen immer noch Typen, aber der Interpreter kann Typen einer Variablen dynamisch (d. h. erst zur Laufzeit eines Programmes) bestimmen und ggf. ändern.\n",
    "\n",
    "Der Typ ist wichtig, weil er bestimmt, wie eine Variable gespeichert wird, wie sie sich bei der Durchführung von Operationen auf ihr verhält und wie sie mit anderen Variablen interagiert. So unterscheidet sich beispielsweise die Multiplikation zweier reeller Zahlen von der Multiplikation zweier komplexer Zahlen."
   ]
  },
  {
   "cell_type": "markdown",
   "metadata": {},
   "source": [
    "# Typidentifikation (auch bez. als „Introspektion“):  Abfrage des aktuellen Datentyps einer Variablen zur Laufzeit eines Programmes\n",
    "\n",
    "Bevor wir uns ausführlicher dem Studium von Datentypen widmen, betrachten wir, wie wir den Typ einer Variablen in Python prüfen können. Eine wirkungsmächtige Funktionalität von Python dafür ist die sog. *Introspektion*. Das bedeutet, dass wir den aktuellen Datentyp einer Variablen zur Laufzeit eines Python-Programmes abfragen können. Um den Typ einer Variablen abzufragen, verwenden wir die in Python eingebaute Funktion `type`:"
   ]
  },
  {
   "cell_type": "code",
   "execution_count": 1,
   "metadata": {},
   "outputs": [
    {
     "name": "stdout",
     "output_type": "stream",
     "text": [
      "<class 'bool'>\n",
      "<class 'int'>\n",
      "<class 'float'>\n"
     ]
    }
   ],
   "source": [
    "x = True\n",
    "print(type(x))\n",
    "\n",
    "a = 1\n",
    "print(type(a))\n",
    "\n",
    "a = 1.0\n",
    "print(type(a))"
   ]
  },
  {
   "cell_type": "markdown",
   "metadata": {},
   "source": [
    "Beachten Sie, dass `a = 1` und `a = 1.0` unterschiedliche Datentypen besitzen! Diese Unterscheidung ist sehr wichtig für numerische Berechnungen. Näheres dazu wird nachfolgend noch erläutert.\n",
    "\n",
    "Verwenden Sie die Funktion `type` freigiebig, um zu studieren (hier „zu erforschen und zu prüfen“) bzw. um v. a. langfristig ein solides Verständnis dafür zu entwickeln, was ein Python-Programm tatsächlich macht."
   ]
  },
  {
   "cell_type": "markdown",
   "metadata": {},
   "source": [
    "# Der boolesche Datentyp\n",
    "Der sog. *booleschen Datentyp* (benannt nach [George Boole](https://de.wikipedia.org/wiki/George_Boole)) ist uns bereits in Kapitel 2 begegnet. Mit diesem Datentyp kann nur genau einer der beiden Wahrheitswerte *wahr* (Schlüsselwort `True`) oder *falsch* (Schlüsselwort `False`) repräsentiert werden. Es handelt sich hierbei um den einfachsten bzw. den für die Informatik grundlegensten Datentyp. In Python wird er verkürzt als `bool` bezeichnet. "
   ]
  },
  {
   "cell_type": "code",
   "execution_count": 2,
   "metadata": {},
   "outputs": [
    {
     "name": "stdout",
     "output_type": "stream",
     "text": [
      "True <class 'bool'>\n"
     ]
    }
   ],
   "source": [
    "a = True\n",
    "b = False\n",
    "test = a or b  # eine boolesche ODER-Verknüpfung ergibt True, wenn beide Operanden True sind\n",
    "print(test, type(test))"
   ]
  },
  {
   "cell_type": "markdown",
   "metadata": {},
   "source": [
    "Prinzipiell könnten wir einen booleschen Wahrheitswert technisch mit nur einem Bit speichern (0 oder 1)."
   ]
  },
  {
   "cell_type": "markdown",
   "metadata": {},
   "source": [
    "# Zeichenketten („Strings“)\n",
    "\n",
    "Eine Zeichenkette in Python 3 ist eine Folge von (Unicode)-Einzelzeichen (engl. *string of characters* oder kurz „*string*“, noch kürzerer in Python als Datentyp `str` bezeichnet). In vorausgegangenen Aktivitäten haben wir Zeichenketten zur Ausgabe von informativen Nachrichten auf der Konsole mittels der `print`-Funktion verwendet. In Python können wir Zeichenketten durch Umschließung der gewünschten Zeichen mittels (gerader, nicht typographischer!) einfacher oder doppelter Anführungszeichen erstellen (die Wahl bleibt Ihrem persönlichen Vorlieben überlassen), z. B.\n",
    "\n",
    "    meine_zeichenkette = 'Dies ist eine Zeichenkette.'\n",
    "    \n",
    "oder\n",
    "\n",
    "    meine_zeichenkette = \"Dies ist eine Zeichenkette.\"\n",
    "    \n",
    "Nachfolgend weisen wir eine Zeichenkette an einer Variable zu, geben den Inhalt der Variablen auf der Konsole aus und prüfen den Typ der Variablen:"
   ]
  },
  {
   "cell_type": "code",
   "execution_count": 3,
   "metadata": {},
   "outputs": [
    {
     "name": "stdout",
     "output_type": "stream",
     "text": [
      "Dies ist eine Zeichenkette.\n",
      "<class 'str'>\n"
     ]
    }
   ],
   "source": [
    "meine_zeichenkette = \"Dies ist eine Zeichenkette.\"\n",
    "print(meine_zeichenkette)\n",
    "print(type(meine_zeichenkette))"
   ]
  },
  {
   "cell_type": "markdown",
   "metadata": {},
   "source": [
    "Wir können eine Vielzahl unterschiedlicher Operationen mit Zeichenketten durchführen. Beispielsweise können wir aus einer Zeichenketten das Zeichen, das an einer spezifizierten Zeichenkettenposition steht, als neue Zeichenkette extrahieren:"
   ]
  },
  {
   "cell_type": "code",
   "execution_count": 4,
   "metadata": {},
   "outputs": [
    {
     "name": "stdout",
     "output_type": "stream",
     "text": [
      "e\n",
      "<class 'str'>\n"
     ]
    }
   ],
   "source": [
    "# Erstelle eine Kopie des dritten Zeichens (Python beginnt mit dem Zählen bei Null)\n",
    "s2 = meine_zeichenkette[2]\n",
    "print(s2)\n",
    "print(type(s2))"
   ]
  },
  {
   "cell_type": "markdown",
   "metadata": {},
   "source": [
    "oder wir können eine Spanne an Zeichen (eine zusammenhängende Unterzeichenkette) als Kopie aus der Zeichenkette extrahieren:"
   ]
  },
  {
   "cell_type": "code",
   "execution_count": 5,
   "metadata": {},
   "outputs": [
    {
     "name": "stdout",
     "output_type": "stream",
     "text": [
      "Dies i\n",
      "<class 'str'>\n",
      "tte.\n"
     ]
    }
   ],
   "source": [
    "# Erstelle eine Kopie der ersten sechs Zeichen, drucke diese und prüfe den Datentyp\n",
    "s3 = meine_zeichenkette[0:6]\n",
    "print(s3)\n",
    "print(type(s3))\n",
    "\n",
    "# Erstelle eine Kopie der letzten vier Zeichen und gebe diese auf der Konsole aus\n",
    "s4 = meine_zeichenkette[-4:]\n",
    "print(s4)"
   ]
  },
  {
   "cell_type": "markdown",
   "metadata": {},
   "source": [
    "Wir können mehrere Zeichenketten aneinanderfügen (engl. *concatenation of strings*):"
   ]
  },
  {
   "cell_type": "code",
   "execution_count": 6,
   "metadata": {},
   "outputs": [
    {
     "name": "stdout",
     "output_type": "stream",
     "text": [
      "Mein Name ist: Martina\n"
     ]
    }
   ],
   "source": [
    "einleitung = \"Mein Name ist:\"\n",
    "name = \"Martina\"\n",
    "\n",
    "persoenliche_einleitung = einleitung + \" \" + name\n",
    "print(persoenliche_einleitung)"
   ]
  },
  {
   "cell_type": "markdown",
   "metadata": {},
   "source": [
    "Auch können wir die „Länge“ (d. h. die Anzahl der Zeichen) einer Zeichenkette mit der eingebauten Python-Funktion `len` ermitteln:"
   ]
  },
  {
   "cell_type": "code",
   "execution_count": 7,
   "metadata": {},
   "outputs": [
    {
     "name": "stdout",
     "output_type": "stream",
     "text": [
      "22\n"
     ]
    }
   ],
   "source": [
    "print(len(persoenliche_einleitung))"
   ]
  },
  {
   "cell_type": "markdown",
   "metadata": {},
   "source": [
    "Es gibt *viele* weitere Operationen, die wir mit Zeichenketten durchführen können. Wir werden weitere davon in spätern Aktivitäten noch kennen lernen."
   ]
  },
  {
   "cell_type": "markdown",
   "metadata": {
    "collapsed": true
   },
   "source": [
    "# Numerische Datentypen (zur Darstellung von Zahlen)\n",
    "\n",
    "Numerische Datentypen sind essentiell in vielen Digitalrechneranwendungen, insbesondere in wisschenschaftlicher und technischer Software. Python 3 stellt drei eingebaute numerische Datentypen zur Verfüfung:\n",
    "\n",
    "- Ganzzahl (engl. *integer*, Datentypname in Python: `int`)\n",
    "- Gleitkommazahl (engl. *floating point number*, Datentypname in Python: `float`)\n",
    "- Komplexe Zahl (engl. *complex number*, Datentypname in Python: `complex`)\n",
    "\n",
    "Dies ist häufig auch so in anderen Programmiersprachen, auch wenn es jeweils subtile Unterschiede zwischen den einzelnen Programmiersprachen geben kann."
   ]
  },
  {
   "cell_type": "markdown",
   "metadata": {},
   "source": [
    "## Ganzzahlen (engl. *integers*)\n",
    "\n",
    "Ganzzahlen (Python-Datentyp `int`) sind vorzeichenbehaftete ganze Zahlen und können daher sowohl positive als auch negative Ganzzahlen (engl. *integers*) darstellen. Ganzzahlen sollten verwendet werden, wenn eine Python-Ausdruck nur ganzzahlige (d. h. „ungebrochene“) Werte annehmen kann, z. B. bei Jahreszahlen oder der Anzahl der Studierenden, die diesen Programmierkurs belegen. Python schließt auf den Datentyp eines numerischen Wertes aus der grammatikalischen Form (der sog. Syntax), wie wir diesen eingeben. Der Schluss lautet Datentyp `int`, wenn wir eine vorzeichenbehaftete Ganzzahl ohne Dezimalpunkt eingben:"
   ]
  },
  {
   "cell_type": "code",
   "execution_count": 8,
   "metadata": {},
   "outputs": [
    {
     "name": "stdout",
     "output_type": "stream",
     "text": [
      "<class 'int'>\n"
     ]
    }
   ],
   "source": [
    "a = 2\n",
    "print(type(a))"
   ]
  },
  {
   "cell_type": "markdown",
   "metadata": {},
   "source": [
    "Wenn wir einen Deizimalpunkt hinzufügen, erhält die Variable den Datentyp `float` für eine sog. Gleitkommazahl (mehr dazu später):"
   ]
  },
  {
   "cell_type": "code",
   "execution_count": 9,
   "metadata": {},
   "outputs": [
    {
     "name": "stdout",
     "output_type": "stream",
     "text": [
      "<class 'float'>\n"
     ]
    }
   ],
   "source": [
    "a = 2.0\n",
    "print(type(a))"
   ]
  },
  {
   "cell_type": "markdown",
   "metadata": {},
   "source": [
    "Ganzzahloperationen haben wieder eine Ganzzahl als Ergebnis, beispielsweise die Addition oder Multiplikation zweier ganzer Zahlen werden exakt durchgeführt (es gibt keinen Fehler). Dies ist jedoch abhängig davon, dass es für die Variable genügend Speicher gibt (d. h. eine ausreichende Anzahl von Bytes), um das Ergebnis darzustellen bzw. zu speichern."
   ]
  },
  {
   "cell_type": "markdown",
   "metadata": {},
   "source": [
    "###### Darstellung von Ganzzahlen im Digitalrechner und Unterschreitung („Unterlauf“, engl. *underflow*) bzw. Überschreitung („Überlauf“, engl. *overflow*) des darstellbaren Ganzzahlenbereiches\n",
    "\n",
    "In den meisten Programmiersprachen ist eine feste Anzahl von Bits festgelegt, um einen gegebenen Ganzzahldatentyp darzustellen und im Digitalrechner zu verarbeiten und zu speichern. In den Programmiersprachen C and C++ wird eine Standardganzzahl (dort als Datentyp `int` bezeichnet) oftmals mit 32 Bit gespeichert, wobei es in diesen beiden Programmiersprachen auch Ganzzahldatentypen mit weniger oder mehr Bit pro Ganzzahldarstellung zur Auswahl stehen. \n",
    "Die größte mit 32 Bit darstellbare (vorzeichenbehaftete) Ganzzahl ist $2^{31} - 1 = 2147483647$.\n",
    "Wir werden später erklären, woher das kommt. Die bislang wichtige Botschaft ist, dass es bei einer festen Anzahl von Bit pro Ganzzahldarstellung eine größte Ganzzahl gibt, die gerade noch im Digitalrechner dargestellt, verarbeitet und gespeichert werden kann.\n",
    "\n",
    "####  Ganzzahlüberlauf (bzw. Überlauf des Ganzzahlwertebereiches, engl. *integer overflow*)\n",
    "\n",
    "Ein sogenannter Ganzzahlüberlauf (engl. *integer overflow*) tritt auf, wenn eine arithmetische Ganzzahloperation eine Ganzzahl als Resultat hat, die zu groß ist, um von einem gegebenen Ganzzahldatentypen mit fester Bit-Anzahl dargestellt zu werden. Beispielsweise wird der Zuweisungsversuch von $2^{31} + 1$ an eine Ganzzahlvariable mit 32 Bit einen Überlauf zur Folge haben mit potenziell unvorhersehbarem weiteren Programmverlauf. Dies wäre typischer Weise als ein sog. [Programmier- oder Softwarefehler](https://de.wikipedia.org/wiki/Programmfehler) (engl. *mistake*, *semantic error* bzw. als ein sogenannter „*bug*“) anzusehen.\n",
    "\n",
    "Die Explosion der Ariane 5 Rakete im Jahr 1996 wurde durch einen Ganzzahlüberlauf verursacht. Die Navigatíonssoftware der Rakete wurde von einer älteren, langsameren Ariane 4 Rakete übernommen. Die Navigationssoftware wieß die Raketengeschwindigkeit einer 16-Bit Ganzzahlvariablen zu (die größte mit 16 Bit darstellbare vorzeichenbehaftete Ganzzahl ist $2^{15} - 1 = 32767$), aber die Ariane 5 konnte schneller fliegen als das alte Raketengeneration und der Geschwindigkeitswert überschritt $32767$. Der resultierende Ganzzahlüberlauf führte zu einer Fehlfunktion des Navigationssystems der Rakete, die deren Explosion zur Folge hatte; eine sehr teuere Rakete mit einer sehr teueren Nutzlast wurden dadurch zerstört. Wir werden den Fehler reproduzieren, der zum Versagen des Navigationsystems führte, wenn wir die sogenannten Datentypkonvertierungen (engl *type conversions*) studieren.\n",
    "\n",
    "Python 3 vermeidet Ganzzahlüberläufe, indem es „dynamisch“ (d. h. zur Laufzeit eines Python-Programmes) die Anzahl der Bit anpasst, die zur Darstellung einer gegebenen Ganzzahl benötigt werden. Wir können die Anzahl der erforderlichen Bit zur Darstellung einer Gannzahlvariable in Python 3 inspizieren (ausschließlich eines weiteren Bit, das noch zur Darstellung des Vorzeichens der Ganzzahl benötigt wird) mit Hilfe der Python-Funktion [bit_length](https://docs.python.org/3/library/stdtypes.html#int.bit_length):"
   ]
  },
  {
   "cell_type": "code",
   "execution_count": 10,
   "metadata": {},
   "outputs": [
    {
     "name": "stdout",
     "output_type": "stream",
     "text": [
      "<class 'int'>\n",
      "4\n"
     ]
    }
   ],
   "source": [
    "a = 8\n",
    "print(type(a))\n",
    "print(a.bit_length())"
   ]
  },
  {
   "cell_type": "markdown",
   "metadata": {},
   "source": [
    "Wir sehen, dass 4 Bit erforderlich sind, um die Dezimalzahl 8 binär darzustellen. Wenn wir die Größe der Dezimalzahl wesentlich erhöhen, indem wir sie in die zwölfte Potenz erheben:"
   ]
  },
  {
   "cell_type": "code",
   "execution_count": 11,
   "metadata": {},
   "outputs": [
    {
     "name": "stdout",
     "output_type": "stream",
     "text": [
      "68719476736\n",
      "37\n"
     ]
    }
   ],
   "source": [
    "b = a**12\n",
    "print(b)\n",
    "type(b)\n",
    "print(b.bit_length())"
   ]
  },
  {
   "cell_type": "markdown",
   "metadata": {},
   "source": [
    "Wir sehen, dass nun 37 Bit erforderlich sind, um diese sehr viel größere Dezimalzahl binär darzustellen. Wenn der Datentyp `int` auf 32 Bit zur binären Darstellung von dezimalen Ganzzahlwerten beschränkt wird, dann hätte diese Potenzierungsoperation einen Ganzzahlüberlauf verursacht."
   ]
  },
  {
   "cell_type": "markdown",
   "metadata": {},
   "source": [
    "#### Gangnam Style\n",
    "\n",
    "Im Jahr 2014 wechselte Youtube von einer 32-Bit Ganzzahldarstellung auf eine 64-Bit Ganzzahldarstellung, weil das Video „Gangnam Style“ mehr als 2147483647 mal angeschaut worden war, was die größte (vorzeichenbehaftete) Ganzzahl ist, die noch mit 32 Bit binär dargestellt werden kann (siehe https://plus.google.com/+YouTube/posts/BUXfdWqu86Q)."
   ]
  },
  {
   "cell_type": "markdown",
   "metadata": {},
   "source": [
    "#### Boeing 787 Dreamliner „Bug“\n",
    "\n",
    "Im Jahr 2015 konnten sich die Elektrizitätsgeneratoren des Passagierflugzeugmodells 787 „Dreamliner“ der Firma Boeing aufgrund eines Ganzzahlüberlaufes fälschlicher Weise ausschalten, wenn die Generatoren 248 Tage ununterbrochen liefen. Als kurzfristige Lösung dieses Problemes (engl. ein sog. *quick fix*), solange noch keine entsprechende Softwareaktualisierung zur Fehlerbehebung (in diesem Kontext wird eine solche auch englisch als „*patch*“ bezeichnet) des Flugzugherstellers zur Behebung des Fehlers verfügbar war, wurde von der Aufsichtsbehörde für den Flugverkehr „Federal Aviation Administration“ (FAA) und der Firma Boeing eine Warnung und Handlungsdirektive herausgegeben, um sicherzustellen, dass die Elektrizitätsgeneratoren bei Flugzeugen dieses Flugzeugtyps nicht länger als 248 Tage am Stück liefen.\n",
    "Siehe https://www.spiegel.de/wissenschaft/technik/boeing-787-faa-warnt-vor-stromausfall-im-dreamliner-a-1031728.html und \n",
    "https://s3.amazonaws.com/public-inspection.federalregister.gov/2015-10066.pdf für den Hintergrund."
   ]
  },
  {
   "cell_type": "markdown",
   "metadata": {},
   "source": [
    "##  Gleitkommadarstellung von Kommazahlen (engl. *floating point number representation*)\n",
    "\n",
    "Die meisten technischen und wisschenschaftlichen Berechnungen basieren auf Zahlen, die nicht als (ungebrochene bzw. „integre“) ganze Zahlen (vom Datentyp `int`) dargestellt werden können. (Gebrochene) dezimale Kommazahlen, die grammatikalisch in Python durch einen Dezimalpunkt anstelle des im deutschen Sprachraum üblichen Dezimalkommas notiert werden, repräsentiert, verarbeitet und speichert Python mit Hilfe des Datentyps `float`. Ein Digitalrechner stellt eine [Gleitkommazahl](https://de.wikipedia.org/wiki/Gleitkommazahl) mittels eines Vorzeichens, einer Mantisse und einem Exponenten dar, beispielsweise für die dezimale Kommazahl $\\text{10,45}$\n",
    "\n",
    "$$\n",
    "\\text{10,45} = \\underbrace{+}_{\\text{Vorzeichen}} \\underbrace{1045}_{\\text{Mantisse}} \\cdot \\underbrace{10^{-2}}_{\\text{Exponent zur Basis 10 ist -2}}\n",
    "$$\n",
    "\n",
    "Python verwendet 64 Bit, um eine Gleitkommazahl vom Datentyp `float` darzustellen. In den Programmiersprachen, C / C++, C# und Java trägt dieser Datentyp die Bezeichnung `double`. Für das Vorzeichen der Kommazahl wird ein Bit benötigt, und es gibt einen im wisschenschaftlichen Rechnen verbreiteten Standard [IEEE 754](https://de.wikipedia.org/wiki/IEEE_754), der spezifiziert, wieviele Bit für die Mantisse und den Exponenten einer Gleitkommazahlendarstellung zu verwenden sind.\n",
    "\n",
    "Die Genauigkeit bzw. die sog. „Präzision“, mit der dezimale Kommazahlen in einem Digitalrechner dargestellt, gespeichert und verarbeitet werden können, ist beschränkt, weil eine endliche Anzahl von Bit für die Darstellung als Gleitkommazahl im Digitalrechner verwendet werden muss. Als Richtwert dürfen wir bei einem 64 Bit Gleitkommazahlenformat nach IEEE 754 Standard von mindestens 15 bis maximal 17 bedeutungstragenden (d. h. exakten) dezimalen Nachkommastellen ausgehen. Mehr dazu und weshalb die Patriot-Raketenabwehrbatterie durch einen Gleitkommazahlenfehler in ihrer System-Software versagte, betrachten wir noch."
   ]
  },
  {
   "cell_type": "markdown",
   "metadata": {},
   "source": [
    "### Gleitkommazahlen (engl. *floating point numbers*, abgekürzt „*floats*“)\n",
    "\n",
    "Wir können eine Gleitkommazahl in Python grammatikalisch mit Hilfe eines Dezimalpunktes darstellen:"
   ]
  },
  {
   "cell_type": "code",
   "execution_count": 12,
   "metadata": {},
   "outputs": [
    {
     "name": "stdout",
     "output_type": "stream",
     "text": [
      "2.0\n",
      "<class 'float'>\n",
      "3.0\n",
      "<class 'float'>\n"
     ]
    }
   ],
   "source": [
    "a = 2.0\n",
    "print(a)\n",
    "print(type(a))\n",
    "\n",
    "b = 3.\n",
    "print(b)\n",
    "print(type(b))"
   ]
  },
  {
   "cell_type": "markdown",
   "metadata": {},
   "source": [
    "oder in der uns bereits aus Kapitel 1 bekannten „wissenschaftliche Notation“ für dezimale Kommazahlen mittels `e` oder `E` aufschreiben (die Wahl zwischen `e` und `E` ist  Geschmacksache):"
   ]
  },
  {
   "cell_type": "code",
   "execution_count": 13,
   "metadata": {},
   "outputs": [
    {
     "name": "stdout",
     "output_type": "stream",
     "text": [
      "2.0 <class 'float'>\n",
      "2000.0 <class 'float'>\n",
      "2100.0 <class 'float'>\n"
     ]
    }
   ],
   "source": [
    "a = 2e0\n",
    "print(a, type(a))\n",
    "\n",
    "b = 2e3\n",
    "print(b, type(b))\n",
    "\n",
    "c = 2.1E3\n",
    "print(c, type(c))"
   ]
  },
  {
   "cell_type": "code",
   "execution_count": null,
   "metadata": {},
   "outputs": [],
   "source": []
  },
  {
   "cell_type": "markdown",
   "metadata": {},
   "source": [
    "### Komplexe Zahlen (engl. *complex numbers*)\n",
    "\n",
    "Eine komplexe Zahl ist eine erweiterte Kommazahl mit zwei kommazahligen Komponenten - einem Realteil und einem Imaginärteil. Wir können in Python eine komplexe Zahl notieren, indem wir das Zeichen `j` oder `J` hinter den Wert des Imaginärteils der komplexen Zahl schreiben:"
   ]
  },
  {
   "cell_type": "code",
   "execution_count": 14,
   "metadata": {},
   "outputs": [
    {
     "name": "stdout",
     "output_type": "stream",
     "text": [
      "2j <class 'complex'>\n",
      "(4-3j) <class 'complex'>\n"
     ]
    }
   ],
   "source": [
    "a = 2j\n",
    "print(a, type(a))\n",
    "\n",
    "b = 4 - 3j\n",
    "print(b, type(b))"
   ]
  },
  {
   "cell_type": "markdown",
   "metadata": {},
   "source": [
    "Die üblichen arithmetischen Operationen für Addition, Subtraktion, Multiplikation und Division können alle auch mit komplexen Zahlen durchgeführt werden. Der Real- und Imaginärteil können jeweils von einer komplexen Zahl abgefragt werden:"
   ]
  },
  {
   "cell_type": "code",
   "execution_count": 15,
   "metadata": {},
   "outputs": [
    {
     "name": "stdout",
     "output_type": "stream",
     "text": [
      "-3.0\n",
      "4.0\n"
     ]
    }
   ],
   "source": [
    "print(b.imag)\n",
    "print(b.real)"
   ]
  },
  {
   "cell_type": "markdown",
   "metadata": {},
   "source": [
    "und auch die konjugiert komplexe Zahl einer komplexen Zahl kann gebildet werden:"
   ]
  },
  {
   "cell_type": "code",
   "execution_count": 16,
   "metadata": {},
   "outputs": [
    {
     "name": "stdout",
     "output_type": "stream",
     "text": [
      "(4+3j)\n"
     ]
    }
   ],
   "source": [
    "print(b.conjugate())"
   ]
  },
  {
   "cell_type": "markdown",
   "metadata": {},
   "source": [
    "Wir können den „Betrag“ einer komplexen Zahl (auch als „Absolutbetrag“, als „Modulus“  oder als „Länge“ im Sinne  des euklidischen Abstandes der komplexen Zahl vom Urpsprung des komplexen Koordinatensystems bezeichnet) mit Hilfe von `abs` berechnen:"
   ]
  },
  {
   "cell_type": "code",
   "execution_count": 17,
   "metadata": {},
   "outputs": [
    {
     "name": "stdout",
     "output_type": "stream",
     "text": [
      "5.0\n"
     ]
    }
   ],
   "source": [
    "print(abs(b))"
   ]
  },
  {
   "cell_type": "markdown",
   "metadata": {},
   "source": [
    "Allgemeiner liefert uns `abs` den Wert des Absolutbetrages eines numerischen Objektes, beispielsweise:"
   ]
  },
  {
   "cell_type": "code",
   "execution_count": 18,
   "metadata": {},
   "outputs": [
    {
     "name": "stdout",
     "output_type": "stream",
     "text": [
      "21.6\n"
     ]
    }
   ],
   "source": [
    "a = -21.6\n",
    "a = abs(a)\n",
    "print(a)"
   ]
  },
  {
   "cell_type": "markdown",
   "metadata": {},
   "source": [
    "# Konvertierung von Datentypen (engl. *\\[type\\] casting*)\n",
    "\n",
    "Oftmals können wir zwischen unterschiedlichen Datentypen konvertieren (hin- und herwandlen). Dies bezeichnet man als Datentypumwandlung (engl. *type conversion*) oder auch als Datentypkonvertierung (engl. *type casting*). In einigen Fällen macht Python das für uns *implizit* (engl. *implicit type cast*), in anderen Fällen können oder müssen wir Python *explizit* dazu anweisen („zwingen“), den Datentyp eines Zahlenliterals, einer Variable oder des Ergebnisses eines arithmetischen Ausdruckes in einen von uns ingenieurmäßig vorgegebenen Datentypen umzuwandlen (engl. *explicit type cast*).\n",
    "\n",
    "Wenn wir zwei Python-Ganzzahlobjekte (vom Phyton 3 Datentyp `int`) addieren, wird das Ergebnis dieser Berechnung wieder vom Python 3 Ganzzahldatentyp `int` sein:"
   ]
  },
  {
   "cell_type": "code",
   "execution_count": 19,
   "metadata": {},
   "outputs": [
    {
     "name": "stdout",
     "output_type": "stream",
     "text": [
      "19 <class 'int'>\n"
     ]
    }
   ],
   "source": [
    "a = 4\n",
    "b = 15\n",
    "c = a + b\n",
    "print(c, type(c))"
   ]
  },
  {
   "cell_type": "markdown",
   "metadata": {},
   "source": [
    "Wenn wir jedoch zu einem Zahlenobjekt vom Datentyp `int` ein Zahlenobjekt vom Datentyp `float` addieren, wird das Ergebnis der Berechnung vom Datentyp `float` sein:"
   ]
  },
  {
   "cell_type": "code",
   "execution_count": 20,
   "metadata": {},
   "outputs": [
    {
     "name": "stdout",
     "output_type": "stream",
     "text": [
      "19.0 <class 'float'>\n"
     ]
    }
   ],
   "source": [
    "a = 4\n",
    "b = 15.0  # hinzufügen von '.0' teilt Python mit, dass es sich hier um eine GK-Zahl handelt\n",
    "c = a + b\n",
    "print(c, type(c))"
   ]
  },
  {
   "cell_type": "markdown",
   "metadata": {},
   "source": [
    "Wenn wir zwei Python-Ganzzahlobjekte mit dem Operator `/` dividieren, ist das Ergebnis der Berechnung eine Gleitkommazahl vom Python-Datentyp `float`:"
   ]
  },
  {
   "cell_type": "code",
   "execution_count": 21,
   "metadata": {},
   "outputs": [
    {
     "name": "stdout",
     "output_type": "stream",
     "text": [
      "4.0 <class 'float'>\n"
     ]
    }
   ],
   "source": [
    "a = 16\n",
    "b = 4\n",
    "c = a / b\n",
    "print(c, type(c))\n",
    "b = 2"
   ]
  },
  {
   "cell_type": "markdown",
   "metadata": {},
   "source": [
    "Eine sogenannte „*Ganzzahldivision* (ohne Rest)“ können wir in Python 3 mit dem Operator `//` durchführen, z. B.:"
   ]
  },
  {
   "cell_type": "code",
   "execution_count": 22,
   "metadata": {},
   "outputs": [
    {
     "name": "stdout",
     "output_type": "stream",
     "text": [
      "5 <class 'int'>\n"
     ]
    }
   ],
   "source": [
    "a = 16\n",
    "b = 3\n",
    "c = a // b\n",
    "print(c, type(c))"
   ]
  },
  {
   "cell_type": "markdown",
   "metadata": {},
   "source": [
    "so dass in diesem Fall das Berechnungsergebnis den Python-Ganzzahldatentyp `int` besitzt.\n",
    "\n",
    "Im Allgemeinen werden *arithmetische Operationen* von „Rechenausdrücken“ (mathematisch auch als „arithmetische Terme“ bezeichnet), welche die Python-Zahlendatentypen `int` und `float` miteinander kombinieren („(ver)mischen“), ein (ausgewertetes) Berechnungsergebnis vom Gleitkommadatentyp `float` erzeugen und arithmetische Ausdrücke, in denen die Python-Datentypen `int` oder `float` mit dem Datentyp `complex` kombiniert werden, werden ein ausgewertetes Zahlenergebnis vom Python-Datentyp `complex` ergeben. Wenn wir Zweifel haben oder uns unsicher sind, können wir den Datentyp eines Python-Objektes immer mit `type` untersuchen, auf Übereinstimmung mit unseren Wünschen bzw. Anforderungen (Wünschen von uns oder unseren Kunden / Interessenhaltern bzw. auch von gesetzlichen, unternehmerischen, technischen oder regulatorischen Vorgaben) prüfen und gegebenenfalls bestätigen.  "
   ]
  },
  {
   "cell_type": "markdown",
   "metadata": {},
   "source": [
    "## Explizite Datentypkonvertierung (engl. *explicit type conversion*)\n",
    "\n",
    "Wir können explizit den Datentyp eines Python-Objektes umwandeln (ein sog. „*cast*“ durchführen), z. B. ein Python-Objekt vom Datentyp `int` in ein Python-Objekt vom Datentyp `float` umwandeln:"
   ]
  },
  {
   "cell_type": "code",
   "execution_count": 23,
   "metadata": {},
   "outputs": [
    {
     "name": "stdout",
     "output_type": "stream",
     "text": [
      "1 <class 'int'>\n",
      "1.0 <class 'float'>\n"
     ]
    }
   ],
   "source": [
    "a = 1\n",
    "print(a, type(a))\n",
    "\n",
    "a = float(a)  # Dies wandelt das mit der Variablen 'a' assoziierte Ganzzahlobjekt 1 vom\n",
    "              # Datentyp int in das Gleitkommazahlobjekt 1.0 vom Datentyp float um\n",
    "              # und weist das umgewandelte Zahlenobjekt wieder der Variablen 'a' zu\n",
    "print(a, type(a))"
   ]
  },
  {
   "cell_type": "markdown",
   "metadata": {},
   "source": [
    "Andersherum:"
   ]
  },
  {
   "cell_type": "code",
   "execution_count": 24,
   "metadata": {},
   "outputs": [
    {
     "name": "stdout",
     "output_type": "stream",
     "text": [
      "1.99 <class 'float'>\n",
      "1 <class 'int'>\n"
     ]
    }
   ],
   "source": [
    "y = 1.99\n",
    "print(y, type(y))\n",
    "\n",
    "z = int(y)\n",
    "print(z, type(z))"
   ]
  },
  {
   "cell_type": "markdown",
   "metadata": {},
   "source": [
    "Beachten Sie, dass die Nachkommastellen bei der Datentypumwandlung eines Gleitkommazahlenobjektes vom Datentyp `float` in ein Ganzzahlobjekt vom Datentyp `int` verloren gehen; die Zahlen hinter dem Dezimalpunkt, der als Kommaposition bzw. Dezimaltrennzeichen für Python dient, werden verworfen. Diese Art der Rundung von Kommzahlen in Ganzzahlen wird auch als „Rundung in Richtung der Null“ bzw. als Abschneiden (engl. „*truncation*“) von dezimalen Nachkommastellen bezeichnet.\n",
    "\n",
    "Eine häufige Erfordernis beim Programmieren ist die Umwandlung von numerischen Datentypen in Zeichenketten und umgekehrt, beispielsweise wird oftmals eine Zahl aus einer Datei als Zeichenkette (dargestellt als Python-Datentyp `string`) in unser Programm eingelesen oder eine Anwender oder eine Anwenderin unseres Programmes könnte einen Zahlwerten über die Tastatur in unser Programm eingeben, die Python dann zunächst als Zeichenkette vom Datentyp `string` einliest. Im folgenden Beispiel sehen wir die Konvertierung einer Gleitkommazahl vom Datentyp `float` in eine Zeichenkette vom Datentyp `string`:"
   ]
  },
  {
   "cell_type": "code",
   "execution_count": 25,
   "metadata": {},
   "outputs": [
    {
     "name": "stdout",
     "output_type": "stream",
     "text": [
      "1.023 <class 'str'>\n"
     ]
    }
   ],
   "source": [
    "a = 1.023\n",
    "b = str(a)\n",
    "print(b, type(b))"
   ]
  },
  {
   "cell_type": "markdown",
   "metadata": {},
   "source": [
    "und als Beispiel für zwei Umwandlungen in die andere Richtung (Datentypumwandlung von `string` nach `float`):"
   ]
  },
  {
   "cell_type": "code",
   "execution_count": 26,
   "metadata": {
    "scrolled": true
   },
   "outputs": [
    {
     "name": "stdout",
     "output_type": "stream",
     "text": [
      "15.0718.07\n",
      "33.14\n"
     ]
    }
   ],
   "source": [
    "a = \"15.07\"\n",
    "b = \"18.07\"\n",
    "\n",
    "print(a + b)                # Zeichenkettenaneinanderreihung (concatenation of strings)\n",
    "print(float(a) + float(b))  # Summe zweier Gleitkommazahlen"
   ]
  },
  {
   "cell_type": "markdown",
   "metadata": {},
   "source": [
    "Wenn wir den folgenden Python-Code ausprobieren würden:\n",
    "```python\n",
    "print(int(a) + int(b))\n",
    "```\n",
    "könnten wir (bei nicht nur einer Ganzahl in der Zeichenketten) einen Laufzeitfehler (engl. *runtime error*) erhalten, dass die Zeichenketten vom Datentyp `string` nicht in Ganzzahlen vom Datentyp `int` konvertiert werden konnten. Im folgenden Fall funktioniert es aber:"
   ]
  },
  {
   "cell_type": "code",
   "execution_count": 27,
   "metadata": {},
   "outputs": [
    {
     "name": "stdout",
     "output_type": "stream",
     "text": [
      "33\n"
     ]
    }
   ],
   "source": [
    "a = \"15\"\n",
    "b = \"18\"\n",
    "print(int(a) + int(b))"
   ]
  },
  {
   "cell_type": "markdown",
   "metadata": {},
   "source": [
    "weil die Zeichenfolgen in den beiden Zeichenketten fehlerfrei in Ganzzahlen vom Datentyp `int` umgewandelt werden können."
   ]
  },
  {
   "cell_type": "markdown",
   "metadata": {},
   "source": [
    "## Die Explosion der Ariane 5 Rakete und Datentypumwandlung\n",
    "\n",
    "Die Explosion der Ariane 5 Rakete wurde aufgrund eines Softwarefehlers in ihrer Navigationssoftware durch einen Überlauf (engl. *overflow*) eines festen 16-Bit Ganzzahlwertebereiches verursacht (engl. *integer overflow*). Eine Komponente des Navigationssystems der Rakete speicherte die aktuelle Geschwindigkeit der Rakete in einer 64-Bit Gleitkommazahl und diese wurde in einer anderen Komponente der Navigationssoftware, die ohne neuerliche Tests des Gesamtsystems unverändert von der langsameren Ariane 4 Rakete übernommen worden war, in eine 16-Bit Ganzzahl umgewandelt (Fachbegriff: „explizite Typeinengung“, engl. „*explicit [data]type downcast*“, leider häufig auch missverständlich nur verkürzt und unpräzise einfach nur als „*cast*“ bezeichnet). Jedoch erreichte die Ariane 5 Rakete nach ihrem Start eine von ihren Sensoren gemessene 64-Bit Gleitkommazahlgeschwindigkeit von mehr als $32767$, der größten Zahl, die mit einer (vorzeichenbehafteten) 16-Bit Ganzzahl noch dargestellt werden kann, und dies führte zu einem 16- Bit Ganzzahlüberlauf in der Navigationssoftware, der zum Versagen des Navigationssystems der Ariane 5 Rakete führte und in der Folge ihre Explosion verursachte.\n",
    "\n",
    "Im Folgenden vollziehen wir mit Python nach, was in der fehlerhaften Navigationssoftware der Ariane 5 Rakete vor ihrer Explosion geschah. Wir gehen von einem über Geschwindigkeitssensoren gemessenen aktuellen Geschwindigkeitswert der Rakete von $\\text{40000,54}$ aus (die zugrundeliegende physikalische Einheit des Geschwindigkeitswertes ist für unsere Demonstration nicht relevant), der von uns als 64-Bit Gleitkommazahl vom Python-Datentyp `float` gespeichert wird:"
   ]
  },
  {
   "cell_type": "code",
   "execution_count": 28,
   "metadata": {},
   "outputs": [],
   "source": [
    "geschwindigkeit_als_gleitkommazahl = 40000.54  # vom Python-Datentyp float"
   ]
  },
  {
   "cell_type": "markdown",
   "metadata": {},
   "source": [
    "Wenn wir die Gleitkommazahl zunächst in eine (vorzeichenbehaftete) 32-Bit Ganzzahl umwandeln (wir verwenden NumPy um Ganzzahldatentypen mit einer festen Anzahl von Bit verwenden zu können; mehr über NumPy lernen wir noch in einem späteren Kapitel):"
   ]
  },
  {
   "cell_type": "code",
   "execution_count": 29,
   "metadata": {},
   "outputs": [
    {
     "name": "stdout",
     "output_type": "stream",
     "text": [
      "40000\n"
     ]
    }
   ],
   "source": [
    "import numpy as np\n",
    "# Konvertiere die Geschwindigkeit in eine 32-Bit Ganzzahl (explizite Typeinengung)\n",
    "geschwindikgeit_als_32_bit_ganzzahl = np.int32(geschwindigkeit_als_gleitkommazahl)\n",
    "print(geschwindikgeit_als_32_bit_ganzzahl)"
   ]
  },
  {
   "cell_type": "markdown",
   "metadata": {},
   "source": [
    "Die Umwandlung in eine Ganzzahl verlief hier wie von uns erwartet (gleicher Ganzzahlanteil, aber mit abgeschnittenen Nachkommastellen). Wenn wir nun jedoch die Umwandlung des großen Gleitkommageschwindigkeitswertes vom Datentyp `float` in eine (vorzeichenbehaftete) 16-Bit Ganzzahl ingenieurmäßig explizit anfordern („erzwingen“):"
   ]
  },
  {
   "cell_type": "code",
   "execution_count": 30,
   "metadata": {},
   "outputs": [
    {
     "name": "stdout",
     "output_type": "stream",
     "text": [
      "-25536\n"
     ]
    }
   ],
   "source": [
    "geschwindikgeit_als_16_bit_ganzzahl = np.int16(geschwindigkeit_als_gleitkommazahl)\n",
    "print(geschwindikgeit_als_16_bit_ganzzahl)"
   ]
  },
  {
   "cell_type": "markdown",
   "metadata": {},
   "source": [
    "Wir sehen hier ganz offenkundig die Folge eines vorzeichenbehafteten Ganzzahlüberlaufes, weil die festen 16-Bit des NumPy Ganzzahldatentypes `np.int16` nicht ausreichen, um die Zahl\n",
    "$40000$ semantisch korrekt darzustellen, in Berechnungen zu verarbeiten und zu speichern.\n",
    "\n",
    "Das Versagen des Navigationssystems der Ariane 5 Rakete hätte durch Tests vor ihrem Start und die folgenden Code-Zeilen verhindert werden können:"
   ]
  },
  {
   "cell_type": "code",
   "execution_count": 31,
   "metadata": {},
   "outputs": [
    {
     "name": "stdout",
     "output_type": "stream",
     "text": [
      "Softwarefehler, die aktuelle Geschwindigkeit ist zu groß für eine 16-Bit Ganzzahl!\n"
     ]
    }
   ],
   "source": [
    "if abs(geschwindigkeit_als_gleitkommazahl) > np.iinfo(np.int16).max:\n",
    "    print(\"Softwarefehler, die aktuelle Geschwindigkeit ist zu groß für eine 16-Bit Ganzzahl!\")\n",
    "    # Rufe hier eine Anweisung auf, die das Programm an dieser Stelle vorzeitig beendet.\n",
    "else:\n",
    "    geschwindikgeit_als_16_bit_ganzzahl = np.int16(geschwindigkeit_als_gleitkommazahl)"
   ]
  },
  {
   "cell_type": "markdown",
   "metadata": {},
   "source": [
    "Diese wenigen Zeilen an Programmieranweisungen zusammen mit sorgfältigem Testen der Navigationssoftware hätten 500 Mio. US-Dollar explodierten Nutzlastwert und die Verlustkosten für eine sehr teure Rakete verhindern können.\n",
    "\n",
    "Der Ariane 5 Vorfall ist nicht nur ein Beispiel für mangelhafte Programmierung, sondern auch ein Beispiel für unzureichende Qualitätssicherung (aufgrund nicht durchgeführter Tests des Gesamtsystems vor dem Raketenstart) und schlechter Softwaretechnik (engl. *software engineering*). Sorgfältige Tests des Gesamtsystems bzw. der Navigationssoftware hätten dieses sicherheitskritische Problem vor dem Start der Rakete finden müssen. Die Navigationssoftware hätte zudem den aktuellen Geschwindigkeitswert prüfen sollen, bevor es eine solche kritische explizite Datentypeinengung mit Risiko zum Wertebereichsüberlauf erzwingt und in der Testphase vor dem Start, einen Programmabbruch mit Nachricht für die Qualitätssicherung ausgeben müssen bzw. defensiv, falls die Qualitätssicherung versagte, im Betrieb der Rakete nicht noch mit fehlerhaften Geschwindigkeitswerten weiterrechnen bzw. weiternavigieren dürfen."
   ]
  },
  {
   "cell_type": "markdown",
   "metadata": {},
   "source": [
    "# Binärdarstellung und Gleitkommaarithmetik\n",
    "\n",
    "## Binäre (zweiwertige) Darstellung von Daten\n",
    "\n",
    "Digitalrechner (die derzeit verbreitete technische Realisierung von universell nützlichen „Computern“) repräsentieren und speichern Daten mit Hilfe sogenannter „Bits“. Ein Bit können wir uns metaphorisch als Kippschalter (engl. *switch*), technisch auch als „Kippglied“ oder „Kippstufe“ (engl. *flip-flop*) bezeichnet, vorstellen, der zu einem gegebenen Zeitpunkt höchstens jeweils einen von nur genau zwei diskreten Zuständen, die oft nur kurz mit den Zahlen 0 und 1 bezeichnet werden, annehmen kann. Das bedeutet, dass ein „Computer“ bzw. genauer ein sog. „Digitialrechner“ (von lat. *digitus*, hier: ein „[zweigliedriger] Finger“ bzw. ein „Daumen“ mit genau zwei Fingerknochen) Daten *binär* (d. h. zweiwertig) bzw. auch im speziellen Fall von Zahlen diese zur Basis 2 darzustellen, zu verarbeiten und zu speichern, wohingegen wir es meist gewohnt sind mit Dezimalzahlen (zur Basis 10) umzugehen.\n",
    "Beispielsweise ist die binär codierte Dualzahl $110_2$ (zur Basis 2) gleich $0 \\cdot 2^{0} + 1 \\cdot 2^{1} + 1 \\cdot 2^{2} = 6_{10}$ (zur Basis 10), lies $110_2$ von rechts, der niederwertigsten Stelle $2^{0}$ [engl. *least significant bit*, kurz LSB], nach links, der höchstwertigsten Stelle $2^{2}$ [engl. *most significant bit*, kurz MSB].\n",
    "Die nachfolgende Tabelle zeigt für einige Zahlen jeweils zur angegebenen Dezimalzahl (zur Basis 10) die ihr entsprechende Dualzahl (zur Basis 2), siehe <https://de.wikipedia.org/wiki/Dualsystem> oder <https://en.wikipedia.org/wiki/Binary_number>, wenn sie mehr darüber lernen möchten.\n",
    "\n",
    "|Dezimalzahl | Dualzahl |\n",
    "|------------|----------|\n",
    "|0           |  0       | \n",
    "|1           |\t1       | \n",
    "|2           |\t10      |\n",
    "|3           |\t11      |\n",
    "|4           |\t100     |\n",
    "|5           |\t101     |\n",
    "|6           |\t110     |\n",
    "|7           |\t111     |\n",
    "|8           |\t1000    |\n",
    "|9           |\t1001    |\n",
    "|10          |\t1010    |\n",
    "|11\t         |  1011    |\n",
    "|12\t         |  1100    |\n",
    "|13          |\t1101    |\n",
    "|14          |\t1110    |\n",
    "|15          |\t1111    |\n",
    "\n",
    "Um eine beliebige dezimale Ganzzahl im Digitalrechner darzustellen, benötigen wir genügend Bit um ihre Dualdarstellung zu speichern. Wenn wir $n$ Bit verfügbar haben, ist die größte damit dual darstellbare (vorzeichenbehaftete) dezimale Ganzzahl $2^{n-1} - 1$ (der Exponent ist nur $n - 1$, weil wir bereits ein Bit dafür benötigen, um auch das Vorzeichen der dezimalen Ganzzahl darzustellen).\n",
    "\n",
    "Wir können eine gegebene Dezimalzahl in die ihr entsprechende Darstellung im Dualsystem mit Hilfe der Python-Funktion `bin` ausgeben lassen:"
   ]
  },
  {
   "cell_type": "code",
   "execution_count": 32,
   "metadata": {},
   "outputs": [
    {
     "name": "stdout",
     "output_type": "stream",
     "text": [
      "0b10\n",
      "0b110\n",
      "0b1101110\n"
     ]
    }
   ],
   "source": [
    "print(bin(2))\n",
    "print(bin(6))\n",
    "print(bin(110))"
   ]
  },
  {
   "cell_type": "markdown",
   "metadata": {},
   "source": [
    "Das Präfix `0b` kennzeichnet, dass es sich um eine Darstellung im Dualsystem (zur Basis 2) handelt."
   ]
  },
  {
   "cell_type": "markdown",
   "metadata": {
    "collapsed": true
   },
   "source": [
    "## Gleitkommazahlen (engl. *floating point numbers*)\n",
    "\n",
    "Im Vorhergehenden haben wir bereits die folgende „wissenschaftliche Notation“ (engl. *scientific notation*) von dezimalen Kommazahlen, die auch als „halblogarithmische Darstellung“ bezeichnet wird, eingeführt:\n",
    "\n",
    "$$\n",
    "\\text{10,45} = \\underbrace{+}_{\\text{Vorzeichen}} \\underbrace{1045}_{\\text{Mantisse}} \\cdot \\underbrace{10^{-2}}_{\\text{Exponent zur Basis 10 ist -2}}\n",
    "$$\n",
    "\n",
    "Das vorangegangene Beispiel für eine gebrochene Dezimalzahl ist jedoch etwas irreführend, weil Digitalrechner nicht die Basis 10, sondern die Basis 2 verwenden, um die Mantisse und den Exponenten darzustellen, zu verarbeiten und zu speichern.\n",
    "\n",
    "Wenn wir die uns vertraute Basis 10 verwenden, können wir den Dezimalbruch $\\frac{1}{3}$ nicht genau als dezimale Kommazahl mit nur endlich vielen Dezimalstellen darstellen. Wenn wir statt dessen gefallen daran hätten, die Basis 3 des ternären (dreiwertigen) Zahlensystems zu verwenden, um Kopfrechenaufgaben durchzuführen (was wir selbstverständlich nicht haben), könnten wir den Dezimalbruch $\\frac{1}{3}$ mit nur endlich vielen Ternärstellen exakt notieren. Jedoch sind Dezimalbrüche, die wir exakt zur Basis 10 aufschreiben können, nicht notwendigerweise exakt zu einer anderen Stellenewertbasis mit nur endlich vielen Stellen darstellbar. Eine Folge daraus ist, dass selbst einfache Brüche zur Basis 10 nicht notwendigerweise exakt mit nur endlich vielen Stellen zur Basis 2 dargestellt werden können.\n",
    "\n",
    "Ein klassisches Beispiel ist der Dezimalbruch $\\frac{1}{10} = \\text{0,1}$. Diese einfache gebrochene („rationale“) Dezimalzahl kann nicht exakt mit nur endlich vielen Stellen zur Basis 2 dargesellt werden. Andererseits ist eine Darstellung des Dezimalbruches $\\frac{1}{2} = \\text{0,5}$ mit nur endlich vielen Stellen zur Basis 2 exakt möglich. Lassen Sie uns im Folgenden die dezimale Kommazahl $\\text{0,1}$ an eine Python-Variable `x` zuweisen und deren Inhalt auf der Konsole ausgeben, um diesen Sachverhalt näher zu untersuchen:"
   ]
  },
  {
   "cell_type": "code",
   "execution_count": 33,
   "metadata": {},
   "outputs": [
    {
     "name": "stdout",
     "output_type": "stream",
     "text": [
      "0.1\n"
     ]
    }
   ],
   "source": [
    "x = 0.1\n",
    "print(x)"
   ]
  },
  {
   "cell_type": "markdown",
   "metadata": {},
   "source": [
    "Augenscheinlich entspricht der von der `print` Anweisung ausgegebene Variableninhalt dem exakten Wert, aber die `print` Anweisung verbirgt einige Nachkommastellen des Variableninhaltes von `x` vor uns. Wenn wir die `print` Anweisung bitten, 30 Nachkommastellen der in der Variablen `x` gespeicherten Gleitkommazahl (vom Python-Datentyp `float`) auszugeben, sehen wir nicht mehr exakt die dezimale Kommazahl $\\text{0,1}$:"
   ]
  },
  {
   "cell_type": "code",
   "execution_count": 34,
   "metadata": {},
   "outputs": [
    {
     "name": "stdout",
     "output_type": "stream",
     "text": [
      "0.100000000000000005551115123126\n"
     ]
    }
   ],
   "source": [
    "print('{0:.30f}'.format(x))"
   ]
  },
  {
   "cell_type": "markdown",
   "metadata": {},
   "source": [
    "Die Differenz zwischen der dezimalen Kommazahl $\\text{0,1}$ und ihrer Darstellung mit nur endlich vielen Stellen zur Basis 2 im 64-Bit Python-Datentyp `float` wird als Rundungsfehler (engl. *round-off error*) bezeichnet. (Wir studieren die Grammatik zur Formatierung der Ausgabe einer `print` Anweisung noch in einem folgenden Kapitel.) Aus der obigen Experiment können wir entnehmen, dass die Darstellung zur Basis 2 für die dezimale Kommazahl $\\text{0,1}$ auf 17 dezimale Nachkommastellen genau ist.\n",
    "\n",
    "In einer Wiederholung der Aktivität für die dezimale Kommzahl $\\text{0,5}$ können wir augenscheinlich keine Abweichung vom exakten Wert feststellen:"
   ]
  },
  {
   "cell_type": "code",
   "execution_count": 35,
   "metadata": {},
   "outputs": [
    {
     "name": "stdout",
     "output_type": "stream",
     "text": [
      "0.500000000000000000000000000000\n"
     ]
    }
   ],
   "source": [
    "print('{0:.30f}'.format(0.5))"
   ]
  },
  {
   "cell_type": "markdown",
   "metadata": {},
   "source": [
    "Der Rundungsfehler für die Darstellung der dezimalen Kommazahl $\\text{0,1}$ im Python-Datentyp `float` zur Basis 2 ist für uns im Alltag begegnende Größenordnungen von Zahlen sehr klein und wird uns in vielen Alltagsfällen keine nennenswerten Probleme oder negative Konsequenzen wie Rechenfehler mit Schadensfolge verursachen. Manchmal müssen wir aber im mathematischen, technischen oder wissenschaftlichen Bereich mit Zahlen ganz unterschiedlicher Größenordnung in Berechnungen umgehen, in denen sich dann die Rundungsfehler aufaddieren („akkumulieren“) und die folgefehlerbefhafteten, zahlenmäßig ausgewerteten „Ergebnisse“ die für eine konkrete Anwendung erforderliche Genauigkeit nicht mehr aufweisen und so in der Folge zu Fehlschlüssen, Systemversagen oder auch Schäden führen können."
   ]
  },
  {
   "cell_type": "markdown",
   "metadata": {},
   "source": [
    "### Beispiel für die ungenaue Darstellung von dezimalen Gleitkommazahlen zur Basis 2\n",
    "\n",
    "Die folgende mathematische Gleichung ist trivial:\n",
    "$$\n",
    "x = 11x - 10x\n",
    "$$\n",
    "\n",
    "Für eine entsprechende Variablenzuweisung in Pseudo-Code mit $x = \\text{0,1}$ können wir schreiben:\n",
    "\n",
    "$$\n",
    "x \\leftarrow 11x - 1\n",
    "$$\n",
    "\n",
    "Nun, beginnend mit einem initialen Wert von $x = \\text{0,1}$, werten wir den arithmetischen Ausdruck auf der rechten Seite der Zuweisung aus und weisen das resultierende zahlenmäßige Ergebnis als „neuen“ Wert wieder der Variablen $x$ zu und verwenden dieses neue $x$ um die rechte Seite der Zuweisung erneut auszuwerten. Mathematisch arithmetisch ist die Berechnung trivial: $x$ sollte gleich $\\text{0,1}$ bleiben.\n",
    "Wir testen dies nun in einem Python-Programm, das die Berechnung 20 mal wiederholt:"
   ]
  },
  {
   "cell_type": "code",
   "execution_count": 36,
   "metadata": {},
   "outputs": [
    {
     "name": "stdout",
     "output_type": "stream",
     "text": [
      "0.10000000000000009\n",
      "0.10000000000000098\n",
      "0.10000000000001075\n",
      "0.10000000000011822\n",
      "0.10000000000130038\n",
      "0.1000000000143042\n",
      "0.10000000015734622\n",
      "0.10000000173080847\n",
      "0.10000001903889322\n",
      "0.10000020942782539\n",
      "0.10000230370607932\n",
      "0.10002534076687253\n",
      "0.10027874843559781\n",
      "0.1030662327915759\n",
      "0.13372856070733485\n",
      "0.4710141677806834\n",
      "4.181155845587517\n",
      "44.992714301462684\n",
      "493.9198573160895\n",
      "5432.118430476985\n"
     ]
    }
   ],
   "source": [
    "x = 0.1\n",
    "for i in range(20):\n",
    "    x = 11 * x - 1\n",
    "    print(x)"
   ]
  },
  {
   "cell_type": "markdown",
   "metadata": {},
   "source": [
    "Der Zahlenwert von `x` wächst mit jeder Wiederholung und weicht nach nur 20 Wiederholungen deutlich von unserer mathematisch exakten Erwartung $x = \\text{0,1}$ ab. Die Rundungsfehler haben sich mit jeder Wiederholung derart vergrößert, dass wir nach 20 Wiederholungen ein völlig falsches Ergebnis erhielten. Die Darstellung der dezimalen Kommazahl $\\text{0,1}$ ist im Digitalrechner im Python-Datentyp `float` zur Basis 2 nicht exakt, und jedesmal, wenn wir $\\text{0,1}$ mit $11$ multiplizieren, vergrößern wir den akkumulierten Fehler um den Faktor 10. (Wir sehen in Ausgabe des obigen Beispiels, dass wir eine Genauigkeitsstelle des Ergebnisses bei jeder Wiederholung verlieren.) \n",
    "Sie können die gleiche Problematik auch in Anwendungsprogrammen zur Tabellenkalkulation finden bzw. dort dieses Beispiel noch einmal nachvollziehen und den Fehler studieren."
   ]
  },
  {
   "cell_type": "markdown",
   "metadata": {},
   "source": [
    "Wenn wir das Experiment an $x = \\text{0,5}$ anpassen, eine dezimale Kommazahl die sich exakt als endliche Gleitkommazahl zur Basis 2 darstellen lässt, erhalten wir:"
   ]
  },
  {
   "cell_type": "code",
   "execution_count": 37,
   "metadata": {},
   "outputs": [
    {
     "name": "stdout",
     "output_type": "stream",
     "text": [
      "0.5\n",
      "0.5\n",
      "0.5\n",
      "0.5\n",
      "0.5\n",
      "0.5\n",
      "0.5\n",
      "0.5\n",
      "0.5\n",
      "0.5\n",
      "0.5\n",
      "0.5\n",
      "0.5\n",
      "0.5\n",
      "0.5\n",
      "0.5\n",
      "0.5\n",
      "0.5\n",
      "0.5\n",
      "0.5\n"
     ]
    }
   ],
   "source": [
    "x = 0.5\n",
    "for i in range(20):\n",
    "    x = x*11 - 5\n",
    "    print(x)"
   ]
  },
  {
   "cell_type": "markdown",
   "metadata": {},
   "source": [
    "Das Ergebnis bleibt exakt und entspricht auch nach 20 Wiederholungen noch exakt unserer mathematischen Erwartung.\n",
    "\n",
    "Standardmäßig verwendet Python 64 Bit um eine Gleitkommazahl vom Datentyp `float` darzustellen, zu verarbeiten und zu speichern. Wir können das Modul NumPy verwenden, um eine Gleitkommazahl mit nur 32 Bit darzustellen. Wenn wir damit unser Experiment für den Fall $\\text{0,1}$ wiederholen:"
   ]
  },
  {
   "cell_type": "code",
   "execution_count": 38,
   "metadata": {},
   "outputs": [
    {
     "name": "stdout",
     "output_type": "stream",
     "text": [
      "0.10000001639127731\n",
      "0.10000018030405045\n",
      "0.1000019833445549\n",
      "0.10002181679010391\n",
      "0.10023998469114304\n",
      "0.1026398316025734\n",
      "0.12903814762830734\n",
      "0.41941962391138077\n",
      "3.6136158630251884\n",
      "38.74977449327707\n",
      "425.2475194260478\n",
      "4676.722713686526\n",
      "51442.949850551784\n",
      "565871.4483560696\n",
      "6224584.931916766\n",
      "68470433.25108442\n",
      "753174764.7619286\n",
      "8284922411.381214\n",
      "91134146524.19336\n",
      "1002475611765.127\n"
     ]
    }
   ],
   "source": [
    "x = np.float32(0.1)\n",
    "for i in range(20):\n",
    "    x = x*11 - 1\n",
    "    print(x)"
   ]
  },
  {
   "cell_type": "markdown",
   "metadata": {},
   "source": [
    "sehen wir, dass der akkumulierte Fehler im 32-Bit Fall schneller als im 64-Bit Fall wächst, da die Gleitkommazahldarstellung mit nur 32 Bit eine ungenauere Approximation der dezimalen Kommazahl $\\text{0,1}$ gegenüber einer Gleitkommazahl zur Basis 2 mit 64 Bit aufweist.\n",
    "\n",
    "*Hinweis:* Einige Programmiersprachen bieten spezielle Softwarewerkzeuge für die Durchführung von dezimaler Arithmetik (zur Basis 10) an (z. B. https://docs.python.org/3/library/decimal.html). Dies würde es uns beispielsweise erlauben, die dezimale Kommazahl $\\text{0,1}$ exakt im Digitalrechner darzustellen, zu verarbeiten und zu speichern. Jedoch sind die dezimale Darstellung von Zahlen (zur Basis 10) und Berechnungen mit solchen Dezimalzahlen für Digitalrechner nicht „natürlich“, so dass wir davon ausgehen müssen, dass Berechnungen zur Basis 10 in Software deutlich mehr Rechenzeit und damit auch mehr elektrische Energie benötigen als Zahlendarstellungen und Berechnungen zur Basis 2."
   ]
  },
  {
   "cell_type": "markdown",
   "metadata": {},
   "source": [
    "## Das Versagen einer Patriot-Raketenabwehrbatterie\n",
    "\n",
    "Die ungenaue Darstellung der dezimalen Kommazahl $\\text{0,1}$ verursachte einen Softwarefehler im Steuerungssystem einer Patriot-Raketenabwehrbatterie (siehe dazu die Einleitung in diesem Kapitel). Das Software protokollierte die vergangene Zeit seit dem Systemtart des Raktenabfangsystems (engl. *boot up*) mit Hilfe eines Ganzzahlzählers, der jede $\\frac{1}{10}$ Sekunde erhöht wurde. Um die seit dem Systemstart vergangene Zeit zu ermitteln, multiplizierte die Patriot-Software den Wert der ganzzahligen Zeitzählervariable mit einer Gleitkommadarstellung zur Basis 2 (vom Datentyp `float`) der dezimalen Kommazahl $\\text{0,1}$. Die Steuerungssoftware der Patriot-Rakete zur Verfolgung der Flugbahn der eingehenden, gegnerischen Scud-Rakete verwendete 24 Bit, um dezimale Gleitkommazahlen zur Basis 2 darzustellen und in Berechnungen zu verarbeiten. Der Rundungsfehler aufgrund der ungenauen Darstellung der dezimalen Kommazahl $\\text{0,1}$ führte zu einem Fehler von $0.32$ Sekunden nach 100 Stunden Betriebszeit (der Zeit, die seit dem Systemstart der Patriot-Raketenabwehrbatterie vergangen war), was aufgrund der hohen Geschwindigkeit der Patriot-Rakete genug war, um zu einem Abfangfehler der eingehenden Scud-Rakete zu führen.\n",
    "\n",
    "In Python haben wir keine Gleitkommazahldarstellung zur Basis 2 mit 24 Bit verfügbar, aber wir können den Softwarefehler der Patriot-Raketenabwehrbatterie mit 16, 32 und 64 Bit Gleitkommazahlen zur Basis 2 mit Hilfe von entsprechenden NumPy-Datentypen nachvollziehen.\n",
    "Zunächst berechnen wir, welchen Wert der Zeitzähler (eine Ganzzahl) einhundert Stunden nach Systemstart hatte:"
   ]
  },
  {
   "cell_type": "code",
   "execution_count": 39,
   "metadata": {},
   "outputs": [],
   "source": [
    "# Berechne den internen Zeitzähler des Systems nach 100 Stunden Betriebszeit\n",
    "# (der Zeitzähler wird jede zehntel Sekunde inkrementiert)\n",
    "anzahl_stunden = 100\n",
    "anzahl_sekunden = anzahl_stunden*60*60\n",
    "systemzeit_zaehler = anzahl_sekunden*10"
   ]
  },
  {
   "cell_type": "markdown",
   "metadata": {},
   "source": [
    "Konvertierung des Systemzeitzählers in Sekunden unter Verwendung unterschiedlich genauer Darstellungen der dezimalen Kommazahl $\\text{0,1}$ als Gleitkommazahl zur Basis 2:"
   ]
  },
  {
   "cell_type": "code",
   "execution_count": 40,
   "metadata": {},
   "outputs": [
    {
     "name": "stdout",
     "output_type": "stream",
     "text": [
      "Zeitabweichung nach 100 Stunden mit 16 Bit GK-Zahl (s): 87.890625\n",
      "Zeitabweichung nach 100 Stunden mit 32 Bit GK-Zahl (s): 0.005364418029785156\n",
      "Zeitabweichung nach 100 Stunden mit 64 Bit GK-Zahl (s): 0.0\n"
     ]
    }
   ],
   "source": [
    "# Test mit 16 Bit Gleitkommazahl\n",
    "delta_t = np.float16(0.1)\n",
    "zeit = systemzeit_zaehler * delta_t\n",
    "zeitabweichung = abs(zeit - anzahl_sekunden)\n",
    "print(\"Zeitabweichung nach 100 Stunden mit 16 Bit GK-Zahl (s):\", zeitabweichung)\n",
    "\n",
    "# Test mit 32 Bit Gleitkommazahl\n",
    "delta_t = np.float32(0.1)\n",
    "zeit = systemzeit_zaehler * delta_t\n",
    "zeitabweichung = abs(zeit - anzahl_sekunden)\n",
    "print(\"Zeitabweichung nach 100 Stunden mit 32 Bit GK-Zahl (s):\", zeitabweichung)\n",
    "\n",
    "# Test mit 64 Bit Gleitkommazahl\n",
    "delta_t = np.float64(0.1)\n",
    "zeit = systemzeit_zaehler * delta_t\n",
    "zeitabweichung = abs(zeit - anzahl_sekunden)\n",
    "print(\"Zeitabweichung nach 100 Stunden mit 64 Bit GK-Zahl (s):\", zeitabweichung)"
   ]
  },
  {
   "cell_type": "markdown",
   "metadata": {},
   "source": [
    "Die berechnete Systemlaufzeit bei Verwendung einer 16 Bit Gleitkommazahl weicht nach 100 Stunden mehr als eine Minute von der tatsächlichen Systemlaufzeit ab! Bis zur Behebung des Softwarefehlers (Aktualisierung der Systemsoftware mit einem sog. *software patch*) wurde als Betriebsmaßnahme das Patriot-Raketenabwehrsystem häufig neu gestartet, um den Systemzeitzähler zurück auf Null zu setzen und dadurch den auftretenden Zeitabweichungsfehler zu reduzieren."
   ]
  },
  {
   "cell_type": "markdown",
   "metadata": {},
   "source": [
    "# Zusammenfassung\n",
    "\n",
    "Die essentiellen Punkte dieser Aktivität sind:\n",
    "\n",
    "- Der Wertebereich für (vorzeichenbehaftete) Ganzzahlen, die ein Digitalrechner darstellen, verarbeiten und speichern kann, wird bestimmt durch die Anzahl an Bit, die für die Binärdarstellung des Ganzzahldatentyps verwendet werden können.\n",
    "- Digitalrechner („Computer“) führen im Allgemeinen keine arithmetisch exakten (nur gerundete) Berechnungen von (gebrochenen) dezimalen Kommzahlen durch. Für viele Alltagsfragestellungen ist dies vernachlässigbar, aber prinzipiell kann es zu Problemen führen. Negative Konsequenzen aus der oft nur ungenauen Darstellung von dezimalen Kommazahlen in Digitalrechnern können jedoch meist durch sorgfältige Programmierung erkannt, reduziert oder teilweise auch innerhalb der für die Anwendung erforderlichen Toleranz vermieden werden.\n",
    "- Denken Sie sorgfältig über die Konsequenzen nach, wenn Sie zwischen unterschiedlichen Datentypen Umwandlungen (Konvertierungen) vornehmen! Es kann unerwünschte Konsequenzen in der Anwendung Ihres Programmes haben, wenn Sie unbedacht Datentypen konvertieren."
   ]
  },
  {
   "cell_type": "markdown",
   "metadata": {},
   "source": [
    "# Übung\n",
    "\n",
    "Bearbeiten Sie nun vollständig das dieses Dokument begleitende Jupyter-Notebook [Übung 3](Uebungen/Uebung%2003.ipynb)."
   ]
  }
 ],
 "metadata": {
  "kernelspec": {
   "display_name": "Python 3",
   "language": "python",
   "name": "python3"
  },
  "language_info": {
   "codemirror_mode": {
    "name": "ipython",
    "version": 3
   },
   "file_extension": ".py",
   "mimetype": "text/x-python",
   "name": "python",
   "nbconvert_exporter": "python",
   "pygments_lexer": "ipython3",
   "version": "3.7.3"
  }
 },
 "nbformat": 4,
 "nbformat_minor": 1
}
