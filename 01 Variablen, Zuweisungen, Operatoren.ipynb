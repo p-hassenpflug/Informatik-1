{
 "cells": [
  {
   "cell_type": "markdown",
   "metadata": {},
   "source": [
    "# 1. Kapitel: Variablen, Zuweisungen, Operatoren, Eingabe-(Verarbeitung)-Ausgabe (E/A bzw. EVA)\n",
    "\n",
    "Wir beginnen thematisch mit der Zuweisung von Werten an Variablen sowie der „Implementierung“ (hier spezifischer der „Codierung“) elementarer arithmetischer Operationen („Grundrechenarten“) in der Programmiersprache Python.\n",
    "\n",
    "\n",
    "## Lernziele\n",
    "\n",
    "- Arithmetische Ausdrücke und elementare arithmetische Operatoren in Python verstehen, codieren und semantisch (d. h. von ihrer inhaltlichen Bedeutung her bezogen auf einen konkreten Anwendungsfall) auf Angemessenheit und Korrektheit überprüfen können\n",
    "- Die Vorrangsregeln für arithmetische Operatoren in Python kennen\n",
    "- Das Variablenkonzept von Python mit Variablenzugriff und Wertzuweisung an Variablen verstehen und anwenden können"
   ]
  },
  {
   "cell_type": "markdown",
   "metadata": {},
   "source": [
    "# Zahlenmäßige Auswertung („Evaluation“) arithmetischer Ausdrücke: elementare arithmetische Operatoren\n",
    "\n",
    "Sie können Python wie einen Taschenrechner verwenden, beispielsweise um den einfachen arithmetischen Ausdruck $3 + 8$ auszuwerten. Wir können die arithmetische Auswertung und die Berichterstattung des Ergebnisses wie folgt durchführen:"
   ]
  },
  {
   "cell_type": "code",
   "execution_count": 1,
   "metadata": {},
   "outputs": [
    {
     "data": {
      "text/plain": [
       "11"
      ]
     },
     "execution_count": 1,
     "metadata": {},
     "output_type": "execute_result"
    }
   ],
   "source": [
    "3 + 8"
   ]
  },
  {
   "cell_type": "markdown",
   "metadata": {},
   "source": [
    "Eine weitere einfache Berechnung ist das Gravitationspotential $V$ eines Massekörpers $m$ (Punktmasse) in einer Entfernung $r$ von einem Massekörper $M$, das durch den arithmetischen Ausdruck\n",
    "\n",
    "$$\n",
    "V = \\frac{G M m}{r}\n",
    "$$\n",
    "\n",
    "gegeben ist, wobei $G$ die *Gravitationskonstante* ist. Eine gute Näherung ist $G = \\text{6,674} \\cdot 10^{-11} \\text{N}  \\text{m}^{2} \\text{kg}^{-2}$.\n",
    "\n",
    "Für den Fall $M = \\text{1,65} \\cdot 10^{12}$ kg, $m = \\text{6,1} \\cdot 10^2$ kg und $r = \\text{7,0} \\cdot 10^3$ m, können wir das Gravitationspotenzial $V$ wie folgt als einen arithmetischen Python-Ausdruck formulieren:"
   ]
  },
  {
   "cell_type": "code",
   "execution_count": 2,
   "metadata": {},
   "outputs": [
    {
     "data": {
      "text/plain": [
       "9.59625857142857"
      ]
     },
     "execution_count": 2,
     "metadata": {},
     "output_type": "execute_result"
    }
   ],
   "source": [
    "6.674E-11 * 1.65E12 * 6.1E2 / 7.0E3"
   ]
  },
  {
   "cell_type": "markdown",
   "metadata": {},
   "source": [
    "Wir haben dabei die „wissenschaftliche Notation“ zur Eingabe der Zahlenwerte verwendet. Beispielsweise kann die Zahl $8 \\cdot 10^{-2}$ in Python eingegeben werden als `0.08` oder `8E-2`. Beachten Sie bitte, dass Python für gebrochene Dezimalzahlen zur Trennung des rationalen Anteils vom Ganzzahlanteil wie im englischen Sprachraum üblich einen Punkt und kein wie im Deutschen übliches Komma als Dezimaltrennzeichen verwendet. Wir können mittels Subtraktion überprüfen, dass die beiden Notationen tatsächlich die selbe Zahl darstellen:"
   ]
  },
  {
   "cell_type": "code",
   "execution_count": 3,
   "metadata": {},
   "outputs": [
    {
     "data": {
      "text/plain": [
       "0.0"
      ]
     },
     "execution_count": 3,
     "metadata": {},
     "output_type": "execute_result"
    }
   ],
   "source": [
    "0.08 - 8E-2"
   ]
  },
  {
   "cell_type": "markdown",
   "metadata": {},
   "source": [
    "Eine häufig vorkommende arithmetische Operation ist die Potenzierung einer Zahl (der sog. „Basis“) mit einer „Hochzahl“ (Exponent), beispielsweise $3^4$:"
   ]
  },
  {
   "cell_type": "code",
   "execution_count": 4,
   "metadata": {},
   "outputs": [
    {
     "data": {
      "text/plain": [
       "81"
      ]
     },
     "execution_count": 4,
     "metadata": {},
     "output_type": "execute_result"
    }
   ],
   "source": [
    "3**4"
   ]
  },
  {
   "cell_type": "markdown",
   "metadata": {},
   "source": [
    "Der Rest einer Division (der sog. Modulus) wird mit dem Modulo-Operator `%` berechnet:"
   ]
  },
  {
   "cell_type": "code",
   "execution_count": 5,
   "metadata": {},
   "outputs": [
    {
     "data": {
      "text/plain": [
       "2"
      ]
     },
     "execution_count": 5,
     "metadata": {},
     "output_type": "execute_result"
    }
   ],
   "source": [
    "11 % 3"
   ]
  },
  {
   "cell_type": "markdown",
   "metadata": {},
   "source": [
    "Um den ganzzahligen Quotientenanteil zu erhalten, können wir die Division mit dem Operator `//` ausführen:"
   ]
  },
  {
   "cell_type": "code",
   "execution_count": 6,
   "metadata": {},
   "outputs": [
    {
     "data": {
      "text/plain": [
       "3"
      ]
     },
     "execution_count": 6,
     "metadata": {},
     "output_type": "execute_result"
    }
   ],
   "source": [
    "11 // 3"
   ]
  },
  {
   "cell_type": "markdown",
   "metadata": {},
   "source": [
    "# Vorrang („Präzedenz“) von Operatoren\n",
    "\n",
    "Der Vorrang von Operatoren, der auch als Präzedenz bezeichnet wird, bezieht sich auf die Reihenfolge, in der die elementaren arithmetischen Rechenoperationen ausgeführt werden, beispielsweise Multiplikation vor Addition („Punkt vor Strich“).\n",
    "In den vorausgegangenen Beispielen gab es keinerlei Mehrdeutigkeiten, was die Bindung der Operanden an die jeweiligen arithmetischen Operatoren angeht. In der Praxis treten jedoch häufig Fälle auf, in denen es auf die Rechenreihenfolge ankommt, zumindest nach den folgenden beiden Kriterien:\n",
    "\n",
    "- Der arithmetische Ausdruck muss in seiner Python-Formulierung immer noch mathematisch richtig ausgewertet werden.\n",
    "- Ein arithmetischer Ausdruck sollte dabei stets möglichst einfach und verständlich genug formuliert sein, so dass auch andere Beteiligte (z. B. Sie selbst in der Zukunft, Kolleginnen und Kollegen aus der Entwicklungsabteilung, der Qualitätssicherungsabteilung, von Zulassungsbehörden oder der ggf. später ausgelagerten Fernwartung) ihn noch gut verstehen, überprüfen und bei geändertem Bedarf richtig anpassen können.\n",
    "\n",
    "Es ist möglich (aber keineswegs wünschenswert) Computer-Code zu schreiben, der zwar ein korrektes Ergebnis liefert, jedoch nur sehr schwer für andere (oder gar Sie selbst) zu überprüfen ist.\n",
    "\n",
    "Die meisten Programmiersprachen inkl. Python folgen den üblichen mathematischen Regeln für den Operatorvorrang. Wir veranschaulichen dies im Folgenden an einer Reihe von Beispielen."
   ]
  },
  {
   "cell_type": "markdown",
   "metadata": {},
   "source": [
    "Betrachten wir den arithmetischen Term $4 \\cdot (7 - 2) = 20$. Wenn wir ihn achtlos in einen arithmetischen Python-Ausdruck überführen, beobachten wir Folgendes: "
   ]
  },
  {
   "cell_type": "code",
   "execution_count": 7,
   "metadata": {},
   "outputs": [
    {
     "data": {
      "text/plain": [
       "26"
      ]
     },
     "execution_count": 7,
     "metadata": {},
     "output_type": "execute_result"
    }
   ],
   "source": [
    "4 * 7 - 2"
   ]
  },
  {
   "cell_type": "markdown",
   "metadata": {
    "slideshow": {
     "slide_type": "slide"
    }
   },
   "source": [
    "Im vorstehenden arithmetischen Python-Ausdurck wird `4 * 7` zuerst ausgewertet, anschließend wird von dem daraus resultierenden Zwischenergebnis `2` subtrahiert, weil dir Multiplikation (Operator `*`) Vorrang vor der Subtraktion (Operator `-`) im Sinne der von Python berücksichtigten Operator-Vorrangregeln besitzt. Wir können wie Sie es von mathematischen Ausdrucken gewohnt sind die Reihenfolge der Ausführung von Operatoren mittels Klammerung beeinflussen."
   ]
  },
  {
   "cell_type": "code",
   "execution_count": 8,
   "metadata": {},
   "outputs": [
    {
     "data": {
      "text/plain": [
       "20"
      ]
     },
     "execution_count": 8,
     "metadata": {},
     "output_type": "execute_result"
    }
   ],
   "source": [
    "4 * (7 - 2)"
   ]
  },
  {
   "cell_type": "markdown",
   "metadata": {},
   "source": [
    "Ein typisches Beispiel für einen arithmetischen Ausdruck, für dessen Implementierung neben der Korrektheit auch die Lesbarkeit relvant sind, ist \n",
    "\n",
    "$$\n",
    "\\frac{10}{2 \\cdot 50} = \\text{0,1}\n",
    "$$\n",
    "\n",
    "Der arithmetische Python-Ausdruck"
   ]
  },
  {
   "cell_type": "code",
   "execution_count": 9,
   "metadata": {},
   "outputs": [
    {
     "data": {
      "text/plain": [
       "250.0"
      ]
     },
     "execution_count": 9,
     "metadata": {},
     "output_type": "execute_result"
    }
   ],
   "source": [
    "10 / 2 * 50"
   ]
  },
  {
   "cell_type": "markdown",
   "metadata": {},
   "source": [
    "ist falsch. Der Multiplikations-Operator (`*`) hat den gleichen Vorrang wie der Divisions-Operator (`/`). Damit wird voriger arithmetische Python-Ausdruck von 'links nach rechts' ausgewertet. Das korrekte Ergebnis wird berechnet durch den arithmetischen Python-Ausdruck"
   ]
  },
  {
   "cell_type": "code",
   "execution_count": 10,
   "metadata": {},
   "outputs": [
    {
     "data": {
      "text/plain": [
       "0.1"
      ]
     },
     "execution_count": 10,
     "metadata": {},
     "output_type": "execute_result"
    }
   ],
   "source": [
    "10 / 2 / 50"
   ]
  },
  {
   "cell_type": "markdown",
   "metadata": {},
   "source": [
    "jedoch ist dieser schwer zu lesen und kann leicht zu Fehlern im Programm führen. Es empfiehlt sich hier daher Klammerung zu verwenden, um die Auswertungsreiehenfolge zu verdeutlichen:"
   ]
  },
  {
   "cell_type": "code",
   "execution_count": 11,
   "metadata": {},
   "outputs": [
    {
     "data": {
      "text/plain": [
       "0.1"
      ]
     },
     "execution_count": 11,
     "metadata": {},
     "output_type": "execute_result"
    }
   ],
   "source": [
    "10 / (2 * 50)"
   ]
  },
  {
   "cell_type": "markdown",
   "metadata": {},
   "source": [
    "Nachfolgend ein Beispiel für die Berechnung von $2^{3} \\cdot 4 = 32$, das zwar technisch korrekt implementiert ist jedoch nicht ideal im Hinblick auf die Lesbarkeit des arithmetischen Python-Ausdrucks ist:"
   ]
  },
  {
   "cell_type": "code",
   "execution_count": 12,
   "metadata": {},
   "outputs": [
    {
     "data": {
      "text/plain": [
       "32"
      ]
     },
     "execution_count": 12,
     "metadata": {},
     "output_type": "execute_result"
    }
   ],
   "source": [
    "2**3*4"
   ]
  },
  {
   "cell_type": "markdown",
   "metadata": {},
   "source": [
    "Lesbarer wäre die folgende Implementierung:"
   ]
  },
  {
   "cell_type": "code",
   "execution_count": 13,
   "metadata": {},
   "outputs": [
    {
     "data": {
      "text/plain": [
       "32"
      ]
     },
     "execution_count": 13,
     "metadata": {},
     "output_type": "execute_result"
    }
   ],
   "source": [
    "(2**3) * 4"
   ]
  },
  {
   "cell_type": "markdown",
   "metadata": {},
   "source": [
    "# Variablen und Zuweisungen an Variablen\n",
    "\n",
    "Die vorherigen Code-Beispiele sind von ihrer Art her hilfreich, um einfache Berechnungen interaktiv auswerten zu können, wir könnten dafür aber auch einfach einen Taschenrechner verwenden. Darüber hinaus sind die vorherigen arithmetischen Python-Ausdrücke nicht sehr hilfreich, wenn wir die Werte einzelner Zahlen darin ändern möchten und auch nicht hilfreich, wenn wir das Ergebnis (auch als Auswertung bzw. Evaluation bezeichnet) eines arithmetischen Ausrucks in einem darauf folgenden arithmetischen Ausdruck wiederverwenden möchten. Um dies zu verbessern, benötigen wir Variablen und die Technik der *Zuweisung* an Variablen.\n",
    "\n",
    "Wenn wir etwas berechnen lassen, dann möchten wir typischer Weise das Ergebnis der Berechnung zwischenspeichern, um es in darauf folgenden Berechnungen bequem und effizient wiederverwenden zu können. *Variablen* sind eine geeignete Technik dazu, um etwas im Arbeitsspeicher des Computers kurzfristig zwischenzuspeichern, zum Beispiel:"
   ]
  },
  {
   "cell_type": "code",
   "execution_count": 14,
   "metadata": {},
   "outputs": [
    {
     "name": "stdout",
     "output_type": "stream",
     "text": [
      "10\n"
     ]
    }
   ],
   "source": [
    "c = 10\n",
    "print(c)"
   ]
  },
  {
   "cell_type": "markdown",
   "metadata": {},
   "source": [
    "Im vorstehenden Python-Code wird die Variable mit der Bezeichnung `c` verwendet, um den nummerischen Wert des Ganzzahlliterals `10` zu speichern. Die Python-Funktion `print` wird verwendet, um den Inhalt bzw. den Wert der Variablen mit dem Bezeichner `c` auf dem Bildschirm (der sog. [Text-]Konsole) auszugeben. (Weiteres zu Python-Funktionen erarbeiten Sie sich noch im Modulverlauf.)\n",
    "\n",
    "Gehen wir davon aus, dass Sie $c = a + b$ berechnen möchten, wobei $a = 2$ und $b = 11$ sein sollen:"
   ]
  },
  {
   "cell_type": "code",
   "execution_count": 15,
   "metadata": {},
   "outputs": [
    {
     "name": "stdout",
     "output_type": "stream",
     "text": [
      "13\n"
     ]
    }
   ],
   "source": [
    "a = 2\n",
    "b = 11\n",
    "c = a + b\n",
    "print(c)"
   ]
  },
  {
   "cell_type": "markdown",
   "metadata": {},
   "source": [
    "Was im vorstehenden Python-Code von der Python-Laufzeitumgebung, dem sog. Python-Interpreter, ausgeführt wird, ist, dass der arithmetische Ausdruck auf der rechten Seite des Zuweisungsoperators `=` ausgewertet („evaluiert“) wird und das Ergebnis der Auswertung anschließend als in der Variablen auf der linken Seite des Zuweisungsoperators `=` gespeichert wird. Sie können den Bezeichner (engl. *identifier*) bzw. umgangssprachlich den Namen der Variablen als „Zugang“ zum Wert der Variablen ansehen. Wenn wir den Wert bzw. den Inhalt der Variablen `a` auf das Ganzzahlliteral `4` ändern und die Summe erneut berechnen lassen möchten, würden wir nur die Zuweisung `a = 2` durch `a = 4` ersetzen und den Python-Code erneut ausführen lassen. Probieren Sie es selbst, indem Sie den obigen Python-Code interaktiv modifizieren und ausführen lassen.\n",
    "\n",
    "Der vorherige Python-Code sieht im Wesentlichen aus wie gewöhnliche elementare Algebra. Es gibt jedoch einige subtile Unterschiede. Betrachten wir dazu das folgende Beispiel:"
   ]
  },
  {
   "cell_type": "code",
   "execution_count": 16,
   "metadata": {},
   "outputs": [
    {
     "name": "stdout",
     "output_type": "stream",
     "text": [
      "13\n"
     ]
    }
   ],
   "source": [
    "a = 2\n",
    "b = 11\n",
    "a = a + b\n",
    "print(a)"
   ]
  },
  {
   "cell_type": "markdown",
   "metadata": {},
   "source": [
    "Dies ist augenscheinlich keine gültige bzw. „wahre“  Algebra, weil `a` auf beiden Seiten des Operators `=` auftritt, aber es ist eine sehr häufige Anweisung in Computer-Programmen. Bei dem Operator `=` handelt es sich hier nicht um den Ihnen aus der Algebra bekannten booleschen Gleichheitsoperator, der mit „wahr“ oder „falsch“ ausgewertet wird (ein Drittes ist nicht gegeben; lat. „*tertium non datur*“), sondern in Python um den sog. Zuweisungsoperator (engl. *assignment operator*). Was hier bei der Interpretation der Anweisung geschieht, ist, dass zunächst immer erst der Ausdruck auf der rechten Seite des Zuweisungsoperators ausgewertet wird (im vorherigen Beispiel werden die beiden Werte, die den Variablen mit den Bezeichnern `a` und `b` zugewiesen wurden, summiert), und das ausgewertete Ergebnis stets der Variablen auf der linken Seite des Zuweisungsoperators zugewiesen wird (im obigen Beispiel der Variablen `a`). Es gibt eine formelle Schreibweise („Pfeil-Notation“) im sog. Pseudo-Code für diese Art von Zuweisung in Computer-Programmen:\n",
    "\n",
    "$$\n",
    "a \\leftarrow a +b \n",
    "$$\n",
    "\n",
    "die ausdrückt, dass zunächst 'die Werte der Variablen $a$ und $b$ summiert werden und anschließend das Ergebnis in die Variable $a$ kopiert bzw. „geschrieben“ (engl. *write*) wird'. In einigen Informatik-Büchern wird Ihnen diese Pfeil-Notation für die Zuweisung begegnen, insbesondere wenn Sie Texte zu *Algorithmen* studieren, die allgemein in Pseudo-Code, d. h. zwar detailliert genug für eine Implementierung aber noch unabhängig von einer konkreten Programmiersprache wie Python formuliert sind."
   ]
  },
  {
   "cell_type": "markdown",
   "metadata": {},
   "source": [
    "## Kurznotationen (engl. „*syntactic sugar*“ bzw. grammatikalische Kompaktifizierung)\n",
    "\n",
    "Die Addition bzw. Subtraktion von Werten zu Variablen (auch als Inkrement- bzw. Dekrementbildung bezeichent), ist in Computer-Programmen eine so häufig anzutreffener Vorgang, dass die meisten Programmiersprachen eine Kurznotation (syntaktische Kompaktifizierung bzw. „grammatikalischen Zucker“) dafür anbieten. Nachfolgend ein Beispiel für die Addition eines Wertes eines arithmetischen Ausdurcks zu einer Variablen (auch als *[Variablen-]Inkrement* bezeichnet):"
   ]
  },
  {
   "cell_type": "code",
   "execution_count": 17,
   "metadata": {},
   "outputs": [
    {
     "name": "stdout",
     "output_type": "stream",
     "text": [
      "5\n",
      "5\n"
     ]
    }
   ],
   "source": [
    "# ungekürzte Notation der Addition eines Wertes (hier dem des Ganzzahlliterals 4) zu einer Variablen\n",
    "a = 1\n",
    "a = a + 4\n",
    "print(a)\n",
    "\n",
    "# verkürzte (\"kompaktifizierte\") Notation der Addition eines Wertes zu einer Variablen\n",
    "a = 1\n",
    "a += 4\n",
    "print(a)"
   ]
  },
  {
   "cell_type": "markdown",
   "metadata": {},
   "source": [
    "> In Python-Quellcode wird jeder Text der dem Doppelkreuz-Symbol (`#`) folgt, als ein Kommentar betrachtet. Kommentare werden nicht als Teil eines Computer-Programms ausgeführt. Sie helfen uns zu erläutern und zu dokumentieren, was unsere Programme tun. Das Schreiben angemessener Kommentare ist eine Handwerkskunst, die erst mit zunehmender Programmiererfahrung wächst, im Hinblick auf die Angemessenheit nach Kriterien wie Qualität, Quantität und i. d. R. einer Vielzahl interner und externer Vorgaben (z.B. von Kunden- oder Unternehmensseite, unter techischen oder juristischen Aspekten). \n",
    "\n",
    "Nachfolgend ein weiteres Beispiel für die Subtraktion des Wertes eines arithmetischen Ausdrucks von einer Variablen (auch als *[Variablen-]Dekrement* bezeichnet):"
   ]
  },
  {
   "cell_type": "code",
   "execution_count": 18,
   "metadata": {},
   "outputs": [
    {
     "name": "stdout",
     "output_type": "stream",
     "text": [
      "-3\n",
      "-3\n"
     ]
    }
   ],
   "source": [
    "# ungekürzte Notation der Subtraktion des Wertes eines arithmetischen Ausdrucks von einer Variablen\n",
    "a = 1\n",
    "b = 4\n",
    "a = a - b\n",
    "print(a)\n",
    "\n",
    "# verkürzte (\"kompaktifizierte\") Notation der Subtraktion des Wertes eines arithmetischen Ausdrucks von einer Variablen\n",
    "a = 1\n",
    "b = 4\n",
    "a -= b\n",
    "print(a)"
   ]
  },
  {
   "cell_type": "markdown",
   "metadata": {},
   "source": [
    "Dem enstprechende Kurznotionen von arithmetischen Zuweisungsoperatoren gibt es auch für die Multiplikation und Division:"
   ]
  },
  {
   "cell_type": "code",
   "execution_count": 19,
   "metadata": {},
   "outputs": [
    {
     "name": "stdout",
     "output_type": "stream",
     "text": [
      "20\n",
      "20\n",
      "0.25\n",
      "0.25\n"
     ]
    }
   ],
   "source": [
    "# ungekürzte Notation der Multiplikation des Wertes eines arithmetischen Ausdrucks mit dem aktuellen Wert einer Variablen\n",
    "a = 10\n",
    "c = 2\n",
    "a = c*a\n",
    "print(a)\n",
    "\n",
    "# verkürzte (\"kompaktifizierte\")  Notation der Multiplikation des Wertes eines arithmetischen Ausdrucks mit dem aktuellen Wert einer Variablen\n",
    "a = 10\n",
    "c = 2\n",
    "a *= c\n",
    "print(a)\n",
    "\n",
    "# ungekürzte Notation der Division des Wertes eines arithmetischen Ausdrucks (hier das Ganzzahlliteral 4) mit dem aktuellen Wert einer Variablen\n",
    "a = 1\n",
    "a = a/4\n",
    "print(a)\n",
    "\n",
    "# gekürzte Notation der Division des Wertes eines arithmetischen Ausdrucks (hier das Ganzzahlliteral 4) mit dem aktuellen Wert einer Variablen\n",
    "a = 1\n",
    "a /= 4\n",
    "print(a)"
   ]
  },
  {
   "cell_type": "markdown",
   "metadata": {},
   "source": [
    "## Namensgebung für Variablen\n",
    "\n",
    "Die Namensgebung von Variablen wird auch als Bezeichnung (engl. *identification*) oder Benennung von Variablen bezeichnet. Der Fachbegriff für einen Variablennamen ist (Variablen-)Bezeichner (engl. *identifier*). Es ist gute Ingenieurpraxis die Variablen in Computer-Programmen mit in ihrem jeweiligen Kontext semantisch bedeutungsvollen bzw. angemessenen Bezeichnern zu verwenden. Wenn Sie den Bezeichner  `x` für die Benennung einer Zeitvariable und den Bezeichner `t` für eine Längenvariable vergeben, werden Sie oder eine andere Person fast sicher an irgendeiner anderen Stelle im Programm-Code einen semantischen Fehler machen und das Programm wird dadurch nur irreführend zu verstehen und schwierig zu überprüfen sein. Wenn Sie keine wohlüberlegten, in ihrem jeweiligen Kontext semantisch hilfreichen und angemessenen Variablennamen vergeben::\n",
    "\n",
    "1. Wird es viel wahrscheinlicher, dass Sie Fehler in Ihrem Programm machen.\n",
    "1. Wenn Sie zu einem späteren Zeitpunkt zu Ihrem Programm zurückkehren, werden Sie bei unangemessen vergebenen Variablennamen Schwierigkeiten haben, sich an die korrekte Semantik zu erinnern und zu verstehen, was ihr Programm tatsächlich macht.\n",
    "1. Auch für andere Personen wird es schwierig sein, Ihr Programm zu verstehen; professionelles Programmieren ist fast immer eine Gemeinschaftsarbeit.\n",
    "\n",
    "Programmiersprachen haben Regeln für die Zeichen, die Sie in Bezeichnern vergeben dürfen. Zur groben Orientierung dürfen Bezeichner für Variablen in Python aus Buchstaben und Ziffern bestehen, sie dürfen aber nicht mit einer Ziffer beginnen.\n",
    "\n",
    "Aus Gründen der kontextbezogenen semantischen Verständlich- und Lesbarkeit ist es manchmal hilfreich, Bezeichner für Variablen aus mehreren Worten zusammenzusetzen. Eine Konvention ist es, die einzelnen Wörter in Variablenbezeichnern durch einen Unterstrich `_` voneinander zu trennen. Beispielsweise wäre ein sinnvoller Variablenbezeichner für die Speicherung der Anzahl von Tagen in einem Python-Programm\n",
    "```python\n",
    "anzahl_tage = 10\n",
    "```\n",
    "Python ist eine Programmiersprache, bei der es bei den Bezeichnern auf die Groß- und Kleinschreibung der einzlnen Buchstaben im Bezeichner ankommt (sog. case-sensitivity), z. B. sind die beiden Variablenbezeichner `A` und `a` unterschiedlich. In einigen anderen Programmiersprachen (z. B. Fortran) wird die Groß- und Kleinschreibung von einzelnen Buchstaben in Bezeichnern hingegen nicht unterschieden.\n",
    "\n",
    "Programmiersprachen haben einen Liste von reservierten Bezeichnern, sog. Schlüsselworten (engl. *keywords*), die nicht als anderweitige Bezeichner, beispielsweise für Variablennamen, vergeben werden können, weil die Schlüsselworte für von der jeweiligen Programmiersprache vorgegebene Zwecke reserviert sind. Die Liste der reservierten Schlüsselworte in Python können Sie durch die folgenden beiden Anweisungen ausgeben lassen:"
   ]
  },
  {
   "cell_type": "code",
   "execution_count": 20,
   "metadata": {},
   "outputs": [
    {
     "name": "stdout",
     "output_type": "stream",
     "text": [
      "['False', 'None', 'True', 'and', 'as', 'assert', 'break', 'class', 'continue', 'def', 'del', 'elif', 'else', 'except', 'finally', 'for', 'from', 'global', 'if', 'import', 'in', 'is', 'lambda', 'nonlocal', 'not', 'or', 'pass', 'raise', 'return', 'try', 'while', 'with', 'yield']\n"
     ]
    }
   ],
   "source": [
    "import keyword\n",
    "print(keyword.kwlist)"
   ]
  },
  {
   "cell_type": "markdown",
   "metadata": {},
   "source": [
    "Wenn Sie versuchen etwas an ein reserviertes Schlüsselwort zuzuweisen, erhalten Sie bei Ausführung des Programms einen sog. Laufzeitfehler.\n",
    "\n",
    "Die Programmiersprache Python 3 unterstützt den sog. *Unicode* (siehe https://home.unicode.org/), was es Ihnen ermöglicht, eine sehr große Menge an Symbolen in Bezeichnern und Programmtexten zu verwenden, einschließlich der in Mathematik, Naturwissenschaft und Technik weit  verbreiteten griechischen Klein- und Großbuchstaben:"
   ]
  },
  {
   "cell_type": "code",
   "execution_count": 21,
   "metadata": {},
   "outputs": [
    {
     "name": "stdout",
     "output_type": "stream",
     "text": [
      "22\n"
     ]
    }
   ],
   "source": [
    "θ = 10\n",
    "α = 12\n",
    "β = θ + α\n",
    "print(β)"
   ]
  },
  {
   "cell_type": "markdown",
   "metadata": {},
   "source": [
    "Griechische Zeichen und andere Uniode-Symbole können in  Python-Code-Zelle eines Jupyter-Notebook durch das Schreiben von diesen Symbolen entsprechenden LaTeX-Anweisungen eingegeben werden mit anschließender Betätigung der `Tabulator`-Taste."
   ]
  },
  {
   "cell_type": "markdown",
   "metadata": {},
   "source": [
    "# Übung\n",
    "\n",
    "Bearbeiten Sie nun vollständig das dieses Dokument begleitende Jupyter-Notebook [Übung 1](Uebungen/Uebung%2001.ipynb)."
   ]
  }
 ],
 "metadata": {
  "kernelspec": {
   "display_name": "Python 3",
   "language": "python",
   "name": "python3"
  },
  "language_info": {
   "codemirror_mode": {
    "name": "ipython",
    "version": 3
   },
   "file_extension": ".py",
   "mimetype": "text/x-python",
   "name": "python",
   "nbconvert_exporter": "python",
   "pygments_lexer": "ipython3",
   "version": "3.7.3"
  }
 },
 "nbformat": 4,
 "nbformat_minor": 1
}
