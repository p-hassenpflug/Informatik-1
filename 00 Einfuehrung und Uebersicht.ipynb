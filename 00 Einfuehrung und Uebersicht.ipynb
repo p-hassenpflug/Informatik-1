{
 "cells": [
  {
   "cell_type": "markdown",
   "metadata": {},
   "source": [
    "# Grundlagenmodul „Informatik 1“ an der OTH Amberg-Weiden\n",
    "\n",
    "Dies sind die Unterlagen zur Einführung in die Programmierung im Rahmen des Moduls „Informatik 1“ in der Fakultät Wirtschaftsingenieurwesen und Gesundheit an der OTH Amberg-Weiden mit semesterbegleitenden, freiwilligen Präsenzveranstaltungen (seminaristischer Unterricht sowie zusätzlich angebotene betreute Programmierübungen) regulär am Hochschulstandort Weiden. Sie basieren auf der Analyse [CUED Whitepaper [Prof. Dr. Andrew Gee](http://www.eng.cam.ac.uk/profiles/ahg13)] sowie der konzeptionellen und inhaltlichen Ausarbeitung [[CUED Part 1A Computing on GitHub](https://github.com/CambridgeEngineering/PartIA-Computing-Michaelmas)] eines entsprechenden englischsprachigen Moduls von Herrn [Prof. Dr. Garth N. Wells](http://www3.eng.cam.ac.uk/~gnw20/), das an der [Ingenieurfakultät der Universität Cambridge](http://www.eng.cam.ac.uk) in England zur Einführung in die Programmierung für technische Bachelor-Studiengänge unter zwei freiheitlichen, verwendungs- und modifizierungsoffenen Lizenzen eingesetzt wird [[Creative Commons Attribution-ShareAlike 4.0 International Public License](https://creativecommons.org/licenses/by-sa/4.0/legalcode.de)], [[MIT-Lizenz](https://de.wikipedia.org/wiki/MIT-Lizenz)].\n",
    "\n",
    "Das Modul „Informatik 1“ richtet sich an der OTH Amberg-Weiden in der Fakultät Wirtschaftsingenieurwesen und Gesundheit vorrangig an Bachelor-Studierende im ersten Studienabschnitt. Es werden hierfür keinerlei Vorkenntnisse in der Programmierung vorausgesetzt. Gewisse grundlegende mathematische Kenntnisse auf dem üblichen Hochschuleingangsniveau werden jedoch an verschiedenen Stellen benötigt."
   ]
  },
  {
   "cell_type": "markdown",
   "metadata": {},
   "source": [
    "# Struktur\n",
    "\n",
    "Programmierung erlernt man am besten durch eigenständiges Programmieren und durch aktives Hilfesuchen, wo erforderlich. Diese modulbegleitenden Unterlagen umfassen dazu zwölf interaktive Jupyter-Notebook-Aktivitäten (im  Verlauf auch als „Kapitel“ bezeichnet) mit jeweils zugehörigen begleitenden Übungsaufgaben am Ende einer jeden Aktivität. Die zwölf Aktivitäten bauen konzeptionell aufeinander auf und behandeln die folgenden Themen:\n",
    "\n",
    "1. [Variablen, Zuweisungen, Operatoren, Eingabe-(Verarbeitung)-Ausgabe (E/A bzw. EVA)](01%20Variablen,%20Zuweisungen,%20Operatoren.ipynb)\n",
    "1. [Kontrollstrukturen (spezielle Anweisungen zur Regelung der Anweisungsabarbeitungsreihenfolge)](02%20Kontrollstrukturen.ipynb)\n",
    "1. [Elementare Datentypen (inkl. deren Binärrepräsentation), Typwandlungen sowie Ganz- und Gleitkommaarithmetik](03%20Datentypen.ipynb)\n",
    "1. [Prozeduren und Funktionen („Unterprogrammtechnik“)](04%20Funktionen.ipynb)\n",
    "1. [Bibliotheksfunktionen (Standardbibliothek, v. a. Mathematik / Numerik, Zeichenkettenverarbeitung, elementares Multiprocessing)](05%20Bibliotheksfunktionen.ipynb)\n",
    "1. [Ausgewählte höhere Datenstrukturen (jeweils mit Zugriff, Indexierung und Iteration)](06%20Datenstrukturen.ipynb)\n",
    "1. [Ein- und zweidimensionale Felder („Arrays“) zur Repräsentation von Vektoren und Matrizen](07%20Vektoren%20und%20Matrizen.ipynb)\n",
    "1. [Visualisierung („plotten“)  von Messreihen, Funktionsgraphen und Diagrammen](08%20Visualisierung.ipynb)\n",
    "1. [Fehlerbehandlung (mittels Ausnahmen) und Testen (Zusicherungen und optional Testrahmenwerke)](09%20Fehlerbehandlung%20und%20Testen.ipynb)\n",
    "1. [Beispiele für ausgewählte grundlegende Algorithmen (Suchen und Sortieren)](10%20Algorithmen.ipynb)\n",
    "1. [Komplexität und Leistungsvergleich von Algorithmen](11%20Komplexitaet%20und%20Leistungsvergleich.ipynb)\n",
    "1. [Einführung in die objektbasierte Programmierung (Klassen, Objekte, Attribute, Methoden, Assoziationen zwischen Klassen)](12%20Objektbasierte%20Programmierung.ipynb)\n",
    "\n",
    "Die obigen Aktivitäten wurden aufbauend aufeinander so konzipiert, dass Sie diese der Reihe nach durcharbeiten und erlernt haben sollten, bevor Sie sich der jeweils nachfolgenden Aktivität widmen sollten. Um eine Aktivität zu erlernen:\n",
    "\n",
    "1. Lesen Sie die anstehende Aktivität, modifizieren Sie deren Programmcode, falls Sie eigene Experimente unternehmen möchten, und beobachten bzw. studieren Sie, was jeweils geschieht. Dies wird Ihrem Verständnis und dem Erwerb der jeweils zu erlernenden Programmierfähigkeit dienlich sein. \n",
    "1. Bearbeiten Sie die zugehörige Übung zur Aktivität und reflektieren und diskutieren Sie Ihre Lösung bis zum vollständigen Verständnis mit Ihrem Betreuer bevor Sie mit der nächsten Aktivität beginnen.\n",
    "\n",
    "Während Sie in Ihrem Studium der einzelnen Aktivitäten voranschreiten werden Sie gegebenenfalls die Konzepte aus vorangegangenen Aktivitäten noch einmal wiederholen müssen, um diese, wo erforderlich, im Verlauf Ihres Lernprozesses bzw. des Erwerbs Ihrer wachsenden Programmierfähigkeit selbständig und zunehmend sicher anwenden zu können."
   ]
  },
  {
   "cell_type": "markdown",
   "metadata": {},
   "source": [
    "# Lösen und Abschließen der Übungsaufgaben („Testate“)\n",
    "\n",
    "Die begleitenden Übungen zu jeder Aktivität befinden sich im Ordner [Übungen](Uebungen/).\n",
    "\n",
    "- Verwenden Sie Markdown-Zellen, und wo angemessen und erforderlich mathematische Gleichungen in LaTeX-Notation, um zu dokumentieren, was Ihr Programm macht und / oder wie es sich verhält.\n",
    "- Bei längeren Übungen könnte es sein, dass Sie Ihr Programm auf mehrere Zellen aufteilen möchten, jeweils mit Dokumentation in Markdown vor jeder Zelle, die Programm-Code enthält.\n",
    "- Die meisten Übungen beinhalten einen gewissen Grad an automatischem Testen, um Ihnen Rückmeldung über die Korrektheit Ihrer Implementierung zu geben. Es wird nicht von Ihnen erwartet, dass Sie das Testrahmenwerk verstehen, um die jewilige Übung lösen zu können.\n",
    "  \n",
    "Es wird Ihnen nahegelegt, Ihre Lösungen in den veranstaltungsbegleitenden Übungen oder Tutorien mit einem Betreuer zu diskutieren und Ihren Selbstreflexionsprozess zu Ihrem Programmierfähigkeitserwerb regelmäßig zu pflegen und durch die Rückmeldung durch einen Betreuer kontinuierlich zu verbessern."
   ]
  },
  {
   "cell_type": "markdown",
   "metadata": {},
   "source": [
    "# Wo erhalten Sie Hilfe?\n",
    "\n",
    "Die umfassenste Resource ist das Internet.\n",
    "\n",
    "1. Wöchentlich werden zum vorausgegangenen seminaristischen Unterricht begleitende Programmier-Tutorien oder ggf. auch durch einen Dozierenden angebotene Programmierübungen angeboten werden, deren Teilnahme freiwillig ist, aber im Regelfall dringend zum Fähigkeitserwerb empfohlen wird. Die Termine dieser Tutorien bzw. Programmierübungen werden über das „schwarze Brett“ durch das Dekanat rechtzeitig zu Semesterbeginn bekannt gegeben.\n",
    "   \n",
    "2. Sollten Sie über eine Internet-Recherche, in den Tutorien, aus Lehrbüchern oder dem darauf folgenden seminaristischen Unterricht keine Antwort auf Ihre Frage erhalten, dürfen Sie gerne per E-Mail einen Sprechstundentermin bei Ihrem Dozierenden zur Besprechung Ihrer Frage vereinbaren. In diesem Fall müssen Sie den Dozierenden davon jedoch erst überzeugen, dass Sie sich bereits selbst aktiv und mit angemessenem Aufwand um eine Lösung bemüht haben."
   ]
  },
  {
   "cell_type": "markdown",
   "metadata": {},
   "source": [
    "## Hilfe auch selbst anbieten\n",
    "\n",
    "Bitte helfen Sie gegebenenfalls auch Ihren Mitstudierenden, indem Sie Ihre Lösungen untereinander vergleichen und diskutieren bzw. gegenwärtig noch schwächeren Mitstudierenden durch fragendes Hinführen zu einer möglichst selbständigen, eigenen Lösung verhelfen, sofern diese Sie darum bitten und Sie von ihren eigenen Bemühungen zur Problemlösung überzeugt haben."
   ]
  },
  {
   "cell_type": "markdown",
   "metadata": {},
   "source": [
    "# Jupyter-Notebooks\n",
    "\n",
    "Das Ihnen hier vorliegende Lehr- und Lernmaterial entstand jeweils aus einem Jupyter-Notebook [[Projekt Jupyter](https://jupyter.org)], woraus unter anderem interaktive Web-Seiten oder auch statische PDF-Dateien generiert werden können. Wir werden auch mit Jupyter-Notebooks programmieren und vorgefertigte Programme ausführen lassen und dafür die Programmiersprache [[Python](https://www.python.org)] verwenden.\n",
    "Jupyter-Notebooks stellen eine interaktive Programmierumgebung zur Verfügung, in der Sie Text, Gleichungen, Computercode und Visualisierungen miteinander mischen und kombinieren können. Es handelt sich hierbei um eine [[Open Source](https://de.wikipedia.org/wiki/Open_Source)] Technik, die sowohl auf lokalen Rechnern wie auch in der Cloud verfügbar ist. Mit den vorliegenden Jupyter-Notebooks können Sie auch unmittelbar interaktiv im Internet experimentieren, ohne dass Sie dafür ein personalisiertes Konto bei einem kommerziellen Cloud-Dienst einrichten müssen, wenn Sie dafür den freien, anonymen Cloud-Dienst [[Binder](https://mybinder.org)] nutzen und dort als GitHub-Repository ```p-hassenpflug/Informatik-1``` eingeben."
   ]
  },
  {
   "cell_type": "markdown",
   "metadata": {},
   "source": [
    "## Ausführen von Jupyter-Notebooks\n",
    "\n",
    "### Lokale Ausführung auf einem persönlichen Rechner oder im EDV-Labor\n",
    "\n",
    "Jupyter kann lokal auf den Arbeitsplatzrechnern der EDV-Labore der OTH am Hochschulstandort Weiden ausgeführt werden. Als lokale Python-Entwicklungsumgebung eignet sich zum besonders anschaulichen, vertiefenden Studium der Grundkonzepte insbesondere die frei verfügbare Software [[Thonny](https://thonny.org)]. Falls Sie bereits über fortgeschrittene Programmierkenntnisse verfügen sollten und die lokale Ausführung der Jupyter-Notebooks auf einem pesönlichen Rechner bevorzugen, sei Ihnen (optional und weiterführend) auch die Installation der Anaconda-Python-Distribution empfohlen (siehe [[Anaconda](https://www.anaconda.com/products/individual)] für Näheres). Bereits in der Programmierung erfahrene Studierende werden in der Regel statt mit dem für dieses Modul empfohlenen einfachen [[Thonny](https://thonny.org)] ggf. gleich mit einer professionellen integrierten Entwicklungsumgebung (engl. integrated development environment, IDE) arbeiten wollen, die vielfältig erweiterbar und an die individuellen Erfordernisse anpasspar ist. Dazu sei Ihnen im Falle von bereits vorhandenen grundlegenden Programmier-Vorkenntnissen und / oder besonderem Interesse auch die lokale Installation von [[Visual Studio Code](https://code.visualstudio.com)] mit den erforderlichen Erweiterungen („extensions“) für Python und Jupyter empfohlen. Vergewissern Sie sich in jedem Fall bei dem von Ihnen ausgewählten Entwicklungswerkzeug, dass Sie für dieses Modul eine Python 3 Version verwenden (das ist für Thonny bereits erfüllt).\n",
    "\n",
    "### Entfernte Ausführung durch Nutzung personalisierter, kommerzieller Cloud-Dienste\n",
    "\n",
    "Technisch können Sie den Praxisteil des Moduls sowie auch Ihre eigenen Experimente und Übungen alternativ auch im Internet in einer „(Compute) Cloud“ durchführen, indem Sie beispielsweise den [[Azure Jupyter-Service](https://notebooks.azure.com)] unter https://notebooks.azure.com nutzen, zu dem Sie als Hochschulmitglied einen kostenlosen Zugang erhalten können. Eine weitere kostenlos nutzbare, aber kommerzielle Alternative ist über den Cloud-Dienst [[Colaboratory](https://colab.research.google.com/notebooks/intro.ipynb\n",
    ")] verfügbar. Bitte beachten Sie dabei jedoch, dass Sie bei der Nutzung von außerhochschulischen IT-Diensten eigenverantwortlich auch an die für Sie als Hochschulmitglied geltenden Gesetze und Verordnungen, nicht nur die vertraglichen des Dienstleisters und seines Rechtssitzes, gebunden sind, beispielsweise die Regelungen zum Datenschutz, dem Urheberrecht und zur akademischen Integrität. Im Zweifelsfall bevorzugen Sie bitte die lokale Nutzung von Thonny und Jupyter oder klären Ihre Fragen im Vorfeld mit der Rechtsabteilung der Hochschule."
   ]
  },
  {
   "cell_type": "markdown",
   "metadata": {},
   "source": [
    "## Python-Version\n",
    "\n",
    "Wir werden in diesem Modul ausschließlich die Version 3 der Programmiersprache Python verwenden. Es gibt einige subtile Unterschiede zwischen den beiden Python-Versionen 2 und 3. Achten Sie deshalb bitte auf die jeweilige Python-Version, wenn Sie älteres Lehrmaterial aus unserer Bibliothek nutzen oder im Internet recherchieren, weil zu der Version 2 von Python noch immer sehr viele Quellen im Umlauf sind."
   ]
  },
  {
   "cell_type": "markdown",
   "metadata": {},
   "source": [
    "# Weitere Resourcen\n",
    "\n",
    "Im Internet sind viele Resourcen verfügbar, um das Programmieren, die Programmiersprache Python (z. B. gleich unmittelbar im Web-Broswer hier [[WebTigerJython](https://webtigerjython.ethz.ch)] oder hier [[Brython](https://brython.info)]) und auch [Jupyter Notebooks](https://jupyter.org) zu erlernen. Der beste Weg ist es, das für Sie relevante Material über eine Suchmaschine Ihres Vertrauens zu finden. Erinnern Sie sich bei Ihren Recherchen daran, dass wir Python 3 und nicht Python 2 verwenden. Daher sei empfohlen, jeder Ihrer Suchanfragen 'Python 3' hinzufügen.\n",
    "\n",
    "Eine nützliche Resource für Anfänger ist zudem die Webseite https://www.python-kurs.eu bzw. das diese Webseite begleitende Buch [Einführung in Python 3], welches für Hochschulmitglieder auch als E-Book unter https://www.hanser-elibrary.com/doi/book/10.3139/9783446453876 verfügbar ist. Für den Zugriff ist ggf. eine VPN-Verbindung in unser Hochschulnetzwerk erforderlich (siehe VPN-Anleitung auf der OTH-Webseite bzw. Einführungsveranstaltung zur Nutzung der Hochschulbibliothek)."
   ]
  },
  {
   "cell_type": "markdown",
   "metadata": {},
   "source": [
    "# Lizenzierung\n",
    "\n",
    "Das gesamte originäre, dieser Übersetzung und Anpassung zugrundeliegende Konzept und Material unterliegt dem Urheberrecht von Herrn Professor Garth N. Wells (gnw20@cam.ac.uk). Die vorliegende Übersetzung ins Deutsche und Anpassung an die speziellen Erfordernisse der Studiengänge an der Fakultät Wirtschaftsingenieurwesen an der OTH Amberg-Weiden erfolgte durch Peter Hassenpflug (p.hassenpflug@oth-aw.de).\n",
    "\n",
    "Der gesamte begleitende Text wird in der originären wie auch in dieser adaptierten deutschsprachigen Version unter der [[Creative Commons Attribution-ShareAlike 4.0 International Public License](https://creativecommons.org/licenses/by-sa/4.0/legalcode.de)] zur Verfügung gestellt.\n",
    "\n",
    "Der enthaltene Computer-Code wird unter der [[MIT-Lizenz](https://de.wikipedia.org/wiki/MIT-Lizenz)] veröffentlicht:\n",
    "\n",
    "```\n",
    "Die MIT-Lizenz (c) 2016 - 2019 Garth N. Wells:\n",
    "                   originäre Konzeption und originäre inhaltliche Ausarbeitung\n",
    "                   2019 - 2022 Peter Hassenpflug:\n",
    "                   deutschsprachige Übersetzung und Anpassung \n",
    "                   an die OTH Amberg-Weiden\n",
    "\n",
    "Hiermit wird unentgeltlich jeder Person, die eine Kopie der Software und der\n",
    "zugehörigen Dokumentationen (die „Software“) erhält, die Erlaubnis erteilt,\n",
    "sie uneingeschränkt zu nutzen, inklusive und ohne Ausnahme mit dem Recht,\n",
    "sie zu verwenden, zu kopieren, zu verändern, zusammenzufügen, zu veröffentlichen,\n",
    "zu verbreiten, zu unterlizenzieren und/oder zu verkaufen, und Personen, denen\n",
    "diese Software überlassen wird, diese Rechte zu verschaffen, unter den folgenden\n",
    "Bedingungen:\n",
    "\n",
    "Der obige Urheberrechtshinweis und dieser Genehmigungshinweis müssen in allen\n",
    "Kopien, Teilkopien oder wesentlichen Teilen der Software enthalten sein.\n",
    "\n",
    "DIE SOFTWARE WIRD „SO WIE SIE IST“ OHNE JEDE AUSDRÜCKLICHE ODER IMPLIZIERTE GARANTIE\n",
    "BEREITGESTELLT, EINSCHLIEẞLICH DER GARANTIE ZUR BENUTZUNG FÜR DEN VORGESEHENEN ODER\n",
    "EINEM BESTIMMTEN ZWECK SOWIE JEGLICHER RECHTSVERLETZUNG, JEDOCH NICHT DARAUF\n",
    "BESCHRÄNKT. IN KEINEM FALL SIND DIE AUTOREN ODER URHEBERRECHTSINHABER FÜR JEGLICHEN\n",
    "SCHADEN ODER SONSTIGE ANSPRÜCHE HAFTBAR ZU MACHEN, OB INFOLGE DER ERFÜLLUNG EINES\n",
    "VERTRAGES, EINES DELIKTES ODER ANDERES, WAS IM ZUSAMMENHANG MIT DER SOFTWARE ODER\n",
    "SONSTIGER VERWENDUNG DER SOFTWARE ENTSTANDEN IST.\n",
    "```"
   ]
  },
  {
   "cell_type": "markdown",
   "metadata": {},
   "source": [
    "#  Quellen und Referenzen\n",
    "\n",
    "- [CUED Whitepaper Prof. Dr. Andrew Gee] Andrew Gee: „Teaching of Computing in the Engineering Tripos / Report of the MCSG Working Party on the Teaching of Computing“, [Cambridge University Engineering Department](http://www.eng.cam.ac.uk), 11 May 2015 / 26 April 2015 (Rev. 2)\n",
    "\n",
    "- [CUED Part 1A Computing on GitHub] https://github.com/CambridgeEngineering/PartIA-Computing-Michaelmas\n",
    "\n",
    "- [Creative Commons Attribution-ShareAlike 4.0 International Public License] https://creativecommons.org/licenses/by-sa/4.0/legalcode.de\n",
    "\n",
    "- [MIT-Lizenz] https://de.wikipedia.org/wiki/MIT-Lizenz \n",
    "\n",
    "- [Open Source] https://de.wikipedia.org/wiki/Open_Source\n",
    "\n",
    "- [Python] https://www.python.org\n",
    "\n",
    "- [Thonny] https://thonny.org\n",
    "\n",
    "- [Anaconda] https://www.anaconda.com/products/individual\n",
    "\n",
    "- [Visual Studio Code] https://code.visualstudio.com\n",
    "\n",
    "- [Projekt Jupyter] https://jupyter.org\n",
    "\n",
    "- [ipynb-Viewer] https://nbviewer.jupyter.org online Jupyter-Notebook-Betrachter, wenn der von GitHub „klemmt“\n",
    "\n",
    "- [Binder] https://mybinder.org mit GitHub-Repository ```p-hassenpflug/Informatik-1```\n",
    " \n",
    "- [Azure Jupyter-Service] https://notebooks.azure.com\n",
    "\n",
    "- [Colaboratory] https://colab.research.google.com/notebooks/intro.ipynb\n",
    "\n",
    "- [WebTigerJython] https://webtigerjython.ethz.ch\n",
    "\n",
    "- [Brython] Eine Python 3 Implementierung für klientenseitige Web-Programierung: https://brython.info\n",
    "\n",
    "- [Einführung in Python 3] Bernd Klein: „Einführung in Python 3: für Ein- und Umsteiger“, 3., überarbeitete Auflage, Carl Hanser Verlag, München, 2018 - auch als E-Book verfügbar https://www.hanser-elibrary.com/doi/book/10.3139/9783446453876 mit begleitender Webseite https://www.python-kurs.eu"
   ]
  }
 ],
 "metadata": {
  "kernelspec": {
   "display_name": "Python 3",
   "language": "python",
   "name": "python3"
  },
  "language_info": {
   "codemirror_mode": {
    "name": "ipython",
    "version": 3
   },
   "file_extension": ".py",
   "mimetype": "text/x-python",
   "name": "python",
   "nbconvert_exporter": "python",
   "pygments_lexer": "ipython3",
   "version": "3.7.3"
  }
 },
 "nbformat": 4,
 "nbformat_minor": 2
}
